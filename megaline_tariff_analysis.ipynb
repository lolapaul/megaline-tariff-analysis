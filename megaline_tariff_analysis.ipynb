{
 "cells": [
  {
   "cell_type": "markdown",
   "metadata": {},
   "source": [
    "<div class=\"alert alert-block alert-success\">\n",
    "<b>Comentario del revisor</b> <a class=\"tocSkip\"></a>\n",
    "\n",
    "    \n",
    "Hola, David! Ya casi tienes listo el proyecto, solamente te deje un comentario  final en el apartado \"1.2 Agregar datos por usuario\"\n",
    "</div>"
   ]
  },
  {
   "cell_type": "markdown",
   "metadata": {},
   "source": [
    "<div class=\"alert alert-block alert-info\">\n",
    "<b>Respuesta del estudiante.</b> <a class=\"tocSkip\"></a>\n",
    "    \n",
    "Revise la sección 1.2 y no veo la recomendación o solicitud de posible corrección relacionada a agregar datos por usuario, me apoyas en saber bien donde esta.\n",
    "\n",
    "También, me ayudas comentando si con base en tu comentario fue mejor usar el método where en vez de     \n",
    "    \n",
    "También, en la parte donde utilice if´s para hacer un análisis, abajo puse un metodo usando where, me dices si ese 1.13 Estudia el comportamiento del usuario\n",
    "   \n",
    "</div>"
   ]
  },
  {
   "cell_type": "markdown",
   "metadata": {},
   "source": [
    "<div class=\"alert alert-block alert-success\">\n",
    "<b>Comentario del revisor</b> <a class=\"tocSkip\"></a>\n",
    "\n",
    "Una disculpa David, es en la sección 1.12. Lo coloqué en rojo.\n",
    "</div>"
   ]
  },
  {
   "cell_type": "markdown",
   "metadata": {},
   "source": [
    "<div class=\"alert alert-block alert-info\">\n",
    "<b>Respuesta del estudiante.</b> <a class=\"tocSkip\"></a>\n",
    "    \n",
    "Gracias por la aclaración. Ya hice la modificación tomando en cuenta gigabytes en vez de megas.\n",
    "Igual me ayudas a revisar si consideras es mejor metodo usar where en vez de los if´s\n",
    "   \n",
    "</div>"
   ]
  },
  {
   "cell_type": "markdown",
   "metadata": {
    "id": "3rYiDeEH0q0f"
   },
   "source": [
    "# ¿Cuál es la mejor tarifa?\n",
    "\n",
    "Trabajas como analista para el operador de telecomunicaciones Megaline. La empresa ofrece a sus clientes dos tarifas de prepago, Surf y Ultimate. El departamento comercial quiere saber cuál de las tarifas genera más ingresos para poder ajustar el presupuesto de publicidad.\n",
    "\n",
    "Vas a realizar un análisis preliminar de las tarifas basado en una selección de clientes relativamente pequeña. Tendrás los datos de 500 clientes de Megaline: quiénes son los clientes, de dónde son, qué tarifa usan, así como la cantidad de llamadas que hicieron y los mensajes de texto que enviaron en 2018. Tu trabajo es analizar el comportamiento de los clientes y determinar qué tarifa de prepago genera más ingresos."
   ]
  },
  {
   "cell_type": "markdown",
   "metadata": {},
   "source": [
    "¡Hola!\n",
    "\n",
    "Mi nombre es Tonatiuh Cruz. Me complace revisar tu proyecto hoy.\n",
    "\n",
    "Al identificar cualquier error inicialmente, simplemente los destacaré. Te animo a localizar y abordar los problemas de forma independiente como parte de tu preparación para un rol como data-scientist. En un entorno profesional, tu líder de equipo seguiría un enfoque similar. Si encuentras la tarea desafiante, proporcionaré una pista más específica en la próxima iteración.\n",
    "\n",
    "Encontrarás mis comentarios a continuación - **por favor no los muevas, modifiques o elimines**.\n",
    "\n",
    "Puedes encontrar mis comentarios en cajas verdes, amarillas o rojas como esta:\n",
    "\n",
    "<div class=\"alert alert-block alert-success\">\n",
    "<b>Comentario del revisor</b> <a class=\"tocSkip\"></a>\n",
    "\n",
    "Éxito. Todo está hecho correctamente.\n",
    "</div>\n",
    "\n",
    "<div class=\"alert alert-block alert-warning\">\n",
    "<b>Comentario del revisor</b> <a class=\"tocSkip\"></a>\n",
    "\n",
    "Observaciones. Algunas recomendaciones.\n",
    "</div>\n",
    "\n",
    "<div class=\"alert alert-block alert-danger\">\n",
    "<b>Comentario del revisor</b> <a class=\"tocSkip\"></a>\n",
    "\n",
    "Necesita corrección. El bloque requiere algunas correcciones. El trabajo no puede ser aceptado con comentarios en rojo.\n",
    "</div>\n",
    "\n",
    "Puedes responderme utilizando esto:\n",
    "\n",
    "<div class=\"alert alert-block alert-info\">\n",
    "<b>Respuesta del estudiante.</b> <a class=\"tocSkip\"></a>\n",
    "    \n",
    "Hola, hice todas las correciones practicamente pero me volvieron a subir el mismo archivo con los mismos comentarios, me ayudan con la actualización\n",
    "</div>"
   ]
  },
  {
   "cell_type": "markdown",
   "metadata": {
    "id": "VNddPNRQ0q0w"
   },
   "source": [
    "En este estudio voy a tener que analizar el comportamiento de los usuarios en relación a las llamadas hechas, mensajes enviados y megas gastados. Los usuarios contratan un plan en especifico, en este caso hay dos, el surf y el ultimate, cada uno tiene sus propias características y \"beneficios\". En el análisis veremos si podemos determinar que tan alejados se encuentran los usuarios del uso que le dean a cada uno de los beneficios, y el costo adicional en que incurren al alejarse de esto ( que ese costo sería ingreso para nosotros la empresa)"
   ]
  },
  {
   "cell_type": "markdown",
   "metadata": {
    "id": "MQi4IPy70q0y"
   },
   "source": [
    "## Inicialización"
   ]
  },
  {
   "cell_type": "code",
   "execution_count": 1,
   "metadata": {
    "id": "MtYIuBxu0q0z"
   },
   "outputs": [],
   "source": [
    "# Cargar todas las librerías\n",
    "import pandas as pd\n",
    "import numpy as np\n",
    "import seaborn as sns\n",
    "import matplotlib.pyplot as plt\n",
    "from scipy import stats as st\n",
    "import math\n"
   ]
  },
  {
   "cell_type": "markdown",
   "metadata": {},
   "source": [
    "<div class=\"alert alert-block alert-warning\">\n",
    "<b>Comentario revisor</b> <a class=\"tocSkip\"></a>\n",
    "\n",
    "\n",
    "Recomiendo cargar la libreria math. De esta manera, puedes realizar redondeos con otros métodos. \n",
    "</div>"
   ]
  },
  {
   "cell_type": "markdown",
   "metadata": {
    "id": "4ysWWC5i0q00"
   },
   "source": [
    "## Cargar datos"
   ]
  },
  {
   "cell_type": "code",
   "execution_count": 2,
   "metadata": {
    "id": "CCqPW7rS0q01"
   },
   "outputs": [],
   "source": [
    "# Carga los archivos de datos en diferentes DataFrames\n",
    "calls = pd.read_csv(\"/datasets/megaline_calls.csv\")\n",
    "internet = pd.read_csv(\"/datasets/megaline_internet.csv\")\n",
    "messages = pd.read_csv(\"/datasets/megaline_messages.csv\")\n",
    "plans = pd.read_csv(\"/datasets/megaline_plans.csv\")\n",
    "users = pd.read_csv(\"/datasets/megaline_users.csv\")\n",
    "\n",
    "\n"
   ]
  },
  {
   "cell_type": "code",
   "execution_count": 3,
   "metadata": {
    "colab": {
     "base_uri": "https://localhost:8080/"
    },
    "id": "-anCKq4LbgeR",
    "outputId": "ea86e459-135a-47ee-ad4f-4072919a4989"
   },
   "outputs": [
    {
     "name": "stdout",
     "output_type": "stream",
     "text": [
      "Calls dataframe\n",
      "         id  user_id   call_date  duration\n",
      "0   1000_93     1000  2018-12-27      8.52\n",
      "1  1000_145     1000  2018-12-27     13.66\n",
      "2  1000_247     1000  2018-12-27     14.48\n",
      "3  1000_309     1000  2018-12-28      5.76\n",
      "4  1000_380     1000  2018-12-30      4.22\n",
      "\n",
      "<class 'pandas.core.frame.DataFrame'>\n",
      "RangeIndex: 137735 entries, 0 to 137734\n",
      "Data columns (total 4 columns):\n",
      " #   Column     Non-Null Count   Dtype  \n",
      "---  ------     --------------   -----  \n",
      " 0   id         137735 non-null  object \n",
      " 1   user_id    137735 non-null  int64  \n",
      " 2   call_date  137735 non-null  object \n",
      " 3   duration   137735 non-null  float64\n",
      "dtypes: float64(1), int64(1), object(2)\n",
      "memory usage: 4.2+ MB\n",
      "None\n",
      "\n",
      "Internet dataframe\n",
      "         id  user_id session_date  mb_used\n",
      "0   1000_13     1000   2018-12-29    89.86\n",
      "1  1000_204     1000   2018-12-31     0.00\n",
      "2  1000_379     1000   2018-12-28   660.40\n",
      "3  1000_413     1000   2018-12-26   270.99\n",
      "4  1000_442     1000   2018-12-27   880.22\n",
      "\n",
      "<class 'pandas.core.frame.DataFrame'>\n",
      "RangeIndex: 104825 entries, 0 to 104824\n",
      "Data columns (total 4 columns):\n",
      " #   Column        Non-Null Count   Dtype  \n",
      "---  ------        --------------   -----  \n",
      " 0   id            104825 non-null  object \n",
      " 1   user_id       104825 non-null  int64  \n",
      " 2   session_date  104825 non-null  object \n",
      " 3   mb_used       104825 non-null  float64\n",
      "dtypes: float64(1), int64(1), object(2)\n",
      "memory usage: 3.2+ MB\n",
      "None\n",
      "\n",
      "Messages dataframe\n",
      "         id  user_id message_date\n",
      "0  1000_125     1000   2018-12-27\n",
      "1  1000_160     1000   2018-12-31\n",
      "2  1000_223     1000   2018-12-31\n",
      "3  1000_251     1000   2018-12-27\n",
      "4  1000_255     1000   2018-12-26\n",
      "\n",
      "<class 'pandas.core.frame.DataFrame'>\n",
      "RangeIndex: 76051 entries, 0 to 76050\n",
      "Data columns (total 3 columns):\n",
      " #   Column        Non-Null Count  Dtype \n",
      "---  ------        --------------  ----- \n",
      " 0   id            76051 non-null  object\n",
      " 1   user_id       76051 non-null  int64 \n",
      " 2   message_date  76051 non-null  object\n",
      "dtypes: int64(1), object(2)\n",
      "memory usage: 1.7+ MB\n",
      "None\n",
      "\n",
      "Plans dataframe\n",
      "   messages_included  mb_per_month_included  minutes_included  \\\n",
      "0                 50                  15360               500   \n",
      "1               1000                  30720              3000   \n",
      "\n",
      "   usd_monthly_pay  usd_per_gb  usd_per_message  usd_per_minute plan_name  \n",
      "0               20          10             0.03            0.03      surf  \n",
      "1               70           7             0.01            0.01  ultimate  \n",
      "\n",
      "<class 'pandas.core.frame.DataFrame'>\n",
      "RangeIndex: 2 entries, 0 to 1\n",
      "Data columns (total 8 columns):\n",
      " #   Column                 Non-Null Count  Dtype  \n",
      "---  ------                 --------------  -----  \n",
      " 0   messages_included      2 non-null      int64  \n",
      " 1   mb_per_month_included  2 non-null      int64  \n",
      " 2   minutes_included       2 non-null      int64  \n",
      " 3   usd_monthly_pay        2 non-null      int64  \n",
      " 4   usd_per_gb             2 non-null      int64  \n",
      " 5   usd_per_message        2 non-null      float64\n",
      " 6   usd_per_minute         2 non-null      float64\n",
      " 7   plan_name              2 non-null      object \n",
      "dtypes: float64(2), int64(5), object(1)\n",
      "memory usage: 256.0+ bytes\n",
      "None\n",
      "\n",
      "Users dataframe\n",
      "   user_id first_name  last_name  age                                   city  \\\n",
      "0     1000   Anamaria      Bauer   45  Atlanta-Sandy Springs-Roswell, GA MSA   \n",
      "1     1001     Mickey  Wilkerson   28        Seattle-Tacoma-Bellevue, WA MSA   \n",
      "2     1002     Carlee    Hoffman   36   Las Vegas-Henderson-Paradise, NV MSA   \n",
      "3     1003   Reynaldo    Jenkins   52                          Tulsa, OK MSA   \n",
      "4     1004    Leonila   Thompson   40        Seattle-Tacoma-Bellevue, WA MSA   \n",
      "\n",
      "     reg_date      plan churn_date  \n",
      "0  2018-12-24  ultimate        NaN  \n",
      "1  2018-08-13      surf        NaN  \n",
      "2  2018-10-21      surf        NaN  \n",
      "3  2018-01-28      surf        NaN  \n",
      "4  2018-05-23      surf        NaN  \n",
      "\n",
      "<class 'pandas.core.frame.DataFrame'>\n",
      "RangeIndex: 500 entries, 0 to 499\n",
      "Data columns (total 8 columns):\n",
      " #   Column      Non-Null Count  Dtype \n",
      "---  ------      --------------  ----- \n",
      " 0   user_id     500 non-null    int64 \n",
      " 1   first_name  500 non-null    object\n",
      " 2   last_name   500 non-null    object\n",
      " 3   age         500 non-null    int64 \n",
      " 4   city        500 non-null    object\n",
      " 5   reg_date    500 non-null    object\n",
      " 6   plan        500 non-null    object\n",
      " 7   churn_date  34 non-null     object\n",
      "dtypes: int64(2), object(6)\n",
      "memory usage: 31.4+ KB\n",
      "None\n"
     ]
    }
   ],
   "source": [
    "# Mostramos todas las tablas, su información relevante para determinar valores ausentes o si el tipo\n",
    "# de dato de cada columna esta correcto o tenemos que hacer alguna modificación\n",
    "print(\"Calls dataframe\")\n",
    "print(calls.head())\n",
    "print()\n",
    "print(calls.info())\n",
    "print()\n",
    "print(\"Internet dataframe\")\n",
    "print(internet.head())\n",
    "print()\n",
    "print(internet.info())\n",
    "print()\n",
    "print(\"Messages dataframe\")\n",
    "print(messages.head())\n",
    "print()\n",
    "print(messages.info())\n",
    "print()\n",
    "print(\"Plans dataframe\")\n",
    "print(plans.head())\n",
    "print()\n",
    "print(plans.info())\n",
    "print()\n",
    "print(\"Users dataframe\")\n",
    "print(users.head())\n",
    "print()\n",
    "print(users.info())\n"
   ]
  },
  {
   "cell_type": "markdown",
   "metadata": {
    "id": "69qqoJ3r0q01"
   },
   "source": [
    "## Preparar los datos"
   ]
  },
  {
   "cell_type": "markdown",
   "metadata": {
    "id": "vUuZw80S0q01"
   },
   "source": [
    "Vamos a revisar cada una de las tablas y ver si es necesario corregir algo o agregar alguna infomación"
   ]
  },
  {
   "cell_type": "markdown",
   "metadata": {
    "id": "ohBhimvH0q01"
   },
   "source": [
    "## Tarifas"
   ]
  },
  {
   "cell_type": "markdown",
   "metadata": {
    "id": "GptqP3Q40q02"
   },
   "source": [
    "Imprime la información general/resumida sobre el DataFrame de las tarifas\n",
    "\n"
   ]
  },
  {
   "cell_type": "code",
   "execution_count": 4,
   "metadata": {
    "colab": {
     "base_uri": "https://localhost:8080/"
    },
    "id": "64xzjwL70q02",
    "outputId": "8b4cf74d-ca8b-4267-f1fd-2eb190edc28c"
   },
   "outputs": [
    {
     "name": "stdout",
     "output_type": "stream",
     "text": [
      "   messages_included  mb_per_month_included  minutes_included  \\\n",
      "0                 50                  15360               500   \n",
      "1               1000                  30720              3000   \n",
      "\n",
      "   usd_monthly_pay  usd_per_gb  usd_per_message  usd_per_minute plan_name  \n",
      "0               20          10             0.03            0.03      surf  \n",
      "1               70           7             0.01            0.01  ultimate  \n",
      "\n",
      "\n",
      "<class 'pandas.core.frame.DataFrame'>\n",
      "RangeIndex: 2 entries, 0 to 1\n",
      "Data columns (total 8 columns):\n",
      " #   Column                 Non-Null Count  Dtype  \n",
      "---  ------                 --------------  -----  \n",
      " 0   messages_included      2 non-null      int64  \n",
      " 1   mb_per_month_included  2 non-null      int64  \n",
      " 2   minutes_included       2 non-null      int64  \n",
      " 3   usd_monthly_pay        2 non-null      int64  \n",
      " 4   usd_per_gb             2 non-null      int64  \n",
      " 5   usd_per_message        2 non-null      float64\n",
      " 6   usd_per_minute         2 non-null      float64\n",
      " 7   plan_name              2 non-null      object \n",
      "dtypes: float64(2), int64(5), object(1)\n",
      "memory usage: 256.0+ bytes\n"
     ]
    }
   ],
   "source": [
    "# Imprime una muestra de los datos para las tarifas\n",
    "print(plans.head())\n",
    "print()\n",
    "print()\n",
    "plans.info()\n",
    "\n",
    "\n"
   ]
  },
  {
   "cell_type": "markdown",
   "metadata": {
    "id": "mEc_3_hs0q02"
   },
   "source": [
    "Revisando la información del dataframe \"plans\" que contiene los datos sobre las tarifas no encuentro ningún problema. Los tipos de datos son adecuados, no tenemos valore nulos (NaN). La información es solamente una descripción de los dos planes, el surf y el ultimate, por ende, sólo contiene dos filas, en una tiene toda la información del plan surf y en otra del plan ultimate."
   ]
  },
  {
   "cell_type": "markdown",
   "metadata": {
    "id": "R3C05i1l0q03"
   },
   "source": [
    "## Corregir datos"
   ]
  },
  {
   "cell_type": "markdown",
   "metadata": {
    "id": "bIi8StZI0q03"
   },
   "source": [
    "No es necesario corregir algun dato"
   ]
  },
  {
   "cell_type": "markdown",
   "metadata": {
    "id": "LJir7bml0q03"
   },
   "source": [
    "## Enriquecer los datos"
   ]
  },
  {
   "cell_type": "markdown",
   "metadata": {
    "id": "eqADpCfg0q04"
   },
   "source": [
    "Considero que no es necesario agregar algun dato a esta tabla"
   ]
  },
  {
   "cell_type": "markdown",
   "metadata": {
    "id": "1n2X6WXf0q04"
   },
   "source": [
    "## Usuarios/as"
   ]
  },
  {
   "cell_type": "code",
   "execution_count": 5,
   "metadata": {
    "colab": {
     "base_uri": "https://localhost:8080/"
    },
    "id": "2NgjWFqx0q05",
    "outputId": "6f03bb77-3484-42a3-8701-549956edaf50"
   },
   "outputs": [
    {
     "name": "stdout",
     "output_type": "stream",
     "text": [
      "   user_id first_name  last_name  age                                   city  \\\n",
      "0     1000   Anamaria      Bauer   45  Atlanta-Sandy Springs-Roswell, GA MSA   \n",
      "1     1001     Mickey  Wilkerson   28        Seattle-Tacoma-Bellevue, WA MSA   \n",
      "2     1002     Carlee    Hoffman   36   Las Vegas-Henderson-Paradise, NV MSA   \n",
      "3     1003   Reynaldo    Jenkins   52                          Tulsa, OK MSA   \n",
      "4     1004    Leonila   Thompson   40        Seattle-Tacoma-Bellevue, WA MSA   \n",
      "\n",
      "     reg_date      plan churn_date  \n",
      "0  2018-12-24  ultimate        NaN  \n",
      "1  2018-08-13      surf        NaN  \n",
      "2  2018-10-21      surf        NaN  \n",
      "3  2018-01-28      surf        NaN  \n",
      "4  2018-05-23      surf        NaN  \n",
      "\n",
      "\n",
      "<class 'pandas.core.frame.DataFrame'>\n",
      "RangeIndex: 500 entries, 0 to 499\n",
      "Data columns (total 8 columns):\n",
      " #   Column      Non-Null Count  Dtype \n",
      "---  ------      --------------  ----- \n",
      " 0   user_id     500 non-null    int64 \n",
      " 1   first_name  500 non-null    object\n",
      " 2   last_name   500 non-null    object\n",
      " 3   age         500 non-null    int64 \n",
      " 4   city        500 non-null    object\n",
      " 5   reg_date    500 non-null    object\n",
      " 6   plan        500 non-null    object\n",
      " 7   churn_date  34 non-null     object\n",
      "dtypes: int64(2), object(6)\n",
      "memory usage: 31.4+ KB\n",
      "\n",
      "\n",
      "           user_id         age\n",
      "count   500.000000  500.000000\n",
      "mean   1249.500000   45.486000\n",
      "std     144.481833   16.972269\n",
      "min    1000.000000   18.000000\n",
      "25%    1124.750000   30.000000\n",
      "50%    1249.500000   46.000000\n",
      "75%    1374.250000   61.000000\n",
      "max    1499.000000   75.000000\n",
      "\n"
     ]
    }
   ],
   "source": [
    "# Imprime la información general/resumida sobre el DataFrame de usuarios\n",
    "print(users.head())\n",
    "print()\n",
    "print()\n",
    "users.info()\n",
    "print()\n",
    "print()\n",
    "print(users.describe())\n",
    "print()\n",
    "\n"
   ]
  },
  {
   "cell_type": "code",
   "execution_count": 6,
   "metadata": {
    "colab": {
     "base_uri": "https://localhost:8080/"
    },
    "id": "FCJ81kNJ4iiS",
    "outputId": "4701d764-afb1-4ac2-fb05-0cc0788a8a59"
   },
   "outputs": [
    {
     "name": "stdout",
     "output_type": "stream",
     "text": [
      "user_id       0\n",
      "first_name    0\n",
      "last_name     0\n",
      "age           0\n",
      "city          0\n",
      "reg_date      0\n",
      "plan          0\n",
      "churn_date    0\n",
      "dtype: int64\n"
     ]
    }
   ],
   "source": [
    "print(users[users[\"user_id\"].duplicated()].count())"
   ]
  },
  {
   "cell_type": "code",
   "execution_count": 7,
   "metadata": {
    "colab": {
     "base_uri": "https://localhost:8080/"
    },
    "id": "1IN1L9uh0q05",
    "outputId": "7b996cea-45d1-4102-cbd7-d1802260e2fc"
   },
   "outputs": [
    {
     "name": "stdout",
     "output_type": "stream",
     "text": [
      "     user_id first_name   last_name  age  \\\n",
      "345     1345   Pasquale    Caldwell   26   \n",
      "195     1195        Roy       Velez   60   \n",
      "151     1151      Ralph      Monroe   21   \n",
      "286     1286      Casie   Castaneda   52   \n",
      "390     1390    Deloras  Strickland   61   \n",
      "413     1413      Andre     Hensley   38   \n",
      "402     1402      Jesus       Berry   25   \n",
      "325     1325     Cleora       Lyons   43   \n",
      "456     1456    Seymour       Olsen   66   \n",
      "492     1492      Elvie       Jones   63   \n",
      "173     1173    Tristan        Cain   27   \n",
      "380     1380    Lajuana      Kelley   35   \n",
      "364     1364    Clarine      Bonner   75   \n",
      "383     1383  Margarito       Mccoy   52   \n",
      "420     1420     Season       Hardy   27   \n",
      "\n",
      "                                            city    reg_date      plan  \\\n",
      "345       Los Angeles-Long Beach-Anaheim, CA MSA  2018-07-12      surf   \n",
      "195      Portland-Vancouver-Hillsboro, OR-WA MSA  2018-06-09      surf   \n",
      "151    New York-Newark-Jersey City, NY-NJ-PA MSA  2018-03-20      surf   \n",
      "286                    New Haven-Milford, CT MSA  2018-12-07      surf   \n",
      "390       Chicago-Naperville-Elgin, IL-IN-WI MSA  2018-03-11  ultimate   \n",
      "413                          Bakersfield, CA MSA  2018-07-12      surf   \n",
      "402    New York-Newark-Jersey City, NY-NJ-PA MSA  2018-06-11      surf   \n",
      "325          Dallas-Fort Worth-Arlington, TX MSA  2018-06-26      surf   \n",
      "456  Minneapolis-St. Paul-Bloomington, MN-WI MSA  2018-06-02  ultimate   \n",
      "492      Portland-Vancouver-Hillsboro, OR-WA MSA  2018-03-07      surf   \n",
      "173         Oxnard-Thousand Oaks-Ventura, CA MSA  2018-09-28      surf   \n",
      "380       San Jose-Sunnyvale-Santa Clara, CA MSA  2018-09-04  ultimate   \n",
      "364       San Diego-Chula Vista-Carlsbad, CA MSA  2018-08-09      surf   \n",
      "383      Tampa-St. Petersburg-Clearwater, FL MSA  2018-10-10  ultimate   \n",
      "420       San Francisco-Oakland-Berkeley, CA MSA  2018-02-22  ultimate   \n",
      "\n",
      "     churn_date  \n",
      "345         NaN  \n",
      "195         NaN  \n",
      "151         NaN  \n",
      "286         NaN  \n",
      "390         NaN  \n",
      "413         NaN  \n",
      "402  2018-12-26  \n",
      "325         NaN  \n",
      "456         NaN  \n",
      "492         NaN  \n",
      "173         NaN  \n",
      "380         NaN  \n",
      "364         NaN  \n",
      "383         NaN  \n",
      "420         NaN  \n"
     ]
    }
   ],
   "source": [
    "# Imprime una muestra de datos para usuarios\n",
    "print(users.sample(15))\n",
    "\n"
   ]
  },
  {
   "cell_type": "markdown",
   "metadata": {
    "id": "dCZoUq4f0q06"
   },
   "source": [
    "El dataframe \"users\" contiene 500 registros de usuarios, se incluye entre otras cosas su nombre y apellido, la edad, la ciudad, fecha de suscripción, el plan que contrato, el tipo de plan contratado (surf o ultimate) y también el \"churn_date\" que es la fecha en el usuario dejo de usar el servicio. Sobre esto último, se indica que si aparece el valor con NaN es que la tarifa se estaba usando cuando se extrajo la base de datos, entonces, eso podría indicar que el usuario sigue activo, es decir, de la muestra de los 500 usuarios, 466 son usuarios activos, y 34 ya no lo son. Es interesante este punto, porque al saber que \"la tarifa se estaba usando\" pude indicador dos cosas, o que todavia no se termina el mes donde el pago pero ya el siguiente mes no volverá a contratar, o puede ser que el usuario va a seguir con el servicio. Con la información que tenemos no podemos saber cual de las dos premisas es verdadera.\n",
    "\n",
    "Respecto al datatype veo que practicamente todos estan bien asignados, a excepción de la columna \"reg_date\" y \"churn_date\" la cual tienen el tipo de dato objeto, entonces, podría ser buena opción cambiarlas a datatime."
   ]
  },
  {
   "cell_type": "markdown",
   "metadata": {},
   "source": [
    "<div class=\"alert alert-block alert-success\">\n",
    "<b>Comentario revisor</b> <a class=\"tocSkip\"></a>\n",
    "\n",
    "Muy buena conclusión sobre la variable churn_date. Recuerda que siempre puedes usar otras funciones para seguir explorando las variables que te generen inquietud. Por ejemplo, podrías usar value_counts() para ver en que fechas exactamente terminaron sus planes las 34 personas. \n",
    "</div>"
   ]
  },
  {
   "cell_type": "code",
   "execution_count": 8,
   "metadata": {},
   "outputs": [
    {
     "data": {
      "text/plain": [
       "2018-12-18    3\n",
       "2018-11-14    2\n",
       "2018-12-19    2\n",
       "2018-12-31    2\n",
       "2018-12-12    1\n",
       "2018-12-30    1\n",
       "2018-10-13    1\n",
       "2018-11-29    1\n",
       "2018-12-26    1\n",
       "2018-11-18    1\n",
       "2018-10-07    1\n",
       "2018-07-31    1\n",
       "2018-11-11    1\n",
       "2018-12-15    1\n",
       "2018-10-03    1\n",
       "2018-12-22    1\n",
       "2018-11-24    1\n",
       "2018-10-22    1\n",
       "2018-11-16    1\n",
       "2018-11-30    1\n",
       "Name: churn_date, dtype: int64"
      ]
     },
     "execution_count": 8,
     "metadata": {},
     "output_type": "execute_result"
    }
   ],
   "source": [
    "# Esto es para revisar en que fecha terminan sus planes las 34 personas de las\n",
    "# cuales si tenemos información de su finalización\n",
    "users_finished = users[\"churn_date\"].value_counts()\n",
    "users_finished.head(20)\n"
   ]
  },
  {
   "cell_type": "markdown",
   "metadata": {
    "id": "BX5FQh_I0q06"
   },
   "source": [
    "### Corregir los datos"
   ]
  },
  {
   "cell_type": "code",
   "execution_count": 9,
   "metadata": {
    "id": "gYqfjPaQmKvy"
   },
   "outputs": [],
   "source": [
    "# Cambiar el nombre de la columna plan por plan_name\n",
    "users = users.rename(columns={\"plan\":\"plan_name\"})"
   ]
  },
  {
   "cell_type": "code",
   "execution_count": 10,
   "metadata": {
    "id": "yUqX-K0C0q07"
   },
   "outputs": [],
   "source": [
    "# Cambiar al datatype por datatime en las columnas \"reg_date\" y \"churn_name\"\n",
    "users[\"reg_date\"] = pd.to_datetime(users[\"reg_date\"],format=\"%Y-%m-%d\")\n",
    "users[\"churn_date\"] = pd.to_datetime(users[\"churn_date\"],format=\"%Y-%m-%d\")\n"
   ]
  },
  {
   "cell_type": "markdown",
   "metadata": {},
   "source": [
    "<div class=\"alert alert-block alert-warning\">\n",
    "<b>Comentario Revisor</b> <a class=\"tocSkip\"></a>\n",
    "\n",
    "En todos los casos en los que cambiamos el tipo de variable a datetime, te recomiendo agregar el argumento \"format='%Y-%m-%d'\" dentro de la función to_date(). De esta manera, puedes asegurarte siempre de que el formato de la fecha que deseas cambiar sea el que necesitas.\n",
    "</div>"
   ]
  },
  {
   "cell_type": "code",
   "execution_count": 11,
   "metadata": {
    "colab": {
     "base_uri": "https://localhost:8080/"
    },
    "id": "cFq-T6LztR0S",
    "outputId": "5e244f6d-64d5-471b-d6d8-b5874c8613a1"
   },
   "outputs": [
    {
     "name": "stdout",
     "output_type": "stream",
     "text": [
      "<class 'pandas.core.frame.DataFrame'>\n",
      "RangeIndex: 500 entries, 0 to 499\n",
      "Data columns (total 8 columns):\n",
      " #   Column      Non-Null Count  Dtype         \n",
      "---  ------      --------------  -----         \n",
      " 0   user_id     500 non-null    int64         \n",
      " 1   first_name  500 non-null    object        \n",
      " 2   last_name   500 non-null    object        \n",
      " 3   age         500 non-null    int64         \n",
      " 4   city        500 non-null    object        \n",
      " 5   reg_date    500 non-null    datetime64[ns]\n",
      " 6   plan_name   500 non-null    object        \n",
      " 7   churn_date  34 non-null     datetime64[ns]\n",
      "dtypes: datetime64[ns](2), int64(2), object(4)\n",
      "memory usage: 31.4+ KB\n"
     ]
    }
   ],
   "source": [
    "users.info()"
   ]
  },
  {
   "cell_type": "markdown",
   "metadata": {},
   "source": [
    "En el codigo de abajo marcado por # lo hice porque queria rellenar los NaN de la \n",
    "columna churn_name y así poder realizar ciertos cálculos con ella, sin embargo, mi tutor recomendo no hacer porque era llenar el dataset con datos no reales y eso podria sesgar mis hallazgos. Deje el código solo para entender que queria hacer y el porque no era recomendable"
   ]
  },
  {
   "cell_type": "code",
   "execution_count": 12,
   "metadata": {
    "id": "4srqgmEhuthc"
   },
   "outputs": [],
   "source": [
    "# Este codigo es para cambiar los valores vacios que había en la columna churn_date por una fecha que fuera un mes despues\n",
    "# a la fecha de la columna \"reg_date\" esto para calcular cuanto tiempo han estado activos los usuarios, haciendo una suposición\n",
    "# que por lo menos estarán un mes, ya que dura un mes los beneficios una vez que pagan\n",
    "#from pandas.tseries.offsets import DateOffset\n",
    "#users[\"churn_date\"] = users[\"churn_date\"].fillna(users[\"reg_date\"] + DateOffset(months=1))"
   ]
  },
  {
   "cell_type": "markdown",
   "metadata": {},
   "source": [
    "<div class=\"alert alert-block alert-warning\">\n",
    "<b>Comentario revisor</b> <a class=\"tocSkip\"></a>\n",
    "\n",
    "Es una buena práctica importar todas las librerías al inicio del código. \n",
    "</div>"
   ]
  },
  {
   "cell_type": "markdown",
   "metadata": {},
   "source": [
    "<div class=\"alert alert-block alert-danger\">\n",
    "\n",
    "<b>Comentario revisor</b> <a class=\"tocSkip\"></a>\n",
    "\n",
    "Cuando realizamos análisis de los datos no es buena práctica llenar variables de la dataset con valores no reales dado que pueden sesgar los resultados y hallazgos encontrados. En estos casos se recomienda identificarlos y mantenerlos en consideración cuando obtengamos conclusiones. \n",
    "\n",
    "</div>"
   ]
  },
  {
   "cell_type": "code",
   "execution_count": 13,
   "metadata": {
    "colab": {
     "base_uri": "https://localhost:8080/"
    },
    "id": "qSoKe8ng6gw3",
    "outputId": "4bd3b7e9-34a5-45d3-edad-7e32bb602192"
   },
   "outputs": [
    {
     "name": "stdout",
     "output_type": "stream",
     "text": [
      "<class 'pandas.core.frame.DataFrame'>\n",
      "RangeIndex: 500 entries, 0 to 499\n",
      "Data columns (total 8 columns):\n",
      " #   Column      Non-Null Count  Dtype         \n",
      "---  ------      --------------  -----         \n",
      " 0   user_id     500 non-null    int64         \n",
      " 1   first_name  500 non-null    object        \n",
      " 2   last_name   500 non-null    object        \n",
      " 3   age         500 non-null    int64         \n",
      " 4   city        500 non-null    object        \n",
      " 5   reg_date    500 non-null    datetime64[ns]\n",
      " 6   plan_name   500 non-null    object        \n",
      " 7   churn_date  34 non-null     datetime64[ns]\n",
      "dtypes: datetime64[ns](2), int64(2), object(4)\n",
      "memory usage: 31.4+ KB\n"
     ]
    }
   ],
   "source": [
    "users.info()"
   ]
  },
  {
   "cell_type": "markdown",
   "metadata": {
    "id": "ycwuARJp0q07"
   },
   "source": [
    "### Enriquecer los datos"
   ]
  },
  {
   "cell_type": "code",
   "execution_count": 14,
   "metadata": {
    "id": "iq0AaBS90q08"
   },
   "outputs": [],
   "source": [
    "# Vamos a crear una columna para ver cuanto dias estuvieron como usuarios activos\n",
    "\n",
    "users[\"active_time\"] = users[\"churn_date\"] - users[\"reg_date\"]"
   ]
  },
  {
   "cell_type": "code",
   "execution_count": 15,
   "metadata": {
    "colab": {
     "base_uri": "https://localhost:8080/"
    },
    "id": "pbSQDi1C-q03",
    "outputId": "3711bc97-d95a-4d9b-de0f-64fc471629e7"
   },
   "outputs": [
    {
     "name": "stdout",
     "output_type": "stream",
     "text": [
      "   user_id first_name  last_name  age                                   city  \\\n",
      "0     1000   Anamaria      Bauer   45  Atlanta-Sandy Springs-Roswell, GA MSA   \n",
      "1     1001     Mickey  Wilkerson   28        Seattle-Tacoma-Bellevue, WA MSA   \n",
      "2     1002     Carlee    Hoffman   36   Las Vegas-Henderson-Paradise, NV MSA   \n",
      "3     1003   Reynaldo    Jenkins   52                          Tulsa, OK MSA   \n",
      "4     1004    Leonila   Thompson   40        Seattle-Tacoma-Bellevue, WA MSA   \n",
      "\n",
      "    reg_date plan_name churn_date active_time  \n",
      "0 2018-12-24  ultimate        NaT         NaT  \n",
      "1 2018-08-13      surf        NaT         NaT  \n",
      "2 2018-10-21      surf        NaT         NaT  \n",
      "3 2018-01-28      surf        NaT         NaT  \n",
      "4 2018-05-23      surf        NaT         NaT  \n"
     ]
    }
   ],
   "source": [
    "print(users.head())"
   ]
  },
  {
   "cell_type": "code",
   "execution_count": 16,
   "metadata": {
    "colab": {
     "base_uri": "https://localhost:8080/"
    },
    "id": "tO3ZaoAv-v_0",
    "outputId": "16eaefc6-e8ac-4591-9c8a-e15926c1d86f"
   },
   "outputs": [
    {
     "data": {
      "text/plain": [
       "Timedelta('141 days 15:31:45.882352942')"
      ]
     },
     "execution_count": 16,
     "metadata": {},
     "output_type": "execute_result"
    }
   ],
   "source": [
    "# El promedio de dias activos\n",
    "\n",
    "average_active = users[\"active_time\"].mean()\n",
    "average_active"
   ]
  },
  {
   "cell_type": "code",
   "execution_count": 17,
   "metadata": {},
   "outputs": [
    {
     "data": {
      "text/plain": [
       "Timedelta('152 days 00:00:00')"
      ]
     },
     "execution_count": 17,
     "metadata": {},
     "output_type": "execute_result"
    }
   ],
   "source": [
    "median_active = users[\"active_time\"].median()\n",
    "median_active"
   ]
  },
  {
   "cell_type": "markdown",
   "metadata": {},
   "source": [
    "<div class=\"alert alert-block alert-warning\">\n",
    "<b>Comentario revisor</b> <a class=\"tocSkip\"></a>\n",
    "\n",
    "Si bien es buena idea sacar el promedio de dias activos, al llenar el valor de los ususarios que actualmente se encuentran activos con una fecha no real el valor calculado no reflejaría la realidad completamente. \n",
    "</div>"
   ]
  },
  {
   "cell_type": "markdown",
   "metadata": {
    "id": "o7MeKCid0q08"
   },
   "source": [
    "## Llamadas"
   ]
  },
  {
   "cell_type": "code",
   "execution_count": 18,
   "metadata": {
    "colab": {
     "base_uri": "https://localhost:8080/"
    },
    "id": "6dDlnoDm0q08",
    "outputId": "924d56a8-f314-42f4-b589-b9cb32a9657f"
   },
   "outputs": [
    {
     "name": "stdout",
     "output_type": "stream",
     "text": [
      "         id  user_id   call_date  duration\n",
      "0   1000_93     1000  2018-12-27      8.52\n",
      "1  1000_145     1000  2018-12-27     13.66\n",
      "2  1000_247     1000  2018-12-27     14.48\n",
      "3  1000_309     1000  2018-12-28      5.76\n",
      "4  1000_380     1000  2018-12-30      4.22\n",
      "\n",
      "\n",
      "<class 'pandas.core.frame.DataFrame'>\n",
      "RangeIndex: 137735 entries, 0 to 137734\n",
      "Data columns (total 4 columns):\n",
      " #   Column     Non-Null Count   Dtype  \n",
      "---  ------     --------------   -----  \n",
      " 0   id         137735 non-null  object \n",
      " 1   user_id    137735 non-null  int64  \n",
      " 2   call_date  137735 non-null  object \n",
      " 3   duration   137735 non-null  float64\n",
      "dtypes: float64(1), int64(1), object(2)\n",
      "memory usage: 4.2+ MB\n",
      "\n",
      "\n",
      "             user_id       duration\n",
      "count  137735.000000  137735.000000\n",
      "mean     1247.658046       6.745927\n",
      "std       139.416268       5.839241\n",
      "min      1000.000000       0.000000\n",
      "25%      1128.000000       1.290000\n",
      "50%      1247.000000       5.980000\n",
      "75%      1365.000000      10.690000\n",
      "max      1499.000000      37.600000\n",
      "\n"
     ]
    }
   ],
   "source": [
    "# Imprime la información general/resumida sobre el DataFrame de las llamadas\n",
    "print(calls.head())\n",
    "print()\n",
    "print()\n",
    "calls.info()\n",
    "print()\n",
    "print()\n",
    "print(calls.describe())\n",
    "print()\n",
    "\n"
   ]
  },
  {
   "cell_type": "code",
   "execution_count": 19,
   "metadata": {
    "colab": {
     "base_uri": "https://localhost:8080/"
    },
    "id": "6W37f8mg4Rmm",
    "outputId": "102e72e4-6698-44b3-f544-def66fe1defb"
   },
   "outputs": [
    {
     "name": "stdout",
     "output_type": "stream",
     "text": [
      "id           0\n",
      "user_id      0\n",
      "call_date    0\n",
      "duration     0\n",
      "dtype: int64\n"
     ]
    }
   ],
   "source": [
    "print(calls[calls[\"id\"].duplicated()].count())"
   ]
  },
  {
   "cell_type": "code",
   "execution_count": 20,
   "metadata": {
    "colab": {
     "base_uri": "https://localhost:8080/"
    },
    "id": "kuh1vlNB0q09",
    "outputId": "32497db8-e35a-4c13-bda7-d847f1f4c990"
   },
   "outputs": [
    {
     "name": "stdout",
     "output_type": "stream",
     "text": [
      "               id  user_id   call_date  duration\n",
      "72920    1257_660     1257  2018-06-07     17.82\n",
      "114665   1401_489     1401  2018-10-08      6.79\n",
      "26758     1101_85     1101  2018-06-16     12.23\n",
      "91559    1329_642     1329  2018-09-13      0.00\n",
      "69250    1248_157     1248  2018-12-06      4.67\n",
      "10174     1046_40     1046  2018-10-19      4.05\n",
      "126237   1447_102     1447  2018-10-28     18.80\n",
      "132671   1478_125     1478  2018-12-17      0.00\n",
      "106571   1377_123     1377  2018-08-26     19.73\n",
      "16470    1064_328     1064  2018-12-18     15.79\n",
      "70024     1251_35     1251  2018-12-04     11.83\n",
      "7480      1036_72     1036  2018-09-24      0.00\n",
      "91945   1329_1539     1329  2018-12-20      0.00\n",
      "69424    1249_256     1249  2018-06-10      1.73\n",
      "11986      1053_5     1053  2018-09-12      1.41\n",
      "81551    1293_748     1293  2018-09-06     12.77\n",
      "119963   1417_740     1417  2018-08-28     11.74\n",
      "27650    1105_201     1105  2018-11-10      0.00\n",
      "2395     1009_817     1009  2018-08-08      0.98\n",
      "34939    1132_261     1132  2018-05-02      7.56\n",
      "6560     1031_227     1031  2018-09-08      2.98\n",
      "67540     1242_36     1242  2018-10-27      0.27\n",
      "105205   1370_427     1370  2018-09-14     16.90\n",
      "24574    1094_676     1094  2018-11-17      8.60\n",
      "58339    1210_551     1210  2018-06-07      1.68\n",
      "49852     1181_62     1181  2018-05-31      4.06\n",
      "120256   1418_140     1418  2018-12-14     10.00\n",
      "86651    1320_320     1320  2018-06-19      5.62\n",
      "94497    1336_366     1336  2018-08-09      2.76\n",
      "15631    1061_573     1061  2018-09-10      1.52\n"
     ]
    }
   ],
   "source": [
    "# Imprime una muestra de datos para las llamadas\n",
    "print(calls.sample(30))\n"
   ]
  },
  {
   "cell_type": "markdown",
   "metadata": {
    "id": "DOAxYJSx0q09"
   },
   "source": [
    "No encuentro ningún error en los datos del dataframe \"calls\". No tenemos datos ausentes y los datatype de cada columna son adecuados a excepción de la columna \"call_date\" que esta en datatype object, sería buena idea cambiarla a datatime"
   ]
  },
  {
   "cell_type": "markdown",
   "metadata": {},
   "source": [
    "<div class=\"alert alert-block alert-warning\">\n",
    "<b>Comentario Revisor</b> <a class=\"tocSkip\"></a>\n",
    "\n",
    "Qué podríamos decir hasta el momento de las llamadas que tienen una duración de 0?\n",
    "</div>"
   ]
  },
  {
   "cell_type": "markdown",
   "metadata": {},
   "source": [
    "<div class=\"alert alert-block alert-warning\">\n",
    "<b>Comentario revisor</b> <a class=\"tocSkip\"></a>\n",
    "\n",
    "Te sugiero verificar que es correcto el datatype de la columna call_date.\n",
    "\n",
    "</div>"
   ]
  },
  {
   "cell_type": "code",
   "execution_count": 21,
   "metadata": {
    "colab": {
     "base_uri": "https://localhost:8080/"
    },
    "id": "0tqKV_cuAshf",
    "outputId": "ec6d486c-164f-4880-fef3-5b03091bbc11"
   },
   "outputs": [
    {
     "data": {
      "text/html": [
       "<div>\n",
       "<style scoped>\n",
       "    .dataframe tbody tr th:only-of-type {\n",
       "        vertical-align: middle;\n",
       "    }\n",
       "\n",
       "    .dataframe tbody tr th {\n",
       "        vertical-align: top;\n",
       "    }\n",
       "\n",
       "    .dataframe thead th {\n",
       "        text-align: right;\n",
       "    }\n",
       "</style>\n",
       "<table border=\"1\" class=\"dataframe\">\n",
       "  <thead>\n",
       "    <tr style=\"text-align: right;\">\n",
       "      <th></th>\n",
       "      <th>user_id</th>\n",
       "      <th>id</th>\n",
       "    </tr>\n",
       "  </thead>\n",
       "  <tbody>\n",
       "    <tr>\n",
       "      <th>160</th>\n",
       "      <td>1169</td>\n",
       "      <td>105</td>\n",
       "    </tr>\n",
       "    <tr>\n",
       "      <th>446</th>\n",
       "      <td>1464</td>\n",
       "      <td>161</td>\n",
       "    </tr>\n",
       "    <tr>\n",
       "      <th>429</th>\n",
       "      <td>1446</td>\n",
       "      <td>196</td>\n",
       "    </tr>\n",
       "    <tr>\n",
       "      <th>304</th>\n",
       "      <td>1318</td>\n",
       "      <td>151</td>\n",
       "    </tr>\n",
       "    <tr>\n",
       "      <th>229</th>\n",
       "      <td>1240</td>\n",
       "      <td>1022</td>\n",
       "    </tr>\n",
       "    <tr>\n",
       "      <th>347</th>\n",
       "      <td>1363</td>\n",
       "      <td>164</td>\n",
       "    </tr>\n",
       "    <tr>\n",
       "      <th>205</th>\n",
       "      <td>1216</td>\n",
       "      <td>164</td>\n",
       "    </tr>\n",
       "    <tr>\n",
       "      <th>239</th>\n",
       "      <td>1250</td>\n",
       "      <td>219</td>\n",
       "    </tr>\n",
       "    <tr>\n",
       "      <th>137</th>\n",
       "      <td>1146</td>\n",
       "      <td>164</td>\n",
       "    </tr>\n",
       "    <tr>\n",
       "      <th>29</th>\n",
       "      <td>1030</td>\n",
       "      <td>216</td>\n",
       "    </tr>\n",
       "    <tr>\n",
       "      <th>303</th>\n",
       "      <td>1317</td>\n",
       "      <td>165</td>\n",
       "    </tr>\n",
       "    <tr>\n",
       "      <th>27</th>\n",
       "      <td>1028</td>\n",
       "      <td>73</td>\n",
       "    </tr>\n",
       "    <tr>\n",
       "      <th>396</th>\n",
       "      <td>1413</td>\n",
       "      <td>41</td>\n",
       "    </tr>\n",
       "    <tr>\n",
       "      <th>263</th>\n",
       "      <td>1276</td>\n",
       "      <td>184</td>\n",
       "    </tr>\n",
       "    <tr>\n",
       "      <th>415</th>\n",
       "      <td>1432</td>\n",
       "      <td>279</td>\n",
       "    </tr>\n",
       "  </tbody>\n",
       "</table>\n",
       "</div>"
      ],
      "text/plain": [
       "     user_id    id\n",
       "160     1169   105\n",
       "446     1464   161\n",
       "429     1446   196\n",
       "304     1318   151\n",
       "229     1240  1022\n",
       "347     1363   164\n",
       "205     1216   164\n",
       "239     1250   219\n",
       "137     1146   164\n",
       "29      1030   216\n",
       "303     1317   165\n",
       "27      1028    73\n",
       "396     1413    41\n",
       "263     1276   184\n",
       "415     1432   279"
      ]
     },
     "execution_count": 21,
     "metadata": {},
     "output_type": "execute_result"
    }
   ],
   "source": [
    "# Revisando cuantas llamadas realizó un usuario\n",
    "numbers_calls_users = calls.groupby(\"user_id\")[\"id\"].count().reset_index()\n",
    "numbers_calls_users.sample(15)"
   ]
  },
  {
   "cell_type": "code",
   "execution_count": 22,
   "metadata": {
    "colab": {
     "base_uri": "https://localhost:8080/",
     "height": 423
    },
    "id": "QL77WVnKB9WZ",
    "outputId": "24eca873-b20b-4768-dfbb-f27f6380006e",
    "scrolled": true
   },
   "outputs": [
    {
     "data": {
      "text/html": [
       "<div>\n",
       "<style scoped>\n",
       "    .dataframe tbody tr th:only-of-type {\n",
       "        vertical-align: middle;\n",
       "    }\n",
       "\n",
       "    .dataframe tbody tr th {\n",
       "        vertical-align: top;\n",
       "    }\n",
       "\n",
       "    .dataframe thead th {\n",
       "        text-align: right;\n",
       "    }\n",
       "</style>\n",
       "<table border=\"1\" class=\"dataframe\">\n",
       "  <thead>\n",
       "    <tr style=\"text-align: right;\">\n",
       "      <th></th>\n",
       "      <th>user_id</th>\n",
       "      <th>duration</th>\n",
       "    </tr>\n",
       "  </thead>\n",
       "  <tbody>\n",
       "    <tr>\n",
       "      <th>0</th>\n",
       "      <td>1000</td>\n",
       "      <td>116.83</td>\n",
       "    </tr>\n",
       "    <tr>\n",
       "      <th>1</th>\n",
       "      <td>1001</td>\n",
       "      <td>1640.46</td>\n",
       "    </tr>\n",
       "    <tr>\n",
       "      <th>2</th>\n",
       "      <td>1002</td>\n",
       "      <td>777.13</td>\n",
       "    </tr>\n",
       "    <tr>\n",
       "      <th>3</th>\n",
       "      <td>1003</td>\n",
       "      <td>1041.00</td>\n",
       "    </tr>\n",
       "    <tr>\n",
       "      <th>4</th>\n",
       "      <td>1004</td>\n",
       "      <td>2618.95</td>\n",
       "    </tr>\n",
       "    <tr>\n",
       "      <th>...</th>\n",
       "      <td>...</td>\n",
       "      <td>...</td>\n",
       "    </tr>\n",
       "    <tr>\n",
       "      <th>476</th>\n",
       "      <td>1495</td>\n",
       "      <td>1666.41</td>\n",
       "    </tr>\n",
       "    <tr>\n",
       "      <th>477</th>\n",
       "      <td>1496</td>\n",
       "      <td>1376.21</td>\n",
       "    </tr>\n",
       "    <tr>\n",
       "      <th>478</th>\n",
       "      <td>1497</td>\n",
       "      <td>276.53</td>\n",
       "    </tr>\n",
       "    <tr>\n",
       "      <th>479</th>\n",
       "      <td>1498</td>\n",
       "      <td>3029.97</td>\n",
       "    </tr>\n",
       "    <tr>\n",
       "      <th>480</th>\n",
       "      <td>1499</td>\n",
       "      <td>1450.31</td>\n",
       "    </tr>\n",
       "  </tbody>\n",
       "</table>\n",
       "<p>481 rows × 2 columns</p>\n",
       "</div>"
      ],
      "text/plain": [
       "     user_id  duration\n",
       "0       1000    116.83\n",
       "1       1001   1640.46\n",
       "2       1002    777.13\n",
       "3       1003   1041.00\n",
       "4       1004   2618.95\n",
       "..       ...       ...\n",
       "476     1495   1666.41\n",
       "477     1496   1376.21\n",
       "478     1497    276.53\n",
       "479     1498   3029.97\n",
       "480     1499   1450.31\n",
       "\n",
       "[481 rows x 2 columns]"
      ]
     },
     "execution_count": 22,
     "metadata": {},
     "output_type": "execute_result"
    }
   ],
   "source": [
    "# Revisando cuantos minutos en total hablo un usuario\n",
    "minutes_calls_users = calls.groupby(\"user_id\")[\"duration\"].sum().reset_index()\n",
    "minutes_calls_users"
   ]
  },
  {
   "cell_type": "code",
   "execution_count": 23,
   "metadata": {},
   "outputs": [
    {
     "data": {
      "text/html": [
       "<div>\n",
       "<style scoped>\n",
       "    .dataframe tbody tr th:only-of-type {\n",
       "        vertical-align: middle;\n",
       "    }\n",
       "\n",
       "    .dataframe tbody tr th {\n",
       "        vertical-align: top;\n",
       "    }\n",
       "\n",
       "    .dataframe thead th {\n",
       "        text-align: right;\n",
       "    }\n",
       "</style>\n",
       "<table border=\"1\" class=\"dataframe\">\n",
       "  <thead>\n",
       "    <tr style=\"text-align: right;\">\n",
       "      <th></th>\n",
       "      <th>user_id</th>\n",
       "      <th>id</th>\n",
       "      <th>duration</th>\n",
       "    </tr>\n",
       "  </thead>\n",
       "  <tbody>\n",
       "    <tr>\n",
       "      <th>111307</th>\n",
       "      <td>1390</td>\n",
       "      <td>1390_91</td>\n",
       "      <td>15.17</td>\n",
       "    </tr>\n",
       "    <tr>\n",
       "      <th>49178</th>\n",
       "      <td>1178</td>\n",
       "      <td>1178_1</td>\n",
       "      <td>0.00</td>\n",
       "    </tr>\n",
       "    <tr>\n",
       "      <th>85479</th>\n",
       "      <td>1313</td>\n",
       "      <td>1313_511</td>\n",
       "      <td>11.85</td>\n",
       "    </tr>\n",
       "    <tr>\n",
       "      <th>23253</th>\n",
       "      <td>1085</td>\n",
       "      <td>1085_139</td>\n",
       "      <td>7.22</td>\n",
       "    </tr>\n",
       "    <tr>\n",
       "      <th>12160</th>\n",
       "      <td>1053</td>\n",
       "      <td>1053_430</td>\n",
       "      <td>5.90</td>\n",
       "    </tr>\n",
       "    <tr>\n",
       "      <th>35852</th>\n",
       "      <td>1134</td>\n",
       "      <td>1134_302</td>\n",
       "      <td>0.00</td>\n",
       "    </tr>\n",
       "    <tr>\n",
       "      <th>98263</th>\n",
       "      <td>1352</td>\n",
       "      <td>1352_801</td>\n",
       "      <td>3.87</td>\n",
       "    </tr>\n",
       "    <tr>\n",
       "      <th>51659</th>\n",
       "      <td>1185</td>\n",
       "      <td>1185_726</td>\n",
       "      <td>0.00</td>\n",
       "    </tr>\n",
       "    <tr>\n",
       "      <th>27746</th>\n",
       "      <td>1105</td>\n",
       "      <td>1105_91</td>\n",
       "      <td>6.73</td>\n",
       "    </tr>\n",
       "    <tr>\n",
       "      <th>58163</th>\n",
       "      <td>1210</td>\n",
       "      <td>1210_195</td>\n",
       "      <td>11.88</td>\n",
       "    </tr>\n",
       "  </tbody>\n",
       "</table>\n",
       "</div>"
      ],
      "text/plain": [
       "        user_id        id  duration\n",
       "111307     1390   1390_91     15.17\n",
       "49178      1178    1178_1      0.00\n",
       "85479      1313  1313_511     11.85\n",
       "23253      1085  1085_139      7.22\n",
       "12160      1053  1053_430      5.90\n",
       "35852      1134  1134_302      0.00\n",
       "98263      1352  1352_801      3.87\n",
       "51659      1185  1185_726      0.00\n",
       "27746      1105   1105_91      6.73\n",
       "58163      1210  1210_195     11.88"
      ]
     },
     "execution_count": 23,
     "metadata": {},
     "output_type": "execute_result"
    }
   ],
   "source": [
    "#Revisando cuantas \n",
    "zero_minutes_calls = calls.groupby([\"user_id\",\"id\"])[\"duration\"].sum().reset_index()\n",
    "zero_minutes_calls.sample(10)\n"
   ]
  },
  {
   "cell_type": "markdown",
   "metadata": {},
   "source": [
    "Algunos llamadas tienen cero minutos de duración. Con la información que tenemos no podemos saber a que se refiere exactamente, tendriamos que revisar las políticas de la empresa sobre que significa que una llamada tenga cero minutos. Una suposición podria ser que la llamada entra a un buzon, entonces eso no se considera como llamada conectada, o que el cliente haya colgado inmediatamente. Igual sería interesante saber como se manejan las llamadas que tienen cero minutos, si se considera una llamada o no se considera para el conteo"
   ]
  },
  {
   "cell_type": "markdown",
   "metadata": {
    "id": "S7hzxmbX0q0-"
   },
   "source": [
    "### Corregir los datos"
   ]
  },
  {
   "cell_type": "code",
   "execution_count": 24,
   "metadata": {},
   "outputs": [],
   "source": [
    "# Cambiaré el datatype de la columna call_date a datetime\n",
    "calls[\"call_date\"] = pd.to_datetime(calls[\"call_date\"],format=\"%Y-%m-%d\")"
   ]
  },
  {
   "cell_type": "code",
   "execution_count": 25,
   "metadata": {
    "colab": {
     "base_uri": "https://localhost:8080/"
    },
    "id": "S2r8xA4f0q0-",
    "outputId": "e1881ea5-b1fc-4544-e78d-cd57510deaa3"
   },
   "outputs": [
    {
     "name": "stdout",
     "output_type": "stream",
     "text": [
      "En esta parte podriamos redondear de una vez los minutos hacia arriba, pero lo haré mas adelante\n"
     ]
    }
   ],
   "source": [
    "print(\"En esta parte podriamos redondear de una vez los minutos hacia arriba, pero lo haré mas adelante\")"
   ]
  },
  {
   "cell_type": "markdown",
   "metadata": {
    "id": "KrMgTrlG0q0_"
   },
   "source": [
    "### Enriquecer los datos"
   ]
  },
  {
   "cell_type": "markdown",
   "metadata": {
    "id": "a9MbmEvE0q0_"
   },
   "source": [
    "Seria bueno saber que edad tiene cada usuario así como la ciudad, y si lo vemos prudente mencontrar alguna relación con la cantidad de llamadas que hacen y el tiempo en total que estuvieron hablando. Voy a combinar la tabla de \"calls\" con las de \"users\" para poder ver esa información"
   ]
  },
  {
   "cell_type": "code",
   "execution_count": 26,
   "metadata": {
    "colab": {
     "base_uri": "https://localhost:8080/",
     "height": 660
    },
    "id": "iZ1avpA_0q0_",
    "outputId": "3007aff5-aa89-4cab-859f-79c5af569d18"
   },
   "outputs": [
    {
     "data": {
      "text/html": [
       "<div>\n",
       "<style scoped>\n",
       "    .dataframe tbody tr th:only-of-type {\n",
       "        vertical-align: middle;\n",
       "    }\n",
       "\n",
       "    .dataframe tbody tr th {\n",
       "        vertical-align: top;\n",
       "    }\n",
       "\n",
       "    .dataframe thead th {\n",
       "        text-align: right;\n",
       "    }\n",
       "</style>\n",
       "<table border=\"1\" class=\"dataframe\">\n",
       "  <thead>\n",
       "    <tr style=\"text-align: right;\">\n",
       "      <th></th>\n",
       "      <th>id</th>\n",
       "      <th>user_id</th>\n",
       "      <th>call_date</th>\n",
       "      <th>duration</th>\n",
       "      <th>first_name</th>\n",
       "      <th>last_name</th>\n",
       "      <th>age</th>\n",
       "      <th>city</th>\n",
       "      <th>reg_date</th>\n",
       "      <th>plan_name</th>\n",
       "      <th>churn_date</th>\n",
       "      <th>active_time</th>\n",
       "    </tr>\n",
       "  </thead>\n",
       "  <tbody>\n",
       "    <tr>\n",
       "      <th>0</th>\n",
       "      <td>1000_93</td>\n",
       "      <td>1000</td>\n",
       "      <td>2018-12-27</td>\n",
       "      <td>8.52</td>\n",
       "      <td>Anamaria</td>\n",
       "      <td>Bauer</td>\n",
       "      <td>45</td>\n",
       "      <td>Atlanta-Sandy Springs-Roswell, GA MSA</td>\n",
       "      <td>2018-12-24</td>\n",
       "      <td>ultimate</td>\n",
       "      <td>NaT</td>\n",
       "      <td>NaT</td>\n",
       "    </tr>\n",
       "    <tr>\n",
       "      <th>1</th>\n",
       "      <td>1000_145</td>\n",
       "      <td>1000</td>\n",
       "      <td>2018-12-27</td>\n",
       "      <td>13.66</td>\n",
       "      <td>Anamaria</td>\n",
       "      <td>Bauer</td>\n",
       "      <td>45</td>\n",
       "      <td>Atlanta-Sandy Springs-Roswell, GA MSA</td>\n",
       "      <td>2018-12-24</td>\n",
       "      <td>ultimate</td>\n",
       "      <td>NaT</td>\n",
       "      <td>NaT</td>\n",
       "    </tr>\n",
       "    <tr>\n",
       "      <th>2</th>\n",
       "      <td>1000_247</td>\n",
       "      <td>1000</td>\n",
       "      <td>2018-12-27</td>\n",
       "      <td>14.48</td>\n",
       "      <td>Anamaria</td>\n",
       "      <td>Bauer</td>\n",
       "      <td>45</td>\n",
       "      <td>Atlanta-Sandy Springs-Roswell, GA MSA</td>\n",
       "      <td>2018-12-24</td>\n",
       "      <td>ultimate</td>\n",
       "      <td>NaT</td>\n",
       "      <td>NaT</td>\n",
       "    </tr>\n",
       "    <tr>\n",
       "      <th>3</th>\n",
       "      <td>1000_309</td>\n",
       "      <td>1000</td>\n",
       "      <td>2018-12-28</td>\n",
       "      <td>5.76</td>\n",
       "      <td>Anamaria</td>\n",
       "      <td>Bauer</td>\n",
       "      <td>45</td>\n",
       "      <td>Atlanta-Sandy Springs-Roswell, GA MSA</td>\n",
       "      <td>2018-12-24</td>\n",
       "      <td>ultimate</td>\n",
       "      <td>NaT</td>\n",
       "      <td>NaT</td>\n",
       "    </tr>\n",
       "    <tr>\n",
       "      <th>4</th>\n",
       "      <td>1000_380</td>\n",
       "      <td>1000</td>\n",
       "      <td>2018-12-30</td>\n",
       "      <td>4.22</td>\n",
       "      <td>Anamaria</td>\n",
       "      <td>Bauer</td>\n",
       "      <td>45</td>\n",
       "      <td>Atlanta-Sandy Springs-Roswell, GA MSA</td>\n",
       "      <td>2018-12-24</td>\n",
       "      <td>ultimate</td>\n",
       "      <td>NaT</td>\n",
       "      <td>NaT</td>\n",
       "    </tr>\n",
       "  </tbody>\n",
       "</table>\n",
       "</div>"
      ],
      "text/plain": [
       "         id  user_id  call_date  duration first_name last_name  age  \\\n",
       "0   1000_93     1000 2018-12-27      8.52   Anamaria     Bauer   45   \n",
       "1  1000_145     1000 2018-12-27     13.66   Anamaria     Bauer   45   \n",
       "2  1000_247     1000 2018-12-27     14.48   Anamaria     Bauer   45   \n",
       "3  1000_309     1000 2018-12-28      5.76   Anamaria     Bauer   45   \n",
       "4  1000_380     1000 2018-12-30      4.22   Anamaria     Bauer   45   \n",
       "\n",
       "                                    city   reg_date plan_name churn_date  \\\n",
       "0  Atlanta-Sandy Springs-Roswell, GA MSA 2018-12-24  ultimate        NaT   \n",
       "1  Atlanta-Sandy Springs-Roswell, GA MSA 2018-12-24  ultimate        NaT   \n",
       "2  Atlanta-Sandy Springs-Roswell, GA MSA 2018-12-24  ultimate        NaT   \n",
       "3  Atlanta-Sandy Springs-Roswell, GA MSA 2018-12-24  ultimate        NaT   \n",
       "4  Atlanta-Sandy Springs-Roswell, GA MSA 2018-12-24  ultimate        NaT   \n",
       "\n",
       "  active_time  \n",
       "0         NaT  \n",
       "1         NaT  \n",
       "2         NaT  \n",
       "3         NaT  \n",
       "4         NaT  "
      ]
     },
     "execution_count": 26,
     "metadata": {},
     "output_type": "execute_result"
    }
   ],
   "source": [
    "# Vamos a juntar dos tablas, la de calls y la de users para tener datos más amplios y encontrar ciertas relaciones\n",
    "\n",
    "merge_calls_users = calls.merge(users, on=\"user_id\")\n",
    "merge_calls_users.head()"
   ]
  },
  {
   "cell_type": "code",
   "execution_count": 27,
   "metadata": {
    "colab": {
     "base_uri": "https://localhost:8080/"
    },
    "id": "AViBhQqkFRXe",
    "outputId": "5fb795a7-3b56-40d5-a583-80747706d891"
   },
   "outputs": [
    {
     "data": {
      "text/plain": [
       "user_id  city                                     \n",
       "1000     Atlanta-Sandy Springs-Roswell, GA MSA         116.83\n",
       "1001     Seattle-Tacoma-Bellevue, WA MSA              1640.46\n",
       "1002     Las Vegas-Henderson-Paradise, NV MSA          777.13\n",
       "1003     Tulsa, OK MSA                                1041.00\n",
       "1004     Seattle-Tacoma-Bellevue, WA MSA              2618.95\n",
       "                                                       ...   \n",
       "1495     New York-Newark-Jersey City, NY-NJ-PA MSA    1666.41\n",
       "1496     New Orleans-Metairie, LA MSA                 1376.21\n",
       "1497     Los Angeles-Long Beach-Anaheim, CA MSA        276.53\n",
       "1498     New York-Newark-Jersey City, NY-NJ-PA MSA    3029.97\n",
       "1499     Orlando-Kissimmee-Sanford, FL MSA            1450.31\n",
       "Name: duration, Length: 481, dtype: float64"
      ]
     },
     "execution_count": 27,
     "metadata": {},
     "output_type": "execute_result"
    }
   ],
   "source": [
    "# Revisar cuantos minutos hablo cada cliente y de que ciudad es\n",
    "\n",
    "city_userid_duration = merge_calls_users.groupby([\"user_id\",\"city\"])[\"duration\"].sum()\n",
    "city_userid_duration"
   ]
  },
  {
   "cell_type": "markdown",
   "metadata": {
    "id": "mOUZSi180q0_"
   },
   "source": [
    "## Mensajes"
   ]
  },
  {
   "cell_type": "code",
   "execution_count": 28,
   "metadata": {
    "colab": {
     "base_uri": "https://localhost:8080/"
    },
    "id": "R-bYJpdV0q1A",
    "outputId": "40bd87bb-41c8-42a5-a28a-25e41da528da"
   },
   "outputs": [
    {
     "name": "stdout",
     "output_type": "stream",
     "text": [
      "         id  user_id message_date\n",
      "0  1000_125     1000   2018-12-27\n",
      "1  1000_160     1000   2018-12-31\n",
      "2  1000_223     1000   2018-12-31\n",
      "3  1000_251     1000   2018-12-27\n",
      "4  1000_255     1000   2018-12-26\n",
      "\n",
      "\n",
      "<class 'pandas.core.frame.DataFrame'>\n",
      "RangeIndex: 76051 entries, 0 to 76050\n",
      "Data columns (total 3 columns):\n",
      " #   Column        Non-Null Count  Dtype \n",
      "---  ------        --------------  ----- \n",
      " 0   id            76051 non-null  object\n",
      " 1   user_id       76051 non-null  int64 \n",
      " 2   message_date  76051 non-null  object\n",
      "dtypes: int64(1), object(2)\n",
      "memory usage: 1.7+ MB\n",
      "\n",
      "\n",
      "            user_id\n",
      "count  76051.000000\n",
      "mean    1245.972768\n",
      "std      139.843635\n",
      "min     1000.000000\n",
      "25%     1123.000000\n",
      "50%     1251.000000\n",
      "75%     1362.000000\n",
      "max     1497.000000\n",
      "\n"
     ]
    }
   ],
   "source": [
    "# Imprime la información general/resumida sobre el DataFrame de los mensajes\n",
    "print(messages.head())\n",
    "print()\n",
    "print()\n",
    "messages.info()\n",
    "print()\n",
    "print()\n",
    "print(messages.describe())\n",
    "print()\n",
    "\n"
   ]
  },
  {
   "cell_type": "code",
   "execution_count": 29,
   "metadata": {
    "colab": {
     "base_uri": "https://localhost:8080/"
    },
    "id": "mCEl2iGE0q1A",
    "outputId": "3e996f54-24bc-46b7-d700-cd329d61de6a"
   },
   "outputs": [
    {
     "name": "stdout",
     "output_type": "stream",
     "text": [
      "             id  user_id message_date\n",
      "31232   1195_99     1195   2018-11-16\n",
      "67292  1435_330     1435   2018-09-23\n",
      "38240  1251_292     1251   2018-05-26\n",
      "33593  1211_269     1211   2018-08-23\n",
      "23504  1142_241     1142   2018-12-29\n",
      "24813  1146_738     1146   2018-12-02\n",
      "7660   1059_545     1059   2018-09-05\n",
      "38072  1251_124     1251   2018-05-31\n",
      "64949  1414_165     1414   2018-09-11\n",
      "41877  1268_250     1268   2018-04-23\n",
      "65395  1419_204     1419   2018-11-18\n",
      "65137    1417_6     1417   2018-11-18\n",
      "11864  1079_263     1079   2018-09-27\n",
      "6938   1057_262     1057   2018-10-25\n",
      "52454  1336_443     1336   2018-09-14\n"
     ]
    }
   ],
   "source": [
    "# Imprime una muestra de datos para los mensajes\n",
    "print(messages.sample(15))\n",
    "\n"
   ]
  },
  {
   "cell_type": "code",
   "execution_count": 30,
   "metadata": {
    "colab": {
     "base_uri": "https://localhost:8080/"
    },
    "id": "qVKaU42K3i0C",
    "outputId": "da3a5f71-9d0c-4504-b129-01b4e94adda5"
   },
   "outputs": [
    {
     "name": "stdout",
     "output_type": "stream",
     "text": [
      "id              0\n",
      "user_id         0\n",
      "message_date    0\n",
      "dtype: int64\n"
     ]
    }
   ],
   "source": [
    "print(messages[messages[\"id\"].duplicated()].count())"
   ]
  },
  {
   "cell_type": "markdown",
   "metadata": {
    "id": "04xDj7KH0q1A"
   },
   "source": [
    "\n",
    "\n",
    "No tenemos datos ausentes. No tenemos duplicados en la columna que importaría revisar esto que es la columna \"id\".  El tipo de datos es correcto a excepción de la columna \"message_date\" donde convendría que estuviera en el typo datetime"
   ]
  },
  {
   "cell_type": "markdown",
   "metadata": {},
   "source": [
    "<div class=\"alert alert-block alert-warning\">\n",
    "\n",
    "<b>Comentario revisor</b> <a class=\"tocSkip\"></a>\n",
    "\n",
    "Te sugiero verificar que es correcto el datatype de la columna message_date.\n",
    "\n",
    "</div>"
   ]
  },
  {
   "cell_type": "markdown",
   "metadata": {
    "id": "Sprfak900q1B"
   },
   "source": [
    "### Corregir los datos"
   ]
  },
  {
   "cell_type": "code",
   "execution_count": 31,
   "metadata": {
    "id": "eGw7d9j10q1B"
   },
   "outputs": [],
   "source": [
    "# Cambiaré el datatype de la columna message_date a datetime\n",
    "messages[\"message_date\"] = pd.to_datetime(messages[\"message_date\"],format=\"%Y-%m-%d\")"
   ]
  },
  {
   "cell_type": "markdown",
   "metadata": {
    "id": "HvLid7iD0q1B"
   },
   "source": [
    "### Enriquecer los datos"
   ]
  },
  {
   "cell_type": "code",
   "execution_count": 32,
   "metadata": {
    "colab": {
     "base_uri": "https://localhost:8080/",
     "height": 660
    },
    "id": "zYEXZac10q1C",
    "outputId": "93ff350f-cb94-4cf9-d1fb-552aef93d391"
   },
   "outputs": [
    {
     "data": {
      "text/html": [
       "<div>\n",
       "<style scoped>\n",
       "    .dataframe tbody tr th:only-of-type {\n",
       "        vertical-align: middle;\n",
       "    }\n",
       "\n",
       "    .dataframe tbody tr th {\n",
       "        vertical-align: top;\n",
       "    }\n",
       "\n",
       "    .dataframe thead th {\n",
       "        text-align: right;\n",
       "    }\n",
       "</style>\n",
       "<table border=\"1\" class=\"dataframe\">\n",
       "  <thead>\n",
       "    <tr style=\"text-align: right;\">\n",
       "      <th></th>\n",
       "      <th>id</th>\n",
       "      <th>user_id</th>\n",
       "      <th>message_date</th>\n",
       "      <th>first_name</th>\n",
       "      <th>last_name</th>\n",
       "      <th>age</th>\n",
       "      <th>city</th>\n",
       "      <th>reg_date</th>\n",
       "      <th>plan_name</th>\n",
       "      <th>churn_date</th>\n",
       "      <th>active_time</th>\n",
       "    </tr>\n",
       "  </thead>\n",
       "  <tbody>\n",
       "    <tr>\n",
       "      <th>0</th>\n",
       "      <td>1000_125</td>\n",
       "      <td>1000</td>\n",
       "      <td>2018-12-27</td>\n",
       "      <td>Anamaria</td>\n",
       "      <td>Bauer</td>\n",
       "      <td>45</td>\n",
       "      <td>Atlanta-Sandy Springs-Roswell, GA MSA</td>\n",
       "      <td>2018-12-24</td>\n",
       "      <td>ultimate</td>\n",
       "      <td>NaT</td>\n",
       "      <td>NaT</td>\n",
       "    </tr>\n",
       "    <tr>\n",
       "      <th>1</th>\n",
       "      <td>1000_160</td>\n",
       "      <td>1000</td>\n",
       "      <td>2018-12-31</td>\n",
       "      <td>Anamaria</td>\n",
       "      <td>Bauer</td>\n",
       "      <td>45</td>\n",
       "      <td>Atlanta-Sandy Springs-Roswell, GA MSA</td>\n",
       "      <td>2018-12-24</td>\n",
       "      <td>ultimate</td>\n",
       "      <td>NaT</td>\n",
       "      <td>NaT</td>\n",
       "    </tr>\n",
       "    <tr>\n",
       "      <th>2</th>\n",
       "      <td>1000_223</td>\n",
       "      <td>1000</td>\n",
       "      <td>2018-12-31</td>\n",
       "      <td>Anamaria</td>\n",
       "      <td>Bauer</td>\n",
       "      <td>45</td>\n",
       "      <td>Atlanta-Sandy Springs-Roswell, GA MSA</td>\n",
       "      <td>2018-12-24</td>\n",
       "      <td>ultimate</td>\n",
       "      <td>NaT</td>\n",
       "      <td>NaT</td>\n",
       "    </tr>\n",
       "    <tr>\n",
       "      <th>3</th>\n",
       "      <td>1000_251</td>\n",
       "      <td>1000</td>\n",
       "      <td>2018-12-27</td>\n",
       "      <td>Anamaria</td>\n",
       "      <td>Bauer</td>\n",
       "      <td>45</td>\n",
       "      <td>Atlanta-Sandy Springs-Roswell, GA MSA</td>\n",
       "      <td>2018-12-24</td>\n",
       "      <td>ultimate</td>\n",
       "      <td>NaT</td>\n",
       "      <td>NaT</td>\n",
       "    </tr>\n",
       "    <tr>\n",
       "      <th>4</th>\n",
       "      <td>1000_255</td>\n",
       "      <td>1000</td>\n",
       "      <td>2018-12-26</td>\n",
       "      <td>Anamaria</td>\n",
       "      <td>Bauer</td>\n",
       "      <td>45</td>\n",
       "      <td>Atlanta-Sandy Springs-Roswell, GA MSA</td>\n",
       "      <td>2018-12-24</td>\n",
       "      <td>ultimate</td>\n",
       "      <td>NaT</td>\n",
       "      <td>NaT</td>\n",
       "    </tr>\n",
       "  </tbody>\n",
       "</table>\n",
       "</div>"
      ],
      "text/plain": [
       "         id  user_id message_date first_name last_name  age  \\\n",
       "0  1000_125     1000   2018-12-27   Anamaria     Bauer   45   \n",
       "1  1000_160     1000   2018-12-31   Anamaria     Bauer   45   \n",
       "2  1000_223     1000   2018-12-31   Anamaria     Bauer   45   \n",
       "3  1000_251     1000   2018-12-27   Anamaria     Bauer   45   \n",
       "4  1000_255     1000   2018-12-26   Anamaria     Bauer   45   \n",
       "\n",
       "                                    city   reg_date plan_name churn_date  \\\n",
       "0  Atlanta-Sandy Springs-Roswell, GA MSA 2018-12-24  ultimate        NaT   \n",
       "1  Atlanta-Sandy Springs-Roswell, GA MSA 2018-12-24  ultimate        NaT   \n",
       "2  Atlanta-Sandy Springs-Roswell, GA MSA 2018-12-24  ultimate        NaT   \n",
       "3  Atlanta-Sandy Springs-Roswell, GA MSA 2018-12-24  ultimate        NaT   \n",
       "4  Atlanta-Sandy Springs-Roswell, GA MSA 2018-12-24  ultimate        NaT   \n",
       "\n",
       "  active_time  \n",
       "0         NaT  \n",
       "1         NaT  \n",
       "2         NaT  \n",
       "3         NaT  \n",
       "4         NaT  "
      ]
     },
     "execution_count": 32,
     "metadata": {},
     "output_type": "execute_result"
    }
   ],
   "source": [
    "# Vamos a juntar dos tablas, la de messages y la de users para tener datos más amplios\n",
    "# y ver si es prudente encontrar ciertas relaciones\n",
    "\n",
    "merge_messages_users = messages.merge(users, on=\"user_id\")\n",
    "merge_messages_users.head()"
   ]
  },
  {
   "cell_type": "markdown",
   "metadata": {
    "id": "bStkaxn40q1C"
   },
   "source": [
    "## Internet"
   ]
  },
  {
   "cell_type": "code",
   "execution_count": 33,
   "metadata": {
    "colab": {
     "base_uri": "https://localhost:8080/"
    },
    "id": "e-Uz5qyn0q1C",
    "outputId": "0d9f1b1f-8ba9-4080-b0e8-bdb469bdac4d"
   },
   "outputs": [
    {
     "name": "stdout",
     "output_type": "stream",
     "text": [
      "         id  user_id session_date  mb_used\n",
      "0   1000_13     1000   2018-12-29    89.86\n",
      "1  1000_204     1000   2018-12-31     0.00\n",
      "2  1000_379     1000   2018-12-28   660.40\n",
      "3  1000_413     1000   2018-12-26   270.99\n",
      "4  1000_442     1000   2018-12-27   880.22\n",
      "\n",
      "\n",
      "<class 'pandas.core.frame.DataFrame'>\n",
      "RangeIndex: 104825 entries, 0 to 104824\n",
      "Data columns (total 4 columns):\n",
      " #   Column        Non-Null Count   Dtype  \n",
      "---  ------        --------------   -----  \n",
      " 0   id            104825 non-null  object \n",
      " 1   user_id       104825 non-null  int64  \n",
      " 2   session_date  104825 non-null  object \n",
      " 3   mb_used       104825 non-null  float64\n",
      "dtypes: float64(1), int64(1), object(2)\n",
      "memory usage: 3.2+ MB\n",
      "\n",
      "\n",
      "             user_id        mb_used\n",
      "count  104825.000000  104825.000000\n",
      "mean     1242.496361     366.713701\n",
      "std       142.053913     277.170542\n",
      "min      1000.000000       0.000000\n",
      "25%      1122.000000     136.080000\n",
      "50%      1236.000000     343.980000\n",
      "75%      1367.000000     554.610000\n",
      "max      1499.000000    1693.470000\n",
      "\n"
     ]
    }
   ],
   "source": [
    "# Imprime la información general/resumida sobre el DataFrame de internet\n",
    "print(internet.head())\n",
    "print()\n",
    "print()\n",
    "internet.info()\n",
    "print()\n",
    "print()\n",
    "print(internet.describe())\n",
    "print()\n",
    "\n"
   ]
  },
  {
   "cell_type": "code",
   "execution_count": 34,
   "metadata": {
    "colab": {
     "base_uri": "https://localhost:8080/"
    },
    "id": "jbjLRwjV55Vj",
    "outputId": "2b5212e0-4b9f-4b72-e30e-86de15c3f731"
   },
   "outputs": [
    {
     "name": "stdout",
     "output_type": "stream",
     "text": [
      "id              0\n",
      "user_id         0\n",
      "session_date    0\n",
      "mb_used         0\n",
      "dtype: int64\n"
     ]
    }
   ],
   "source": [
    "print(internet[internet[\"id\"].duplicated()].count())"
   ]
  },
  {
   "cell_type": "code",
   "execution_count": 35,
   "metadata": {
    "colab": {
     "base_uri": "https://localhost:8080/"
    },
    "id": "9r3x_XLw0q1C",
    "outputId": "c589b556-e722-47a6-82e4-134b0ed54f49"
   },
   "outputs": [
    {
     "name": "stdout",
     "output_type": "stream",
     "text": [
      "             id  user_id session_date  mb_used\n",
      "97787  1460_477     1460   2018-12-21     0.00\n",
      "27222  1126_312     1126   2018-08-17   700.75\n",
      "40056  1181_175     1181   2018-09-04   734.50\n",
      "22943  1106_158     1106   2018-11-12   116.65\n",
      "67229  1312_452     1312   2018-09-27   288.91\n",
      "63381   1292_85     1292   2018-11-07   686.74\n",
      "36674  1164_357     1164   2018-11-24   565.62\n",
      "63060  1291_185     1291   2018-06-21    25.47\n",
      "10723  1054_258     1054   2018-12-20   456.51\n",
      "69304   1324_18     1324   2018-10-24  1266.09\n",
      "40631  1182_348     1182   2018-06-10   138.44\n",
      "4144    1026_52     1026   2018-07-29    34.87\n",
      "17300  1077_420     1077   2018-06-22   858.03\n",
      "35309   1160_13     1160   2018-06-03   290.06\n",
      "59427   1268_96     1268   2018-12-10   596.99\n"
     ]
    }
   ],
   "source": [
    "# Imprime una muestra de datos para el tráfico de internet\n",
    "print(internet.sample(15))\n",
    "\n"
   ]
  },
  {
   "cell_type": "markdown",
   "metadata": {
    "id": "EzOG5ik30q1D"
   },
   "source": [
    "\n",
    "No tenemos datos ausentes. No tenemos duplicados en la columna que importa saber si son valores únicos que seria \"id\".  Solamente sería cambiar el datatype de la columna session_date por el tipo datatime."
   ]
  },
  {
   "cell_type": "markdown",
   "metadata": {
    "id": "70dX2y5l5GAI"
   },
   "source": [
    "<div class=\"alert alert-block alert-warning\">\n",
    "\n",
    "<b>Comentario revisor</b> <a class=\"tocSkip\"></a>\n",
    "\n",
    "Te sugiero verificar que es correcto el datatype de la columna session_date.\n",
    "\n",
    "</div>"
   ]
  },
  {
   "cell_type": "markdown",
   "metadata": {
    "id": "yA0tkPFg0q1D"
   },
   "source": [
    "### Corregir los datos"
   ]
  },
  {
   "cell_type": "code",
   "execution_count": 36,
   "metadata": {
    "id": "zlZMuIEK0q1D"
   },
   "outputs": [],
   "source": [
    "# Cambiaré el datatype de la columna session_date a datetime\n",
    "internet[\"session_date\"] = pd.to_datetime(internet[\"session_date\"],format=\"%Y-%m-%d\")"
   ]
  },
  {
   "cell_type": "markdown",
   "metadata": {
    "id": "e8_mLF4a0q1E"
   },
   "source": [
    "### Enriquecer los datos"
   ]
  },
  {
   "cell_type": "code",
   "execution_count": 37,
   "metadata": {
    "colab": {
     "base_uri": "https://localhost:8080/",
     "height": 660
    },
    "id": "ESiYPIEK0q1E",
    "outputId": "bc3efc24-48a6-4aa1-877f-cd7fc96d2159"
   },
   "outputs": [
    {
     "data": {
      "text/html": [
       "<div>\n",
       "<style scoped>\n",
       "    .dataframe tbody tr th:only-of-type {\n",
       "        vertical-align: middle;\n",
       "    }\n",
       "\n",
       "    .dataframe tbody tr th {\n",
       "        vertical-align: top;\n",
       "    }\n",
       "\n",
       "    .dataframe thead th {\n",
       "        text-align: right;\n",
       "    }\n",
       "</style>\n",
       "<table border=\"1\" class=\"dataframe\">\n",
       "  <thead>\n",
       "    <tr style=\"text-align: right;\">\n",
       "      <th></th>\n",
       "      <th>id</th>\n",
       "      <th>user_id</th>\n",
       "      <th>session_date</th>\n",
       "      <th>mb_used</th>\n",
       "      <th>first_name</th>\n",
       "      <th>last_name</th>\n",
       "      <th>age</th>\n",
       "      <th>city</th>\n",
       "      <th>reg_date</th>\n",
       "      <th>plan_name</th>\n",
       "      <th>churn_date</th>\n",
       "      <th>active_time</th>\n",
       "    </tr>\n",
       "  </thead>\n",
       "  <tbody>\n",
       "    <tr>\n",
       "      <th>0</th>\n",
       "      <td>1000_13</td>\n",
       "      <td>1000</td>\n",
       "      <td>2018-12-29</td>\n",
       "      <td>89.86</td>\n",
       "      <td>Anamaria</td>\n",
       "      <td>Bauer</td>\n",
       "      <td>45</td>\n",
       "      <td>Atlanta-Sandy Springs-Roswell, GA MSA</td>\n",
       "      <td>2018-12-24</td>\n",
       "      <td>ultimate</td>\n",
       "      <td>NaT</td>\n",
       "      <td>NaT</td>\n",
       "    </tr>\n",
       "    <tr>\n",
       "      <th>1</th>\n",
       "      <td>1000_204</td>\n",
       "      <td>1000</td>\n",
       "      <td>2018-12-31</td>\n",
       "      <td>0.00</td>\n",
       "      <td>Anamaria</td>\n",
       "      <td>Bauer</td>\n",
       "      <td>45</td>\n",
       "      <td>Atlanta-Sandy Springs-Roswell, GA MSA</td>\n",
       "      <td>2018-12-24</td>\n",
       "      <td>ultimate</td>\n",
       "      <td>NaT</td>\n",
       "      <td>NaT</td>\n",
       "    </tr>\n",
       "    <tr>\n",
       "      <th>2</th>\n",
       "      <td>1000_379</td>\n",
       "      <td>1000</td>\n",
       "      <td>2018-12-28</td>\n",
       "      <td>660.40</td>\n",
       "      <td>Anamaria</td>\n",
       "      <td>Bauer</td>\n",
       "      <td>45</td>\n",
       "      <td>Atlanta-Sandy Springs-Roswell, GA MSA</td>\n",
       "      <td>2018-12-24</td>\n",
       "      <td>ultimate</td>\n",
       "      <td>NaT</td>\n",
       "      <td>NaT</td>\n",
       "    </tr>\n",
       "    <tr>\n",
       "      <th>3</th>\n",
       "      <td>1000_413</td>\n",
       "      <td>1000</td>\n",
       "      <td>2018-12-26</td>\n",
       "      <td>270.99</td>\n",
       "      <td>Anamaria</td>\n",
       "      <td>Bauer</td>\n",
       "      <td>45</td>\n",
       "      <td>Atlanta-Sandy Springs-Roswell, GA MSA</td>\n",
       "      <td>2018-12-24</td>\n",
       "      <td>ultimate</td>\n",
       "      <td>NaT</td>\n",
       "      <td>NaT</td>\n",
       "    </tr>\n",
       "    <tr>\n",
       "      <th>4</th>\n",
       "      <td>1000_442</td>\n",
       "      <td>1000</td>\n",
       "      <td>2018-12-27</td>\n",
       "      <td>880.22</td>\n",
       "      <td>Anamaria</td>\n",
       "      <td>Bauer</td>\n",
       "      <td>45</td>\n",
       "      <td>Atlanta-Sandy Springs-Roswell, GA MSA</td>\n",
       "      <td>2018-12-24</td>\n",
       "      <td>ultimate</td>\n",
       "      <td>NaT</td>\n",
       "      <td>NaT</td>\n",
       "    </tr>\n",
       "  </tbody>\n",
       "</table>\n",
       "</div>"
      ],
      "text/plain": [
       "         id  user_id session_date  mb_used first_name last_name  age  \\\n",
       "0   1000_13     1000   2018-12-29    89.86   Anamaria     Bauer   45   \n",
       "1  1000_204     1000   2018-12-31     0.00   Anamaria     Bauer   45   \n",
       "2  1000_379     1000   2018-12-28   660.40   Anamaria     Bauer   45   \n",
       "3  1000_413     1000   2018-12-26   270.99   Anamaria     Bauer   45   \n",
       "4  1000_442     1000   2018-12-27   880.22   Anamaria     Bauer   45   \n",
       "\n",
       "                                    city   reg_date plan_name churn_date  \\\n",
       "0  Atlanta-Sandy Springs-Roswell, GA MSA 2018-12-24  ultimate        NaT   \n",
       "1  Atlanta-Sandy Springs-Roswell, GA MSA 2018-12-24  ultimate        NaT   \n",
       "2  Atlanta-Sandy Springs-Roswell, GA MSA 2018-12-24  ultimate        NaT   \n",
       "3  Atlanta-Sandy Springs-Roswell, GA MSA 2018-12-24  ultimate        NaT   \n",
       "4  Atlanta-Sandy Springs-Roswell, GA MSA 2018-12-24  ultimate        NaT   \n",
       "\n",
       "  active_time  \n",
       "0         NaT  \n",
       "1         NaT  \n",
       "2         NaT  \n",
       "3         NaT  \n",
       "4         NaT  "
      ]
     },
     "execution_count": 37,
     "metadata": {},
     "output_type": "execute_result"
    }
   ],
   "source": [
    "# Vamos a juntar dos tablas, la de internet y la de users para tener datos más amplios\n",
    "#y ver si es prudente encontrar ciertas relaciones\n",
    "\n",
    "merge_internet_users = internet.merge(users, on=\"user_id\")\n",
    "merge_internet_users.head()"
   ]
  },
  {
   "cell_type": "markdown",
   "metadata": {
    "id": "3UA2cqIW0q1E"
   },
   "source": [
    "## Estudiar las condiciones de las tarifas"
   ]
  },
  {
   "cell_type": "code",
   "execution_count": 38,
   "metadata": {
    "colab": {
     "base_uri": "https://localhost:8080/"
    },
    "id": "i409op8p0q1F",
    "outputId": "a7e6b0a0-11bd-433b-85a4-b6be73a66ce6"
   },
   "outputs": [
    {
     "name": "stdout",
     "output_type": "stream",
     "text": [
      "   messages_included  mb_per_month_included  minutes_included  \\\n",
      "0                 50                  15360               500   \n",
      "1               1000                  30720              3000   \n",
      "\n",
      "   usd_monthly_pay  usd_per_gb  usd_per_message  usd_per_minute plan_name  \n",
      "0               20          10             0.03            0.03      surf  \n",
      "1               70           7             0.01            0.01  ultimate  \n"
     ]
    }
   ],
   "source": [
    "# Imprime las condiciones de la tarifa y asegúrate de que te quedan claras\n",
    "print(plans)\n",
    "\n"
   ]
  },
  {
   "cell_type": "markdown",
   "metadata": {
    "id": "pXwICTvT7tal"
   },
   "source": [
    "Aclaraciones importantes a considerar\n",
    "\n",
    "*   1 gb = 1000 mb\n",
    "*   Llamadas se redondean. Si duró un segundo se cobra la llamada completa.\n",
    "*   Trafico web individual(megas) no se redondean. En vez de esto al final del mes se redondea hacia arriba. Si alguien uso 1025 megabytes este mes, se le cobrarán 2 gigabytes.\n",
    "* 1 gigabyte equivale a 1000 megabytes\n",
    "\n",
    "\n"
   ]
  },
  {
   "cell_type": "markdown",
   "metadata": {},
   "source": [
    "<div class=\"alert alert-block alert-danger\">\n",
    "\n",
    "<b>Comentario revisor</b> <a class=\"tocSkip\"></a>\n",
    "\n",
    "Te sugiero verificar a cuánto equivale un gb para cuando hagas la transformación.\n",
    "\n",
    "</div>"
   ]
  },
  {
   "cell_type": "markdown",
   "metadata": {},
   "source": [
    "<div class=\"alert alert-block alert-info\">\n",
    "<b>Respuesta del estudiante.</b> <a class=\"tocSkip\"></a>\n",
    "\n",
    "Veo que me comentas que revise la equivalencia de gb. Investigando un GB equivale a 1000 megabytes, y esa es la conversión que utilice durante todo este trabajo. Segun investige, y esa es la convención que se usaría en esta industria, porque hay otra convención de que 1 gb equivale a 1024 megabytes pero esa es para sistemas binarios y es usada en el contexto de computación, entonces no aplicaría aqui.\n",
    "    \n",
    "</div>\n",
    "\n"
   ]
  },
  {
   "cell_type": "markdown",
   "metadata": {},
   "source": [
    "<div class=\"alert alert-block alert-warning\">\n",
    "\n",
    "<b>Comentario revisor</b> <a class=\"tocSkip\"></a>\n",
    "\n",
    "Hola, David!! Para este ejercicio te sugiero utilizar la convención de 1024.\n",
    "\n",
    "</div>"
   ]
  },
  {
   "cell_type": "markdown",
   "metadata": {
    "id": "hMR1tP5d0q1F"
   },
   "source": [
    "## Agregar datos por usuario\n"
   ]
  },
  {
   "cell_type": "code",
   "execution_count": 39,
   "metadata": {
    "colab": {
     "base_uri": "https://localhost:8080/",
     "height": 455
    },
    "id": "A332cedB0q1G",
    "outputId": "9d82da0a-9b7c-468a-a67c-40921a3691fd"
   },
   "outputs": [
    {
     "data": {
      "text/html": [
       "<div>\n",
       "<style scoped>\n",
       "    .dataframe tbody tr th:only-of-type {\n",
       "        vertical-align: middle;\n",
       "    }\n",
       "\n",
       "    .dataframe tbody tr th {\n",
       "        vertical-align: top;\n",
       "    }\n",
       "\n",
       "    .dataframe thead th {\n",
       "        text-align: right;\n",
       "    }\n",
       "</style>\n",
       "<table border=\"1\" class=\"dataframe\">\n",
       "  <thead>\n",
       "    <tr style=\"text-align: right;\">\n",
       "      <th></th>\n",
       "      <th>user_id</th>\n",
       "      <th>month</th>\n",
       "      <th>id</th>\n",
       "    </tr>\n",
       "  </thead>\n",
       "  <tbody>\n",
       "    <tr>\n",
       "      <th>0</th>\n",
       "      <td>1000</td>\n",
       "      <td>12</td>\n",
       "      <td>16</td>\n",
       "    </tr>\n",
       "    <tr>\n",
       "      <th>1</th>\n",
       "      <td>1001</td>\n",
       "      <td>8</td>\n",
       "      <td>27</td>\n",
       "    </tr>\n",
       "    <tr>\n",
       "      <th>2</th>\n",
       "      <td>1001</td>\n",
       "      <td>9</td>\n",
       "      <td>49</td>\n",
       "    </tr>\n",
       "    <tr>\n",
       "      <th>3</th>\n",
       "      <td>1001</td>\n",
       "      <td>10</td>\n",
       "      <td>65</td>\n",
       "    </tr>\n",
       "    <tr>\n",
       "      <th>4</th>\n",
       "      <td>1001</td>\n",
       "      <td>11</td>\n",
       "      <td>64</td>\n",
       "    </tr>\n",
       "    <tr>\n",
       "      <th>5</th>\n",
       "      <td>1001</td>\n",
       "      <td>12</td>\n",
       "      <td>56</td>\n",
       "    </tr>\n",
       "    <tr>\n",
       "      <th>6</th>\n",
       "      <td>1002</td>\n",
       "      <td>10</td>\n",
       "      <td>11</td>\n",
       "    </tr>\n",
       "    <tr>\n",
       "      <th>7</th>\n",
       "      <td>1002</td>\n",
       "      <td>11</td>\n",
       "      <td>55</td>\n",
       "    </tr>\n",
       "    <tr>\n",
       "      <th>8</th>\n",
       "      <td>1002</td>\n",
       "      <td>12</td>\n",
       "      <td>47</td>\n",
       "    </tr>\n",
       "    <tr>\n",
       "      <th>9</th>\n",
       "      <td>1003</td>\n",
       "      <td>12</td>\n",
       "      <td>149</td>\n",
       "    </tr>\n",
       "    <tr>\n",
       "      <th>10</th>\n",
       "      <td>1004</td>\n",
       "      <td>5</td>\n",
       "      <td>21</td>\n",
       "    </tr>\n",
       "    <tr>\n",
       "      <th>11</th>\n",
       "      <td>1004</td>\n",
       "      <td>6</td>\n",
       "      <td>44</td>\n",
       "    </tr>\n",
       "    <tr>\n",
       "      <th>12</th>\n",
       "      <td>1004</td>\n",
       "      <td>7</td>\n",
       "      <td>49</td>\n",
       "    </tr>\n",
       "    <tr>\n",
       "      <th>13</th>\n",
       "      <td>1004</td>\n",
       "      <td>8</td>\n",
       "      <td>49</td>\n",
       "    </tr>\n",
       "    <tr>\n",
       "      <th>14</th>\n",
       "      <td>1004</td>\n",
       "      <td>9</td>\n",
       "      <td>42</td>\n",
       "    </tr>\n",
       "  </tbody>\n",
       "</table>\n",
       "</div>"
      ],
      "text/plain": [
       "    user_id  month   id\n",
       "0      1000     12   16\n",
       "1      1001      8   27\n",
       "2      1001      9   49\n",
       "3      1001     10   65\n",
       "4      1001     11   64\n",
       "5      1001     12   56\n",
       "6      1002     10   11\n",
       "7      1002     11   55\n",
       "8      1002     12   47\n",
       "9      1003     12  149\n",
       "10     1004      5   21\n",
       "11     1004      6   44\n",
       "12     1004      7   49\n",
       "13     1004      8   49\n",
       "14     1004      9   42"
      ]
     },
     "execution_count": 39,
     "metadata": {},
     "output_type": "execute_result"
    }
   ],
   "source": [
    "# Crear una columna del mes\n",
    "calls[\"month\"] = calls[\"call_date\"].dt.month\n",
    "\n",
    "# Redondear los minutos\n",
    "calls[\"duration\"] = np.ceil(calls[\"duration\"]) \n",
    "\n",
    "# Calcula el número de llamadas hechas por cada usuario al mes. Guarda el resultado.\n",
    "\n",
    "total_calls_user = calls.groupby([\"user_id\",\"month\"])[\"id\"].count().reset_index()\n",
    "total_calls_user = pd.DataFrame(total_calls_user)\n",
    "total_calls_user.head(15)\n",
    "\n"
   ]
  },
  {
   "cell_type": "code",
   "execution_count": 40,
   "metadata": {
    "colab": {
     "base_uri": "https://localhost:8080/",
     "height": 455
    },
    "id": "aw2cmuql0q1G",
    "outputId": "16a805af-e1c8-4601-f704-f5d20c177e8e",
    "scrolled": true
   },
   "outputs": [
    {
     "data": {
      "text/html": [
       "<div>\n",
       "<style scoped>\n",
       "    .dataframe tbody tr th:only-of-type {\n",
       "        vertical-align: middle;\n",
       "    }\n",
       "\n",
       "    .dataframe tbody tr th {\n",
       "        vertical-align: top;\n",
       "    }\n",
       "\n",
       "    .dataframe thead th {\n",
       "        text-align: right;\n",
       "    }\n",
       "</style>\n",
       "<table border=\"1\" class=\"dataframe\">\n",
       "  <thead>\n",
       "    <tr style=\"text-align: right;\">\n",
       "      <th></th>\n",
       "      <th></th>\n",
       "      <th>duration</th>\n",
       "    </tr>\n",
       "    <tr>\n",
       "      <th>user_id</th>\n",
       "      <th>month</th>\n",
       "      <th></th>\n",
       "    </tr>\n",
       "  </thead>\n",
       "  <tbody>\n",
       "    <tr>\n",
       "      <th>1000</th>\n",
       "      <th>12</th>\n",
       "      <td>124.0</td>\n",
       "    </tr>\n",
       "    <tr>\n",
       "      <th rowspan=\"4\" valign=\"top\">1001</th>\n",
       "      <th>8</th>\n",
       "      <td>182.0</td>\n",
       "    </tr>\n",
       "    <tr>\n",
       "      <th>9</th>\n",
       "      <td>315.0</td>\n",
       "    </tr>\n",
       "    <tr>\n",
       "      <th>10</th>\n",
       "      <td>393.0</td>\n",
       "    </tr>\n",
       "    <tr>\n",
       "      <th>11</th>\n",
       "      <td>426.0</td>\n",
       "    </tr>\n",
       "    <tr>\n",
       "      <th>...</th>\n",
       "      <th>...</th>\n",
       "      <td>...</td>\n",
       "    </tr>\n",
       "    <tr>\n",
       "      <th>1498</th>\n",
       "      <th>12</th>\n",
       "      <td>339.0</td>\n",
       "    </tr>\n",
       "    <tr>\n",
       "      <th rowspan=\"4\" valign=\"top\">1499</th>\n",
       "      <th>9</th>\n",
       "      <td>346.0</td>\n",
       "    </tr>\n",
       "    <tr>\n",
       "      <th>10</th>\n",
       "      <td>385.0</td>\n",
       "    </tr>\n",
       "    <tr>\n",
       "      <th>11</th>\n",
       "      <td>308.0</td>\n",
       "    </tr>\n",
       "    <tr>\n",
       "      <th>12</th>\n",
       "      <td>496.0</td>\n",
       "    </tr>\n",
       "  </tbody>\n",
       "</table>\n",
       "<p>2258 rows × 1 columns</p>\n",
       "</div>"
      ],
      "text/plain": [
       "               duration\n",
       "user_id month          \n",
       "1000    12        124.0\n",
       "1001    8         182.0\n",
       "        9         315.0\n",
       "        10        393.0\n",
       "        11        426.0\n",
       "...                 ...\n",
       "1498    12        339.0\n",
       "1499    9         346.0\n",
       "        10        385.0\n",
       "        11        308.0\n",
       "        12        496.0\n",
       "\n",
       "[2258 rows x 1 columns]"
      ]
     },
     "execution_count": 40,
     "metadata": {},
     "output_type": "execute_result"
    }
   ],
   "source": [
    "# Calcula la cantidad de minutos usados por cada usuario al mes. Guarda el resultado.\n",
    "\n",
    "total_minutes_user = calls.groupby([\"user_id\",\"month\"])[\"duration\"].sum()\n",
    "total_minutes_user = pd.DataFrame(total_minutes_user)\n",
    "total_minutes_user\n",
    "\n"
   ]
  },
  {
   "cell_type": "code",
   "execution_count": 41,
   "metadata": {},
   "outputs": [
    {
     "data": {
      "text/html": [
       "<div>\n",
       "<style scoped>\n",
       "    .dataframe tbody tr th:only-of-type {\n",
       "        vertical-align: middle;\n",
       "    }\n",
       "\n",
       "    .dataframe tbody tr th {\n",
       "        vertical-align: top;\n",
       "    }\n",
       "\n",
       "    .dataframe thead tr th {\n",
       "        text-align: left;\n",
       "    }\n",
       "</style>\n",
       "<table border=\"1\" class=\"dataframe\">\n",
       "  <thead>\n",
       "    <tr>\n",
       "      <th></th>\n",
       "      <th>user_id</th>\n",
       "      <th>month</th>\n",
       "      <th>sum</th>\n",
       "      <th>count</th>\n",
       "    </tr>\n",
       "    <tr>\n",
       "      <th></th>\n",
       "      <th></th>\n",
       "      <th></th>\n",
       "      <th>duration</th>\n",
       "      <th>duration</th>\n",
       "    </tr>\n",
       "  </thead>\n",
       "  <tbody>\n",
       "    <tr>\n",
       "      <th>0</th>\n",
       "      <td>1000</td>\n",
       "      <td>12</td>\n",
       "      <td>124.0</td>\n",
       "      <td>16</td>\n",
       "    </tr>\n",
       "    <tr>\n",
       "      <th>1</th>\n",
       "      <td>1001</td>\n",
       "      <td>8</td>\n",
       "      <td>182.0</td>\n",
       "      <td>27</td>\n",
       "    </tr>\n",
       "    <tr>\n",
       "      <th>2</th>\n",
       "      <td>1001</td>\n",
       "      <td>9</td>\n",
       "      <td>315.0</td>\n",
       "      <td>49</td>\n",
       "    </tr>\n",
       "    <tr>\n",
       "      <th>3</th>\n",
       "      <td>1001</td>\n",
       "      <td>10</td>\n",
       "      <td>393.0</td>\n",
       "      <td>65</td>\n",
       "    </tr>\n",
       "    <tr>\n",
       "      <th>4</th>\n",
       "      <td>1001</td>\n",
       "      <td>11</td>\n",
       "      <td>426.0</td>\n",
       "      <td>64</td>\n",
       "    </tr>\n",
       "    <tr>\n",
       "      <th>...</th>\n",
       "      <td>...</td>\n",
       "      <td>...</td>\n",
       "      <td>...</td>\n",
       "      <td>...</td>\n",
       "    </tr>\n",
       "    <tr>\n",
       "      <th>2253</th>\n",
       "      <td>1498</td>\n",
       "      <td>12</td>\n",
       "      <td>339.0</td>\n",
       "      <td>39</td>\n",
       "    </tr>\n",
       "    <tr>\n",
       "      <th>2254</th>\n",
       "      <td>1499</td>\n",
       "      <td>9</td>\n",
       "      <td>346.0</td>\n",
       "      <td>41</td>\n",
       "    </tr>\n",
       "    <tr>\n",
       "      <th>2255</th>\n",
       "      <td>1499</td>\n",
       "      <td>10</td>\n",
       "      <td>385.0</td>\n",
       "      <td>53</td>\n",
       "    </tr>\n",
       "    <tr>\n",
       "      <th>2256</th>\n",
       "      <td>1499</td>\n",
       "      <td>11</td>\n",
       "      <td>308.0</td>\n",
       "      <td>45</td>\n",
       "    </tr>\n",
       "    <tr>\n",
       "      <th>2257</th>\n",
       "      <td>1499</td>\n",
       "      <td>12</td>\n",
       "      <td>496.0</td>\n",
       "      <td>65</td>\n",
       "    </tr>\n",
       "  </tbody>\n",
       "</table>\n",
       "<p>2258 rows × 4 columns</p>\n",
       "</div>"
      ],
      "text/plain": [
       "     user_id month      sum    count\n",
       "                   duration duration\n",
       "0       1000    12    124.0       16\n",
       "1       1001     8    182.0       27\n",
       "2       1001     9    315.0       49\n",
       "3       1001    10    393.0       65\n",
       "4       1001    11    426.0       64\n",
       "...      ...   ...      ...      ...\n",
       "2253    1498    12    339.0       39\n",
       "2254    1499     9    346.0       41\n",
       "2255    1499    10    385.0       53\n",
       "2256    1499    11    308.0       45\n",
       "2257    1499    12    496.0       65\n",
       "\n",
       "[2258 rows x 4 columns]"
      ]
     },
     "execution_count": 41,
     "metadata": {},
     "output_type": "execute_result"
    }
   ],
   "source": [
    "# Calcula el número de llamadas hechas por cada usuario al mes y la cantidad \n",
    "# de minutos usados por cada usuario al mes.Guarda el resultado.\n",
    "# Para esto crearé una tabla dinamica\n",
    "\n",
    "\n",
    "\n",
    "# Luego creare la tabla dinamica\n",
    "\n",
    "pivot_calls = calls.pivot_table(index=['user_id', 'month'],\n",
    "                            values=['duration'],\n",
    "                            aggfunc=['sum','count']).reset_index()\n",
    "pivot_calls"
   ]
  },
  {
   "cell_type": "markdown",
   "metadata": {},
   "source": [
    "<div class=\"alert alert-block alert-warning\">\n",
    "\n",
    "<b>Comentario revisor</b> <a class=\"tocSkip\"></a>\n",
    "\n",
    "Si bien es correcta la forma de agrupar para sacar la duración de las llamadas por cada ususario, para proximas ocasiones puedes hacer uso de la siguiente forma:\n",
    "    \n",
    "    pivot_calls = calls.pivot_table(index=['user_id', 'month'],\n",
    "                                values=['duration'],\n",
    "                                aggfunc=['sum','count']).reset_index()\n",
    "\n",
    "</div>\n",
    "\n"
   ]
  },
  {
   "cell_type": "code",
   "execution_count": 42,
   "metadata": {
    "colab": {
     "base_uri": "https://localhost:8080/",
     "height": 455
    },
    "id": "CcQvNHn60q1G",
    "outputId": "1aa80f77-51df-4a1c-9454-d3ba1dc27e72"
   },
   "outputs": [
    {
     "data": {
      "text/html": [
       "<div>\n",
       "<style scoped>\n",
       "    .dataframe tbody tr th:only-of-type {\n",
       "        vertical-align: middle;\n",
       "    }\n",
       "\n",
       "    .dataframe tbody tr th {\n",
       "        vertical-align: top;\n",
       "    }\n",
       "\n",
       "    .dataframe thead th {\n",
       "        text-align: right;\n",
       "    }\n",
       "</style>\n",
       "<table border=\"1\" class=\"dataframe\">\n",
       "  <thead>\n",
       "    <tr style=\"text-align: right;\">\n",
       "      <th></th>\n",
       "      <th>user_id</th>\n",
       "      <th>month</th>\n",
       "      <th>id</th>\n",
       "    </tr>\n",
       "  </thead>\n",
       "  <tbody>\n",
       "    <tr>\n",
       "      <th>0</th>\n",
       "      <td>1000</td>\n",
       "      <td>12</td>\n",
       "      <td>11</td>\n",
       "    </tr>\n",
       "    <tr>\n",
       "      <th>1</th>\n",
       "      <td>1001</td>\n",
       "      <td>8</td>\n",
       "      <td>30</td>\n",
       "    </tr>\n",
       "    <tr>\n",
       "      <th>2</th>\n",
       "      <td>1001</td>\n",
       "      <td>9</td>\n",
       "      <td>44</td>\n",
       "    </tr>\n",
       "    <tr>\n",
       "      <th>3</th>\n",
       "      <td>1001</td>\n",
       "      <td>10</td>\n",
       "      <td>53</td>\n",
       "    </tr>\n",
       "    <tr>\n",
       "      <th>4</th>\n",
       "      <td>1001</td>\n",
       "      <td>11</td>\n",
       "      <td>36</td>\n",
       "    </tr>\n",
       "    <tr>\n",
       "      <th>...</th>\n",
       "      <td>...</td>\n",
       "      <td>...</td>\n",
       "      <td>...</td>\n",
       "    </tr>\n",
       "    <tr>\n",
       "      <th>1801</th>\n",
       "      <td>1496</td>\n",
       "      <td>9</td>\n",
       "      <td>21</td>\n",
       "    </tr>\n",
       "    <tr>\n",
       "      <th>1802</th>\n",
       "      <td>1496</td>\n",
       "      <td>10</td>\n",
       "      <td>18</td>\n",
       "    </tr>\n",
       "    <tr>\n",
       "      <th>1803</th>\n",
       "      <td>1496</td>\n",
       "      <td>11</td>\n",
       "      <td>13</td>\n",
       "    </tr>\n",
       "    <tr>\n",
       "      <th>1804</th>\n",
       "      <td>1496</td>\n",
       "      <td>12</td>\n",
       "      <td>11</td>\n",
       "    </tr>\n",
       "    <tr>\n",
       "      <th>1805</th>\n",
       "      <td>1497</td>\n",
       "      <td>12</td>\n",
       "      <td>50</td>\n",
       "    </tr>\n",
       "  </tbody>\n",
       "</table>\n",
       "<p>1806 rows × 3 columns</p>\n",
       "</div>"
      ],
      "text/plain": [
       "      user_id  month  id\n",
       "0        1000     12  11\n",
       "1        1001      8  30\n",
       "2        1001      9  44\n",
       "3        1001     10  53\n",
       "4        1001     11  36\n",
       "...       ...    ...  ..\n",
       "1801     1496      9  21\n",
       "1802     1496     10  18\n",
       "1803     1496     11  13\n",
       "1804     1496     12  11\n",
       "1805     1497     12  50\n",
       "\n",
       "[1806 rows x 3 columns]"
      ]
     },
     "execution_count": 42,
     "metadata": {},
     "output_type": "execute_result"
    }
   ],
   "source": [
    "# Crear una columna del mes\n",
    "messages[\"month\"] = messages[\"message_date\"].dt.month\n",
    "\n",
    "# Calcula el número de mensajes enviados por cada usuario al mes. Guarda el resultado.\n",
    "total_messages_user = messages.groupby([\"user_id\",\"month\"])[\"id\"].count().reset_index()\n",
    "total_messages_user = pd.DataFrame(total_messages_user)\n",
    "total_messages_user\n",
    "\n"
   ]
  },
  {
   "cell_type": "markdown",
   "metadata": {},
   "source": [
    "<div class=\"alert alert-block alert-warning\">\n",
    "\n",
    "<b>Comentario revisor</b> <a class=\"tocSkip\"></a>\n",
    "\n",
    "Te recomiendo desde este paso redondear la duración de las llamadas.\n",
    "\n",
    "</div>"
   ]
  },
  {
   "cell_type": "code",
   "execution_count": 43,
   "metadata": {
    "colab": {
     "base_uri": "https://localhost:8080/",
     "height": 455
    },
    "id": "H1AqN2eG0q1H",
    "outputId": "6ee9003d-31cb-4bca-a1ed-aaa1bc36968f",
    "scrolled": true
   },
   "outputs": [
    {
     "data": {
      "text/html": [
       "<div>\n",
       "<style scoped>\n",
       "    .dataframe tbody tr th:only-of-type {\n",
       "        vertical-align: middle;\n",
       "    }\n",
       "\n",
       "    .dataframe tbody tr th {\n",
       "        vertical-align: top;\n",
       "    }\n",
       "\n",
       "    .dataframe thead th {\n",
       "        text-align: right;\n",
       "    }\n",
       "</style>\n",
       "<table border=\"1\" class=\"dataframe\">\n",
       "  <thead>\n",
       "    <tr style=\"text-align: right;\">\n",
       "      <th></th>\n",
       "      <th>user_id</th>\n",
       "      <th>month</th>\n",
       "      <th>gb_used</th>\n",
       "    </tr>\n",
       "  </thead>\n",
       "  <tbody>\n",
       "    <tr>\n",
       "      <th>0</th>\n",
       "      <td>1000</td>\n",
       "      <td>12</td>\n",
       "      <td>4.0</td>\n",
       "    </tr>\n",
       "    <tr>\n",
       "      <th>1</th>\n",
       "      <td>1001</td>\n",
       "      <td>8</td>\n",
       "      <td>21.0</td>\n",
       "    </tr>\n",
       "    <tr>\n",
       "      <th>2</th>\n",
       "      <td>1001</td>\n",
       "      <td>9</td>\n",
       "      <td>41.0</td>\n",
       "    </tr>\n",
       "    <tr>\n",
       "      <th>3</th>\n",
       "      <td>1001</td>\n",
       "      <td>10</td>\n",
       "      <td>50.0</td>\n",
       "    </tr>\n",
       "    <tr>\n",
       "      <th>4</th>\n",
       "      <td>1001</td>\n",
       "      <td>11</td>\n",
       "      <td>49.0</td>\n",
       "    </tr>\n",
       "    <tr>\n",
       "      <th>...</th>\n",
       "      <td>...</td>\n",
       "      <td>...</td>\n",
       "      <td>...</td>\n",
       "    </tr>\n",
       "    <tr>\n",
       "      <th>2272</th>\n",
       "      <td>1498</td>\n",
       "      <td>12</td>\n",
       "      <td>56.0</td>\n",
       "    </tr>\n",
       "    <tr>\n",
       "      <th>2273</th>\n",
       "      <td>1499</td>\n",
       "      <td>9</td>\n",
       "      <td>37.0</td>\n",
       "    </tr>\n",
       "    <tr>\n",
       "      <th>2274</th>\n",
       "      <td>1499</td>\n",
       "      <td>10</td>\n",
       "      <td>52.0</td>\n",
       "    </tr>\n",
       "    <tr>\n",
       "      <th>2275</th>\n",
       "      <td>1499</td>\n",
       "      <td>11</td>\n",
       "      <td>43.0</td>\n",
       "    </tr>\n",
       "    <tr>\n",
       "      <th>2276</th>\n",
       "      <td>1499</td>\n",
       "      <td>12</td>\n",
       "      <td>58.0</td>\n",
       "    </tr>\n",
       "  </tbody>\n",
       "</table>\n",
       "<p>2277 rows × 3 columns</p>\n",
       "</div>"
      ],
      "text/plain": [
       "      user_id  month  gb_used\n",
       "0        1000     12      4.0\n",
       "1        1001      8     21.0\n",
       "2        1001      9     41.0\n",
       "3        1001     10     50.0\n",
       "4        1001     11     49.0\n",
       "...       ...    ...      ...\n",
       "2272     1498     12     56.0\n",
       "2273     1499      9     37.0\n",
       "2274     1499     10     52.0\n",
       "2275     1499     11     43.0\n",
       "2276     1499     12     58.0\n",
       "\n",
       "[2277 rows x 3 columns]"
      ]
     },
     "execution_count": 43,
     "metadata": {},
     "output_type": "execute_result"
    }
   ],
   "source": [
    "# Crear una columna del mes\n",
    "\n",
    "internet[\"month\"] = internet[\"session_date\"].dt.month\n",
    "\n",
    "# Tranformar los megabytes a gigabytes con la convención 1 GB == 1024 megabytes\n",
    "\n",
    "internet[\"mb_used\"] = internet[\"mb_used\"] / 1024\n",
    "\n",
    "# Redondear hacia arriba los gigabytes resultantes\n",
    "\n",
    "internet[\"mb_used\"] = np.ceil(internet[\"mb_used\"])\n",
    "\n",
    "# Cambiar el nombre de la columna mb_used por gb_used\n",
    "internet = internet.rename(columns={\"mb_used\":\"gb_used\"})\n",
    "\n",
    "\n",
    "# Calcula el volumen del tráfico de Internet usado por cada usuario al mes. Guarda el resultado.\n",
    "volume_internet_user = internet.groupby([\"user_id\",\"month\"])[\"gb_used\"].sum().reset_index()\n",
    "volume_internet_user = pd.DataFrame(volume_internet_user)\n",
    "volume_internet_user\n",
    "\n"
   ]
  },
  {
   "cell_type": "markdown",
   "metadata": {},
   "source": [
    "<div class=\"alert alert-block alert-danger\">\n",
    "\n",
    "<b>Comentario revisor</b> <a class=\"tocSkip\"></a>\n",
    "\n",
    "Hola, David. Ya casi tienes todo listo para este proyeto. Solamente te recomiendo verificar que la transformación de de megabytes a gigabytes es correcta. Además, verificar que es correcto hacer la multiplicación posterior por 100.\n",
    "\n",
    "</div>"
   ]
  },
  {
   "cell_type": "markdown",
   "metadata": {},
   "source": [
    "<div class=\"alert alert-block alert-info\">\n",
    "<b>Respuesta del estudiante.</b> <a class=\"tocSkip\"></a>\n",
    "    \n",
    " \n",
    "   \n",
    "</div>"
   ]
  },
  {
   "cell_type": "markdown",
   "metadata": {},
   "source": [
    "<div class=\"alert alert-block alert-warning\">\n",
    "\n",
    "<b>Comentario revisor</b> <a class=\"tocSkip\"></a>\n",
    "\n",
    "Recuerda convertir los mb a gb y redondear el valor para que vaya en el sentido del análisis desarrollado.\n",
    "\n",
    "</div>"
   ]
  },
  {
   "cell_type": "code",
   "execution_count": 44,
   "metadata": {
    "id": "ryrYExATCTnh"
   },
   "outputs": [],
   "source": [
    "# Fusionar los datos de llamadas, minutos, mensajes e Internet con base en user_id y month\n",
    "# Nombre de los data frames:\n",
    "#total_calls_user\n",
    "#total_minutes_user\n",
    "#total_messages_user\n",
    "#volume_internet_user\n",
    "\n",
    "merge_calls_min_mess_int = (total_calls_user\n",
    "                            .merge(total_minutes_user,on=[\"user_id\",\"month\"],how=\"outer\")\n",
    "                            .merge(total_messages_user,on=[\"user_id\",\"month\"],how=\"outer\")\n",
    "                            .merge(volume_internet_user,on=[\"user_id\",\"month\"],how=\"outer\"))\n",
    "\n"
   ]
  },
  {
   "cell_type": "code",
   "execution_count": 45,
   "metadata": {
    "id": "dBMBrIe6f9x-"
   },
   "outputs": [],
   "source": [
    "# Renombrar los nombres de ciertas columunas para que el nombre sea más representativo\n",
    "# id_x = total llamadas\n",
    "# id_y = total mensajes\n",
    "\n",
    "merge_calls_min_mess_int = merge_calls_min_mess_int.rename(columns={\"id_x\":\"total_calls\",\n",
    "                                                                    \"duration\":\"total_minutes\",\n",
    "                                                                    \"id_y\":\"total_messages\"})"
   ]
  },
  {
   "cell_type": "code",
   "execution_count": 46,
   "metadata": {
    "id": "SBEaqaksh-wR"
   },
   "outputs": [],
   "source": [
    "merge_calls_min_mess_int = merge_calls_min_mess_int.reset_index(drop=True)"
   ]
  },
  {
   "cell_type": "code",
   "execution_count": 47,
   "metadata": {
    "colab": {
     "base_uri": "https://localhost:8080/",
     "height": 206
    },
    "id": "9pWMsWqYuC53",
    "outputId": "ef8caaf1-3720-49d8-a576-8845b7f62970"
   },
   "outputs": [
    {
     "data": {
      "text/html": [
       "<div>\n",
       "<style scoped>\n",
       "    .dataframe tbody tr th:only-of-type {\n",
       "        vertical-align: middle;\n",
       "    }\n",
       "\n",
       "    .dataframe tbody tr th {\n",
       "        vertical-align: top;\n",
       "    }\n",
       "\n",
       "    .dataframe thead th {\n",
       "        text-align: right;\n",
       "    }\n",
       "</style>\n",
       "<table border=\"1\" class=\"dataframe\">\n",
       "  <thead>\n",
       "    <tr style=\"text-align: right;\">\n",
       "      <th></th>\n",
       "      <th>user_id</th>\n",
       "      <th>month</th>\n",
       "      <th>total_calls</th>\n",
       "      <th>total_minutes</th>\n",
       "      <th>total_messages</th>\n",
       "      <th>gb_used</th>\n",
       "    </tr>\n",
       "  </thead>\n",
       "  <tbody>\n",
       "    <tr>\n",
       "      <th>0</th>\n",
       "      <td>1000</td>\n",
       "      <td>12</td>\n",
       "      <td>16.0</td>\n",
       "      <td>124.0</td>\n",
       "      <td>11.0</td>\n",
       "      <td>4.0</td>\n",
       "    </tr>\n",
       "    <tr>\n",
       "      <th>1</th>\n",
       "      <td>1001</td>\n",
       "      <td>8</td>\n",
       "      <td>27.0</td>\n",
       "      <td>182.0</td>\n",
       "      <td>30.0</td>\n",
       "      <td>21.0</td>\n",
       "    </tr>\n",
       "    <tr>\n",
       "      <th>2</th>\n",
       "      <td>1001</td>\n",
       "      <td>9</td>\n",
       "      <td>49.0</td>\n",
       "      <td>315.0</td>\n",
       "      <td>44.0</td>\n",
       "      <td>41.0</td>\n",
       "    </tr>\n",
       "    <tr>\n",
       "      <th>3</th>\n",
       "      <td>1001</td>\n",
       "      <td>10</td>\n",
       "      <td>65.0</td>\n",
       "      <td>393.0</td>\n",
       "      <td>53.0</td>\n",
       "      <td>50.0</td>\n",
       "    </tr>\n",
       "    <tr>\n",
       "      <th>4</th>\n",
       "      <td>1001</td>\n",
       "      <td>11</td>\n",
       "      <td>64.0</td>\n",
       "      <td>426.0</td>\n",
       "      <td>36.0</td>\n",
       "      <td>49.0</td>\n",
       "    </tr>\n",
       "  </tbody>\n",
       "</table>\n",
       "</div>"
      ],
      "text/plain": [
       "   user_id  month  total_calls  total_minutes  total_messages  gb_used\n",
       "0     1000     12         16.0          124.0            11.0      4.0\n",
       "1     1001      8         27.0          182.0            30.0     21.0\n",
       "2     1001      9         49.0          315.0            44.0     41.0\n",
       "3     1001     10         65.0          393.0            53.0     50.0\n",
       "4     1001     11         64.0          426.0            36.0     49.0"
      ]
     },
     "execution_count": 47,
     "metadata": {},
     "output_type": "execute_result"
    }
   ],
   "source": [
    "merge_calls_min_mess_int.head()"
   ]
  },
  {
   "cell_type": "code",
   "execution_count": 48,
   "metadata": {
    "id": "XfwtmztelkPk"
   },
   "outputs": [],
   "source": [
    "# Fusionar dataframe users con plans para saber que usuario tiene que plan y con que características\n",
    "merge_users_plans = users.merge(plans, on=\"plan_name\")"
   ]
  },
  {
   "cell_type": "code",
   "execution_count": 49,
   "metadata": {
    "id": "0dNOXHag0q1H"
   },
   "outputs": [],
   "source": [
    "# Añade la información de la tarifa\n",
    "merge_consumption_plans = merge_calls_min_mess_int.merge(merge_users_plans,on=\"user_id\",how=\"left\")\n",
    "\n",
    "\n"
   ]
  },
  {
   "cell_type": "code",
   "execution_count": 50,
   "metadata": {
    "colab": {
     "base_uri": "https://localhost:8080/",
     "height": 533
    },
    "id": "alMPNXWIn3Ur",
    "outputId": "aecf53cc-4d0a-4579-d280-1db2c59a49e6"
   },
   "outputs": [
    {
     "data": {
      "text/html": [
       "<div>\n",
       "<style scoped>\n",
       "    .dataframe tbody tr th:only-of-type {\n",
       "        vertical-align: middle;\n",
       "    }\n",
       "\n",
       "    .dataframe tbody tr th {\n",
       "        vertical-align: top;\n",
       "    }\n",
       "\n",
       "    .dataframe thead th {\n",
       "        text-align: right;\n",
       "    }\n",
       "</style>\n",
       "<table border=\"1\" class=\"dataframe\">\n",
       "  <thead>\n",
       "    <tr style=\"text-align: right;\">\n",
       "      <th></th>\n",
       "      <th>user_id</th>\n",
       "      <th>month</th>\n",
       "      <th>total_calls</th>\n",
       "      <th>total_minutes</th>\n",
       "      <th>total_messages</th>\n",
       "      <th>gb_used</th>\n",
       "      <th>first_name</th>\n",
       "      <th>last_name</th>\n",
       "      <th>age</th>\n",
       "      <th>city</th>\n",
       "      <th>...</th>\n",
       "      <th>plan_name</th>\n",
       "      <th>churn_date</th>\n",
       "      <th>active_time</th>\n",
       "      <th>messages_included</th>\n",
       "      <th>mb_per_month_included</th>\n",
       "      <th>minutes_included</th>\n",
       "      <th>usd_monthly_pay</th>\n",
       "      <th>usd_per_gb</th>\n",
       "      <th>usd_per_message</th>\n",
       "      <th>usd_per_minute</th>\n",
       "    </tr>\n",
       "  </thead>\n",
       "  <tbody>\n",
       "    <tr>\n",
       "      <th>0</th>\n",
       "      <td>1000</td>\n",
       "      <td>12</td>\n",
       "      <td>16.0</td>\n",
       "      <td>124.0</td>\n",
       "      <td>11.0</td>\n",
       "      <td>4.0</td>\n",
       "      <td>Anamaria</td>\n",
       "      <td>Bauer</td>\n",
       "      <td>45</td>\n",
       "      <td>Atlanta-Sandy Springs-Roswell, GA MSA</td>\n",
       "      <td>...</td>\n",
       "      <td>ultimate</td>\n",
       "      <td>NaT</td>\n",
       "      <td>NaT</td>\n",
       "      <td>1000</td>\n",
       "      <td>30720</td>\n",
       "      <td>3000</td>\n",
       "      <td>70</td>\n",
       "      <td>7</td>\n",
       "      <td>0.01</td>\n",
       "      <td>0.01</td>\n",
       "    </tr>\n",
       "    <tr>\n",
       "      <th>1</th>\n",
       "      <td>1001</td>\n",
       "      <td>8</td>\n",
       "      <td>27.0</td>\n",
       "      <td>182.0</td>\n",
       "      <td>30.0</td>\n",
       "      <td>21.0</td>\n",
       "      <td>Mickey</td>\n",
       "      <td>Wilkerson</td>\n",
       "      <td>28</td>\n",
       "      <td>Seattle-Tacoma-Bellevue, WA MSA</td>\n",
       "      <td>...</td>\n",
       "      <td>surf</td>\n",
       "      <td>NaT</td>\n",
       "      <td>NaT</td>\n",
       "      <td>50</td>\n",
       "      <td>15360</td>\n",
       "      <td>500</td>\n",
       "      <td>20</td>\n",
       "      <td>10</td>\n",
       "      <td>0.03</td>\n",
       "      <td>0.03</td>\n",
       "    </tr>\n",
       "    <tr>\n",
       "      <th>2</th>\n",
       "      <td>1001</td>\n",
       "      <td>9</td>\n",
       "      <td>49.0</td>\n",
       "      <td>315.0</td>\n",
       "      <td>44.0</td>\n",
       "      <td>41.0</td>\n",
       "      <td>Mickey</td>\n",
       "      <td>Wilkerson</td>\n",
       "      <td>28</td>\n",
       "      <td>Seattle-Tacoma-Bellevue, WA MSA</td>\n",
       "      <td>...</td>\n",
       "      <td>surf</td>\n",
       "      <td>NaT</td>\n",
       "      <td>NaT</td>\n",
       "      <td>50</td>\n",
       "      <td>15360</td>\n",
       "      <td>500</td>\n",
       "      <td>20</td>\n",
       "      <td>10</td>\n",
       "      <td>0.03</td>\n",
       "      <td>0.03</td>\n",
       "    </tr>\n",
       "    <tr>\n",
       "      <th>3</th>\n",
       "      <td>1001</td>\n",
       "      <td>10</td>\n",
       "      <td>65.0</td>\n",
       "      <td>393.0</td>\n",
       "      <td>53.0</td>\n",
       "      <td>50.0</td>\n",
       "      <td>Mickey</td>\n",
       "      <td>Wilkerson</td>\n",
       "      <td>28</td>\n",
       "      <td>Seattle-Tacoma-Bellevue, WA MSA</td>\n",
       "      <td>...</td>\n",
       "      <td>surf</td>\n",
       "      <td>NaT</td>\n",
       "      <td>NaT</td>\n",
       "      <td>50</td>\n",
       "      <td>15360</td>\n",
       "      <td>500</td>\n",
       "      <td>20</td>\n",
       "      <td>10</td>\n",
       "      <td>0.03</td>\n",
       "      <td>0.03</td>\n",
       "    </tr>\n",
       "    <tr>\n",
       "      <th>4</th>\n",
       "      <td>1001</td>\n",
       "      <td>11</td>\n",
       "      <td>64.0</td>\n",
       "      <td>426.0</td>\n",
       "      <td>36.0</td>\n",
       "      <td>49.0</td>\n",
       "      <td>Mickey</td>\n",
       "      <td>Wilkerson</td>\n",
       "      <td>28</td>\n",
       "      <td>Seattle-Tacoma-Bellevue, WA MSA</td>\n",
       "      <td>...</td>\n",
       "      <td>surf</td>\n",
       "      <td>NaT</td>\n",
       "      <td>NaT</td>\n",
       "      <td>50</td>\n",
       "      <td>15360</td>\n",
       "      <td>500</td>\n",
       "      <td>20</td>\n",
       "      <td>10</td>\n",
       "      <td>0.03</td>\n",
       "      <td>0.03</td>\n",
       "    </tr>\n",
       "  </tbody>\n",
       "</table>\n",
       "<p>5 rows × 21 columns</p>\n",
       "</div>"
      ],
      "text/plain": [
       "   user_id  month  total_calls  total_minutes  total_messages  gb_used  \\\n",
       "0     1000     12         16.0          124.0            11.0      4.0   \n",
       "1     1001      8         27.0          182.0            30.0     21.0   \n",
       "2     1001      9         49.0          315.0            44.0     41.0   \n",
       "3     1001     10         65.0          393.0            53.0     50.0   \n",
       "4     1001     11         64.0          426.0            36.0     49.0   \n",
       "\n",
       "  first_name  last_name  age                                   city  ...  \\\n",
       "0   Anamaria      Bauer   45  Atlanta-Sandy Springs-Roswell, GA MSA  ...   \n",
       "1     Mickey  Wilkerson   28        Seattle-Tacoma-Bellevue, WA MSA  ...   \n",
       "2     Mickey  Wilkerson   28        Seattle-Tacoma-Bellevue, WA MSA  ...   \n",
       "3     Mickey  Wilkerson   28        Seattle-Tacoma-Bellevue, WA MSA  ...   \n",
       "4     Mickey  Wilkerson   28        Seattle-Tacoma-Bellevue, WA MSA  ...   \n",
       "\n",
       "  plan_name churn_date active_time messages_included  mb_per_month_included  \\\n",
       "0  ultimate        NaT         NaT              1000                  30720   \n",
       "1      surf        NaT         NaT                50                  15360   \n",
       "2      surf        NaT         NaT                50                  15360   \n",
       "3      surf        NaT         NaT                50                  15360   \n",
       "4      surf        NaT         NaT                50                  15360   \n",
       "\n",
       "   minutes_included  usd_monthly_pay  usd_per_gb  usd_per_message  \\\n",
       "0              3000               70           7             0.01   \n",
       "1               500               20          10             0.03   \n",
       "2               500               20          10             0.03   \n",
       "3               500               20          10             0.03   \n",
       "4               500               20          10             0.03   \n",
       "\n",
       "   usd_per_minute  \n",
       "0            0.01  \n",
       "1            0.03  \n",
       "2            0.03  \n",
       "3            0.03  \n",
       "4            0.03  \n",
       "\n",
       "[5 rows x 21 columns]"
      ]
     },
     "execution_count": 50,
     "metadata": {},
     "output_type": "execute_result"
    }
   ],
   "source": [
    "merge_consumption_plans.head()"
   ]
  },
  {
   "cell_type": "code",
   "execution_count": 51,
   "metadata": {
    "colab": {
     "base_uri": "https://localhost:8080/"
    },
    "id": "4JcFvF0svEuK",
    "outputId": "0904ee09-4c79-4726-c3a7-ac18fe909f28"
   },
   "outputs": [
    {
     "name": "stdout",
     "output_type": "stream",
     "text": [
      "<class 'pandas.core.frame.DataFrame'>\n",
      "Int64Index: 2293 entries, 0 to 2292\n",
      "Data columns (total 21 columns):\n",
      " #   Column                 Non-Null Count  Dtype          \n",
      "---  ------                 --------------  -----          \n",
      " 0   user_id                2293 non-null   int64          \n",
      " 1   month                  2293 non-null   int64          \n",
      " 2   total_calls            2258 non-null   float64        \n",
      " 3   total_minutes          2258 non-null   float64        \n",
      " 4   total_messages         1806 non-null   float64        \n",
      " 5   gb_used                2277 non-null   float64        \n",
      " 6   first_name             2293 non-null   object         \n",
      " 7   last_name              2293 non-null   object         \n",
      " 8   age                    2293 non-null   int64          \n",
      " 9   city                   2293 non-null   object         \n",
      " 10  reg_date               2293 non-null   datetime64[ns] \n",
      " 11  plan_name              2293 non-null   object         \n",
      " 12  churn_date             158 non-null    datetime64[ns] \n",
      " 13  active_time            158 non-null    timedelta64[ns]\n",
      " 14  messages_included      2293 non-null   int64          \n",
      " 15  mb_per_month_included  2293 non-null   int64          \n",
      " 16  minutes_included       2293 non-null   int64          \n",
      " 17  usd_monthly_pay        2293 non-null   int64          \n",
      " 18  usd_per_gb             2293 non-null   int64          \n",
      " 19  usd_per_message        2293 non-null   float64        \n",
      " 20  usd_per_minute         2293 non-null   float64        \n",
      "dtypes: datetime64[ns](2), float64(6), int64(8), object(4), timedelta64[ns](1)\n",
      "memory usage: 394.1+ KB\n"
     ]
    }
   ],
   "source": [
    "merge_consumption_plans.info()"
   ]
  },
  {
   "cell_type": "markdown",
   "metadata": {},
   "source": [
    "<div class=\"alert alert-block alert-warning\">\n",
    "\n",
    "<b>Comentario revisor</b> <a class=\"tocSkip\"></a>\n",
    "\n",
    "El merge es correcto, pero te recomiendo que antes de juntar las bases transformes todas las variables necesarias como redondear algunas variables (duración) y transformar otras (mb a gb). Dado que cuando haces la agrupación por ususario tomas el valor total y no los valores transformados\n",
    "\n",
    "</div>"
   ]
  },
  {
   "cell_type": "code",
   "execution_count": 52,
   "metadata": {
    "id": "cO99g6J8vT8h"
   },
   "outputs": [],
   "source": [
    "merge_consumption_plans[\"total_calls\"] = merge_consumption_plans[\"total_calls\"].fillna(0)\n",
    "merge_consumption_plans[\"total_minutes\"] = merge_consumption_plans[\"total_minutes\"].fillna(0)\n",
    "merge_consumption_plans[\"total_messages\"] = merge_consumption_plans[\"total_messages\"].fillna(0)\n",
    "merge_consumption_plans[\"mb_used\"] = merge_consumption_plans[\"gb_used\"].fillna(0)"
   ]
  },
  {
   "cell_type": "code",
   "execution_count": 53,
   "metadata": {
    "colab": {
     "base_uri": "https://localhost:8080/"
    },
    "id": "xNI0bs-5wJXB",
    "outputId": "764d9ab7-8136-4524-db9c-faa2f0bc7d1b"
   },
   "outputs": [
    {
     "name": "stdout",
     "output_type": "stream",
     "text": [
      "<class 'pandas.core.frame.DataFrame'>\n",
      "Int64Index: 2293 entries, 0 to 2292\n",
      "Data columns (total 22 columns):\n",
      " #   Column                 Non-Null Count  Dtype          \n",
      "---  ------                 --------------  -----          \n",
      " 0   user_id                2293 non-null   int64          \n",
      " 1   month                  2293 non-null   int64          \n",
      " 2   total_calls            2293 non-null   float64        \n",
      " 3   total_minutes          2293 non-null   float64        \n",
      " 4   total_messages         2293 non-null   float64        \n",
      " 5   gb_used                2277 non-null   float64        \n",
      " 6   first_name             2293 non-null   object         \n",
      " 7   last_name              2293 non-null   object         \n",
      " 8   age                    2293 non-null   int64          \n",
      " 9   city                   2293 non-null   object         \n",
      " 10  reg_date               2293 non-null   datetime64[ns] \n",
      " 11  plan_name              2293 non-null   object         \n",
      " 12  churn_date             158 non-null    datetime64[ns] \n",
      " 13  active_time            158 non-null    timedelta64[ns]\n",
      " 14  messages_included      2293 non-null   int64          \n",
      " 15  mb_per_month_included  2293 non-null   int64          \n",
      " 16  minutes_included       2293 non-null   int64          \n",
      " 17  usd_monthly_pay        2293 non-null   int64          \n",
      " 18  usd_per_gb             2293 non-null   int64          \n",
      " 19  usd_per_message        2293 non-null   float64        \n",
      " 20  usd_per_minute         2293 non-null   float64        \n",
      " 21  mb_used                2293 non-null   float64        \n",
      "dtypes: datetime64[ns](2), float64(7), int64(8), object(4), timedelta64[ns](1)\n",
      "memory usage: 412.0+ KB\n"
     ]
    }
   ],
   "source": [
    "merge_consumption_plans.info()"
   ]
  },
  {
   "cell_type": "markdown",
   "metadata": {},
   "source": [
    "<div class=\"alert alert-block alert-danger\">\n",
    "\n",
    "<b>Comentario revisor</b> <a class=\"tocSkip\"></a>\n",
    "\n",
    "Te sugiero verificar a cuánto equivale un gb para cuando hagas la transformación.\n",
    "\n",
    "</div>"
   ]
  },
  {
   "cell_type": "code",
   "execution_count": 54,
   "metadata": {
    "id": "ddWZvXdwDtTG"
   },
   "outputs": [],
   "source": [
    "# Convertir los mensajes a integer\n",
    "merge_consumption_plans[\"total_messages\"] = merge_consumption_plans[\"total_messages\"].astype(int)\n"
   ]
  },
  {
   "cell_type": "code",
   "execution_count": 55,
   "metadata": {
    "colab": {
     "base_uri": "https://localhost:8080/",
     "height": 533
    },
    "id": "xOJ-y9R1yuFe",
    "outputId": "20099f96-87d7-4567-c742-a7a453dc610a"
   },
   "outputs": [
    {
     "data": {
      "text/html": [
       "<div>\n",
       "<style scoped>\n",
       "    .dataframe tbody tr th:only-of-type {\n",
       "        vertical-align: middle;\n",
       "    }\n",
       "\n",
       "    .dataframe tbody tr th {\n",
       "        vertical-align: top;\n",
       "    }\n",
       "\n",
       "    .dataframe thead th {\n",
       "        text-align: right;\n",
       "    }\n",
       "</style>\n",
       "<table border=\"1\" class=\"dataframe\">\n",
       "  <thead>\n",
       "    <tr style=\"text-align: right;\">\n",
       "      <th></th>\n",
       "      <th>user_id</th>\n",
       "      <th>month</th>\n",
       "      <th>total_calls</th>\n",
       "      <th>total_minutes</th>\n",
       "      <th>total_messages</th>\n",
       "      <th>gb_used</th>\n",
       "      <th>first_name</th>\n",
       "      <th>last_name</th>\n",
       "      <th>age</th>\n",
       "      <th>city</th>\n",
       "      <th>...</th>\n",
       "      <th>churn_date</th>\n",
       "      <th>active_time</th>\n",
       "      <th>messages_included</th>\n",
       "      <th>mb_per_month_included</th>\n",
       "      <th>minutes_included</th>\n",
       "      <th>usd_monthly_pay</th>\n",
       "      <th>usd_per_gb</th>\n",
       "      <th>usd_per_message</th>\n",
       "      <th>usd_per_minute</th>\n",
       "      <th>mb_used</th>\n",
       "    </tr>\n",
       "  </thead>\n",
       "  <tbody>\n",
       "    <tr>\n",
       "      <th>0</th>\n",
       "      <td>1000</td>\n",
       "      <td>12</td>\n",
       "      <td>16.0</td>\n",
       "      <td>124.0</td>\n",
       "      <td>11</td>\n",
       "      <td>4.0</td>\n",
       "      <td>Anamaria</td>\n",
       "      <td>Bauer</td>\n",
       "      <td>45</td>\n",
       "      <td>Atlanta-Sandy Springs-Roswell, GA MSA</td>\n",
       "      <td>...</td>\n",
       "      <td>NaT</td>\n",
       "      <td>NaT</td>\n",
       "      <td>1000</td>\n",
       "      <td>30720</td>\n",
       "      <td>3000</td>\n",
       "      <td>70</td>\n",
       "      <td>7</td>\n",
       "      <td>0.01</td>\n",
       "      <td>0.01</td>\n",
       "      <td>4.0</td>\n",
       "    </tr>\n",
       "    <tr>\n",
       "      <th>1</th>\n",
       "      <td>1001</td>\n",
       "      <td>8</td>\n",
       "      <td>27.0</td>\n",
       "      <td>182.0</td>\n",
       "      <td>30</td>\n",
       "      <td>21.0</td>\n",
       "      <td>Mickey</td>\n",
       "      <td>Wilkerson</td>\n",
       "      <td>28</td>\n",
       "      <td>Seattle-Tacoma-Bellevue, WA MSA</td>\n",
       "      <td>...</td>\n",
       "      <td>NaT</td>\n",
       "      <td>NaT</td>\n",
       "      <td>50</td>\n",
       "      <td>15360</td>\n",
       "      <td>500</td>\n",
       "      <td>20</td>\n",
       "      <td>10</td>\n",
       "      <td>0.03</td>\n",
       "      <td>0.03</td>\n",
       "      <td>21.0</td>\n",
       "    </tr>\n",
       "    <tr>\n",
       "      <th>2</th>\n",
       "      <td>1001</td>\n",
       "      <td>9</td>\n",
       "      <td>49.0</td>\n",
       "      <td>315.0</td>\n",
       "      <td>44</td>\n",
       "      <td>41.0</td>\n",
       "      <td>Mickey</td>\n",
       "      <td>Wilkerson</td>\n",
       "      <td>28</td>\n",
       "      <td>Seattle-Tacoma-Bellevue, WA MSA</td>\n",
       "      <td>...</td>\n",
       "      <td>NaT</td>\n",
       "      <td>NaT</td>\n",
       "      <td>50</td>\n",
       "      <td>15360</td>\n",
       "      <td>500</td>\n",
       "      <td>20</td>\n",
       "      <td>10</td>\n",
       "      <td>0.03</td>\n",
       "      <td>0.03</td>\n",
       "      <td>41.0</td>\n",
       "    </tr>\n",
       "    <tr>\n",
       "      <th>3</th>\n",
       "      <td>1001</td>\n",
       "      <td>10</td>\n",
       "      <td>65.0</td>\n",
       "      <td>393.0</td>\n",
       "      <td>53</td>\n",
       "      <td>50.0</td>\n",
       "      <td>Mickey</td>\n",
       "      <td>Wilkerson</td>\n",
       "      <td>28</td>\n",
       "      <td>Seattle-Tacoma-Bellevue, WA MSA</td>\n",
       "      <td>...</td>\n",
       "      <td>NaT</td>\n",
       "      <td>NaT</td>\n",
       "      <td>50</td>\n",
       "      <td>15360</td>\n",
       "      <td>500</td>\n",
       "      <td>20</td>\n",
       "      <td>10</td>\n",
       "      <td>0.03</td>\n",
       "      <td>0.03</td>\n",
       "      <td>50.0</td>\n",
       "    </tr>\n",
       "    <tr>\n",
       "      <th>4</th>\n",
       "      <td>1001</td>\n",
       "      <td>11</td>\n",
       "      <td>64.0</td>\n",
       "      <td>426.0</td>\n",
       "      <td>36</td>\n",
       "      <td>49.0</td>\n",
       "      <td>Mickey</td>\n",
       "      <td>Wilkerson</td>\n",
       "      <td>28</td>\n",
       "      <td>Seattle-Tacoma-Bellevue, WA MSA</td>\n",
       "      <td>...</td>\n",
       "      <td>NaT</td>\n",
       "      <td>NaT</td>\n",
       "      <td>50</td>\n",
       "      <td>15360</td>\n",
       "      <td>500</td>\n",
       "      <td>20</td>\n",
       "      <td>10</td>\n",
       "      <td>0.03</td>\n",
       "      <td>0.03</td>\n",
       "      <td>49.0</td>\n",
       "    </tr>\n",
       "  </tbody>\n",
       "</table>\n",
       "<p>5 rows × 22 columns</p>\n",
       "</div>"
      ],
      "text/plain": [
       "   user_id  month  total_calls  total_minutes  total_messages  gb_used  \\\n",
       "0     1000     12         16.0          124.0              11      4.0   \n",
       "1     1001      8         27.0          182.0              30     21.0   \n",
       "2     1001      9         49.0          315.0              44     41.0   \n",
       "3     1001     10         65.0          393.0              53     50.0   \n",
       "4     1001     11         64.0          426.0              36     49.0   \n",
       "\n",
       "  first_name  last_name  age                                   city  ...  \\\n",
       "0   Anamaria      Bauer   45  Atlanta-Sandy Springs-Roswell, GA MSA  ...   \n",
       "1     Mickey  Wilkerson   28        Seattle-Tacoma-Bellevue, WA MSA  ...   \n",
       "2     Mickey  Wilkerson   28        Seattle-Tacoma-Bellevue, WA MSA  ...   \n",
       "3     Mickey  Wilkerson   28        Seattle-Tacoma-Bellevue, WA MSA  ...   \n",
       "4     Mickey  Wilkerson   28        Seattle-Tacoma-Bellevue, WA MSA  ...   \n",
       "\n",
       "  churn_date active_time messages_included mb_per_month_included  \\\n",
       "0        NaT         NaT              1000                 30720   \n",
       "1        NaT         NaT                50                 15360   \n",
       "2        NaT         NaT                50                 15360   \n",
       "3        NaT         NaT                50                 15360   \n",
       "4        NaT         NaT                50                 15360   \n",
       "\n",
       "   minutes_included  usd_monthly_pay  usd_per_gb  usd_per_message  \\\n",
       "0              3000               70           7             0.01   \n",
       "1               500               20          10             0.03   \n",
       "2               500               20          10             0.03   \n",
       "3               500               20          10             0.03   \n",
       "4               500               20          10             0.03   \n",
       "\n",
       "   usd_per_minute  mb_used  \n",
       "0            0.01      4.0  \n",
       "1            0.03     21.0  \n",
       "2            0.03     41.0  \n",
       "3            0.03     50.0  \n",
       "4            0.03     49.0  \n",
       "\n",
       "[5 rows x 22 columns]"
      ]
     },
     "execution_count": 55,
     "metadata": {},
     "output_type": "execute_result"
    }
   ],
   "source": [
    "merge_consumption_plans.head()"
   ]
  },
  {
   "cell_type": "code",
   "execution_count": 56,
   "metadata": {
    "colab": {
     "base_uri": "https://localhost:8080/",
     "height": 423
    },
    "id": "5FGCf_c60q1I",
    "outputId": "ef152086-1d92-4b89-877b-a4606d9f0e65"
   },
   "outputs": [
    {
     "data": {
      "text/html": [
       "<div>\n",
       "<style scoped>\n",
       "    .dataframe tbody tr th:only-of-type {\n",
       "        vertical-align: middle;\n",
       "    }\n",
       "\n",
       "    .dataframe tbody tr th {\n",
       "        vertical-align: top;\n",
       "    }\n",
       "\n",
       "    .dataframe thead th {\n",
       "        text-align: right;\n",
       "    }\n",
       "</style>\n",
       "<table border=\"1\" class=\"dataframe\">\n",
       "  <thead>\n",
       "    <tr style=\"text-align: right;\">\n",
       "      <th></th>\n",
       "      <th>user_id</th>\n",
       "      <th>month</th>\n",
       "      <th>plan_name</th>\n",
       "      <th>total_minutes</th>\n",
       "    </tr>\n",
       "  </thead>\n",
       "  <tbody>\n",
       "    <tr>\n",
       "      <th>0</th>\n",
       "      <td>1000</td>\n",
       "      <td>12</td>\n",
       "      <td>ultimate</td>\n",
       "      <td>124.0</td>\n",
       "    </tr>\n",
       "    <tr>\n",
       "      <th>1</th>\n",
       "      <td>1001</td>\n",
       "      <td>8</td>\n",
       "      <td>surf</td>\n",
       "      <td>182.0</td>\n",
       "    </tr>\n",
       "    <tr>\n",
       "      <th>2</th>\n",
       "      <td>1001</td>\n",
       "      <td>9</td>\n",
       "      <td>surf</td>\n",
       "      <td>315.0</td>\n",
       "    </tr>\n",
       "    <tr>\n",
       "      <th>3</th>\n",
       "      <td>1001</td>\n",
       "      <td>10</td>\n",
       "      <td>surf</td>\n",
       "      <td>393.0</td>\n",
       "    </tr>\n",
       "    <tr>\n",
       "      <th>4</th>\n",
       "      <td>1001</td>\n",
       "      <td>11</td>\n",
       "      <td>surf</td>\n",
       "      <td>426.0</td>\n",
       "    </tr>\n",
       "    <tr>\n",
       "      <th>...</th>\n",
       "      <td>...</td>\n",
       "      <td>...</td>\n",
       "      <td>...</td>\n",
       "      <td>...</td>\n",
       "    </tr>\n",
       "    <tr>\n",
       "      <th>2288</th>\n",
       "      <td>1498</td>\n",
       "      <td>12</td>\n",
       "      <td>surf</td>\n",
       "      <td>339.0</td>\n",
       "    </tr>\n",
       "    <tr>\n",
       "      <th>2289</th>\n",
       "      <td>1499</td>\n",
       "      <td>9</td>\n",
       "      <td>surf</td>\n",
       "      <td>346.0</td>\n",
       "    </tr>\n",
       "    <tr>\n",
       "      <th>2290</th>\n",
       "      <td>1499</td>\n",
       "      <td>10</td>\n",
       "      <td>surf</td>\n",
       "      <td>385.0</td>\n",
       "    </tr>\n",
       "    <tr>\n",
       "      <th>2291</th>\n",
       "      <td>1499</td>\n",
       "      <td>11</td>\n",
       "      <td>surf</td>\n",
       "      <td>308.0</td>\n",
       "    </tr>\n",
       "    <tr>\n",
       "      <th>2292</th>\n",
       "      <td>1499</td>\n",
       "      <td>12</td>\n",
       "      <td>surf</td>\n",
       "      <td>496.0</td>\n",
       "    </tr>\n",
       "  </tbody>\n",
       "</table>\n",
       "<p>2293 rows × 4 columns</p>\n",
       "</div>"
      ],
      "text/plain": [
       "      user_id  month plan_name  total_minutes\n",
       "0        1000     12  ultimate          124.0\n",
       "1        1001      8      surf          182.0\n",
       "2        1001      9      surf          315.0\n",
       "3        1001     10      surf          393.0\n",
       "4        1001     11      surf          426.0\n",
       "...       ...    ...       ...            ...\n",
       "2288     1498     12      surf          339.0\n",
       "2289     1499      9      surf          346.0\n",
       "2290     1499     10      surf          385.0\n",
       "2291     1499     11      surf          308.0\n",
       "2292     1499     12      surf          496.0\n",
       "\n",
       "[2293 rows x 4 columns]"
      ]
     },
     "execution_count": 56,
     "metadata": {},
     "output_type": "execute_result"
    }
   ],
   "source": [
    "# Calcula el ingreso mensual para cada usuario\n",
    "user_month_income = merge_consumption_plans.groupby([\"user_id\",\"month\",\"plan_name\"])[\"total_minutes\"].sum()\n",
    "user_month_income = pd.DataFrame(user_month_income)\n",
    "user_month_income = user_month_income.reset_index()\n",
    "user_month_income\n"
   ]
  },
  {
   "cell_type": "code",
   "execution_count": 57,
   "metadata": {
    "colab": {
     "base_uri": "https://localhost:8080/",
     "height": 519
    },
    "id": "Apwk0iSQ9tR-",
    "outputId": "5e41c348-219a-4b8d-94d9-e7c16c375696"
   },
   "outputs": [
    {
     "data": {
      "text/html": [
       "<div>\n",
       "<style scoped>\n",
       "    .dataframe tbody tr th:only-of-type {\n",
       "        vertical-align: middle;\n",
       "    }\n",
       "\n",
       "    .dataframe tbody tr th {\n",
       "        vertical-align: top;\n",
       "    }\n",
       "\n",
       "    .dataframe thead th {\n",
       "        text-align: right;\n",
       "    }\n",
       "</style>\n",
       "<table border=\"1\" class=\"dataframe\">\n",
       "  <thead>\n",
       "    <tr style=\"text-align: right;\">\n",
       "      <th></th>\n",
       "      <th>user_id</th>\n",
       "      <th>month</th>\n",
       "      <th>plan_name</th>\n",
       "      <th>total_minutes</th>\n",
       "    </tr>\n",
       "  </thead>\n",
       "  <tbody>\n",
       "    <tr>\n",
       "      <th>0</th>\n",
       "      <td>1003</td>\n",
       "      <td>12</td>\n",
       "      <td>surf</td>\n",
       "      <td>1104.0</td>\n",
       "    </tr>\n",
       "    <tr>\n",
       "      <th>1</th>\n",
       "      <td>1007</td>\n",
       "      <td>10</td>\n",
       "      <td>surf</td>\n",
       "      <td>645.0</td>\n",
       "    </tr>\n",
       "    <tr>\n",
       "      <th>2</th>\n",
       "      <td>1007</td>\n",
       "      <td>11</td>\n",
       "      <td>surf</td>\n",
       "      <td>524.0</td>\n",
       "    </tr>\n",
       "    <tr>\n",
       "      <th>3</th>\n",
       "      <td>1007</td>\n",
       "      <td>12</td>\n",
       "      <td>surf</td>\n",
       "      <td>617.0</td>\n",
       "    </tr>\n",
       "    <tr>\n",
       "      <th>4</th>\n",
       "      <td>1009</td>\n",
       "      <td>5</td>\n",
       "      <td>surf</td>\n",
       "      <td>534.0</td>\n",
       "    </tr>\n",
       "    <tr>\n",
       "      <th>5</th>\n",
       "      <td>1009</td>\n",
       "      <td>6</td>\n",
       "      <td>surf</td>\n",
       "      <td>823.0</td>\n",
       "    </tr>\n",
       "    <tr>\n",
       "      <th>6</th>\n",
       "      <td>1009</td>\n",
       "      <td>7</td>\n",
       "      <td>surf</td>\n",
       "      <td>880.0</td>\n",
       "    </tr>\n",
       "    <tr>\n",
       "      <th>7</th>\n",
       "      <td>1009</td>\n",
       "      <td>8</td>\n",
       "      <td>surf</td>\n",
       "      <td>731.0</td>\n",
       "    </tr>\n",
       "    <tr>\n",
       "      <th>8</th>\n",
       "      <td>1009</td>\n",
       "      <td>9</td>\n",
       "      <td>surf</td>\n",
       "      <td>776.0</td>\n",
       "    </tr>\n",
       "    <tr>\n",
       "      <th>9</th>\n",
       "      <td>1009</td>\n",
       "      <td>10</td>\n",
       "      <td>surf</td>\n",
       "      <td>740.0</td>\n",
       "    </tr>\n",
       "    <tr>\n",
       "      <th>10</th>\n",
       "      <td>1009</td>\n",
       "      <td>11</td>\n",
       "      <td>surf</td>\n",
       "      <td>714.0</td>\n",
       "    </tr>\n",
       "    <tr>\n",
       "      <th>11</th>\n",
       "      <td>1009</td>\n",
       "      <td>12</td>\n",
       "      <td>surf</td>\n",
       "      <td>756.0</td>\n",
       "    </tr>\n",
       "    <tr>\n",
       "      <th>12</th>\n",
       "      <td>1010</td>\n",
       "      <td>4</td>\n",
       "      <td>surf</td>\n",
       "      <td>656.0</td>\n",
       "    </tr>\n",
       "    <tr>\n",
       "      <th>13</th>\n",
       "      <td>1010</td>\n",
       "      <td>5</td>\n",
       "      <td>surf</td>\n",
       "      <td>532.0</td>\n",
       "    </tr>\n",
       "    <tr>\n",
       "      <th>14</th>\n",
       "      <td>1010</td>\n",
       "      <td>6</td>\n",
       "      <td>surf</td>\n",
       "      <td>553.0</td>\n",
       "    </tr>\n",
       "  </tbody>\n",
       "</table>\n",
       "</div>"
      ],
      "text/plain": [
       "    user_id  month plan_name  total_minutes\n",
       "0      1003     12      surf         1104.0\n",
       "1      1007     10      surf          645.0\n",
       "2      1007     11      surf          524.0\n",
       "3      1007     12      surf          617.0\n",
       "4      1009      5      surf          534.0\n",
       "5      1009      6      surf          823.0\n",
       "6      1009      7      surf          880.0\n",
       "7      1009      8      surf          731.0\n",
       "8      1009      9      surf          776.0\n",
       "9      1009     10      surf          740.0\n",
       "10     1009     11      surf          714.0\n",
       "11     1009     12      surf          756.0\n",
       "12     1010      4      surf          656.0\n",
       "13     1010      5      surf          532.0\n",
       "14     1010      6      surf          553.0"
      ]
     },
     "execution_count": 57,
     "metadata": {},
     "output_type": "execute_result"
    }
   ],
   "source": [
    "income_minutes = user_month_income[(user_month_income[\"plan_name\"] == \"surf\") & (user_month_income[\"total_minutes\"] > 500)]\n",
    "income_minutes = income_minutes.reset_index(drop=True)\n",
    "income_minutes.head(15)\n"
   ]
  },
  {
   "cell_type": "code",
   "execution_count": 93,
   "metadata": {
    "id": "p8tKHAbvA-gj"
   },
   "outputs": [
    {
     "name": "stdout",
     "output_type": "stream",
     "text": [
      "CPU times: user 20.5 ms, sys: 0 ns, total: 20.5 ms\n",
      "Wall time: 18.4 ms\n"
     ]
    }
   ],
   "source": [
    "def calculate_expense(row):\n",
    "  if row[\"plan_name\"] == \"surf\" and row[\"total_minutes\"] > 500:\n",
    "    return (row[\"total_minutes\"]-500) * 0.03\n",
    "  elif row[\"plan_name\"] == \"ultimate\" and row[\"total_minutes\"] > 3000:\n",
    "    return (row[\"total_minutes\"]-3000) * 0.01\n",
    "  else:\n",
    "    return 0\n",
    "\n",
    "income_minutes[\"expenses_minutes\"] = income_minutes.apply(calculate_expense, axis = 1)"
   ]
  },
  {
   "cell_type": "markdown",
   "metadata": {},
   "source": [
    "<div class=\"alert alert-block alert-danger\">\n",
    "\n",
    "<b>Comentario revisor</b> <a class=\"tocSkip\"></a>\n",
    "\n",
    "Verifica el nombre del plan dado que lo tienes como \"ultumate\" esto puede hacer que nunca se consideren los exceso en este plan.\n",
    "\n",
    "</div>"
   ]
  },
  {
   "cell_type": "code",
   "execution_count": 59,
   "metadata": {
    "colab": {
     "base_uri": "https://localhost:8080/",
     "height": 206
    },
    "id": "XFsETBCRC5u0",
    "outputId": "3474c6bf-a70f-4dd9-c54b-2070cc33ae1c"
   },
   "outputs": [
    {
     "data": {
      "text/html": [
       "<div>\n",
       "<style scoped>\n",
       "    .dataframe tbody tr th:only-of-type {\n",
       "        vertical-align: middle;\n",
       "    }\n",
       "\n",
       "    .dataframe tbody tr th {\n",
       "        vertical-align: top;\n",
       "    }\n",
       "\n",
       "    .dataframe thead th {\n",
       "        text-align: right;\n",
       "    }\n",
       "</style>\n",
       "<table border=\"1\" class=\"dataframe\">\n",
       "  <thead>\n",
       "    <tr style=\"text-align: right;\">\n",
       "      <th></th>\n",
       "      <th>user_id</th>\n",
       "      <th>month</th>\n",
       "      <th>plan_name</th>\n",
       "      <th>total_minutes</th>\n",
       "      <th>expenses_minutes</th>\n",
       "    </tr>\n",
       "  </thead>\n",
       "  <tbody>\n",
       "    <tr>\n",
       "      <th>0</th>\n",
       "      <td>1003</td>\n",
       "      <td>12</td>\n",
       "      <td>surf</td>\n",
       "      <td>1104.0</td>\n",
       "      <td>18.12</td>\n",
       "    </tr>\n",
       "    <tr>\n",
       "      <th>1</th>\n",
       "      <td>1007</td>\n",
       "      <td>10</td>\n",
       "      <td>surf</td>\n",
       "      <td>645.0</td>\n",
       "      <td>4.35</td>\n",
       "    </tr>\n",
       "    <tr>\n",
       "      <th>2</th>\n",
       "      <td>1007</td>\n",
       "      <td>11</td>\n",
       "      <td>surf</td>\n",
       "      <td>524.0</td>\n",
       "      <td>0.72</td>\n",
       "    </tr>\n",
       "    <tr>\n",
       "      <th>3</th>\n",
       "      <td>1007</td>\n",
       "      <td>12</td>\n",
       "      <td>surf</td>\n",
       "      <td>617.0</td>\n",
       "      <td>3.51</td>\n",
       "    </tr>\n",
       "    <tr>\n",
       "      <th>4</th>\n",
       "      <td>1009</td>\n",
       "      <td>5</td>\n",
       "      <td>surf</td>\n",
       "      <td>534.0</td>\n",
       "      <td>1.02</td>\n",
       "    </tr>\n",
       "  </tbody>\n",
       "</table>\n",
       "</div>"
      ],
      "text/plain": [
       "   user_id  month plan_name  total_minutes  expenses_minutes\n",
       "0     1003     12      surf         1104.0             18.12\n",
       "1     1007     10      surf          645.0              4.35\n",
       "2     1007     11      surf          524.0              0.72\n",
       "3     1007     12      surf          617.0              3.51\n",
       "4     1009      5      surf          534.0              1.02"
      ]
     },
     "execution_count": 59,
     "metadata": {},
     "output_type": "execute_result"
    }
   ],
   "source": [
    "income_minutes.head()"
   ]
  },
  {
   "cell_type": "markdown",
   "metadata": {
    "id": "ROT4wWbjHjrt"
   },
   "source": [
    "En los codigos anteriores realice el cálculo del costo por usuario y por mes en relacion a los minutos gastados. Sin embargo,tendria que hacer lo mismo para cada columna que genera un costo adicional en caso de pasarse de lo incluido en el plan. Entonces, para no escribir tanto código, creare una función que sintetize todo en una sola columna\n",
    "\n",
    "\n"
   ]
  },
  {
   "cell_type": "code",
   "execution_count": 96,
   "metadata": {
    "id": "hI19H7OoIC9H"
   },
   "outputs": [
    {
     "name": "stdout",
     "output_type": "stream",
     "text": [
      "CPU times: user 104 ms, sys: 0 ns, total: 104 ms\n",
      "Wall time: 101 ms\n"
     ]
    }
   ],
   "source": [
    "%%time\n",
    "# Función que calcula el ingreso mensual(o costo para el usuario) para cada usuario.\n",
    "\n",
    "def calculate_total_expenses(row):\n",
    "\n",
    "  if row[\"plan_name\"] == \"surf\":\n",
    "    expense = 20\n",
    "    if row[\"total_minutes\"] > 500:\n",
    "      expense += (row[\"total_minutes\"]-500) * 0.03\n",
    "    if row[\"total_messages\"] > 50:\n",
    "      expense += (row[\"total_messages\"]-50) * 0.03\n",
    "    if row[\"gb_used\"] > 15:\n",
    "      expense += (row[\"gb_used\"] - 15) * 10\n",
    "  elif row[\"plan_name\"] == \"ultimate\":\n",
    "    expense = 70\n",
    "    if row[\"total_minutes\"] > 3000:\n",
    "      expense += (row[\"total_minutes\"]-3000) * 0.01\n",
    "    if row[\"total_messages\"] > 1000:\n",
    "      expense += (row[\"total_messages\"]-1000) * 0.01\n",
    "    if row[\"gb_used\"] > 30:\n",
    "      expense += (row[\"gb_used\"] - 30) * 7\n",
    "\n",
    "  return expense\n",
    "\n",
    "merge_consumption_plans[\"total_expenses\"] = merge_consumption_plans.apply(calculate_total_expenses, axis=1)"
   ]
  },
  {
   "cell_type": "code",
   "execution_count": 61,
   "metadata": {
    "colab": {
     "base_uri": "https://localhost:8080/"
    },
    "id": "m8uHth97Mu0E",
    "outputId": "46a4df64-885a-4564-cba5-0d2d0a9cc36e"
   },
   "outputs": [
    {
     "name": "stdout",
     "output_type": "stream",
     "text": [
      "    user_id  month plan_name  total_expenses\n",
      "0      1000     12  ultimate           70.00\n",
      "1      1001      8      surf           80.00\n",
      "2      1001      9      surf          280.00\n",
      "3      1001     10      surf          370.09\n",
      "4      1001     11      surf          360.00\n",
      "5      1001     12      surf          420.00\n",
      "6      1002     10      surf           20.00\n",
      "7      1002     11      surf          320.00\n",
      "8      1002     12      surf          240.00\n",
      "9      1003     12      surf          418.12\n",
      "10     1004      5      surf           20.00\n",
      "11     1004      6      surf          450.00\n",
      "12     1004      7      surf          480.00\n",
      "13     1004      8      surf          570.00\n",
      "14     1004      9      surf          350.00\n"
     ]
    }
   ],
   "source": [
    "print(merge_consumption_plans[[\"user_id\",\"month\",\"plan_name\",\"total_expenses\"]].head(15))"
   ]
  },
  {
   "cell_type": "code",
   "execution_count": 62,
   "metadata": {
    "colab": {
     "base_uri": "https://localhost:8080/"
    },
    "id": "B1SQR2Jtf1ve",
    "outputId": "1d4637e4-e657-4dc2-d1d3-82c299c37298"
   },
   "outputs": [
    {
     "name": "stdout",
     "output_type": "stream",
     "text": [
      "month  user_id\n",
      "1      1042        20.00\n",
      "       1077        70.00\n",
      "       1185        70.00\n",
      "       1196        70.00\n",
      "       1214        70.00\n",
      "       1362        80.00\n",
      "2      1028        70.00\n",
      "       1042        20.00\n",
      "       1077       133.00\n",
      "       1099        20.00\n",
      "       1138       300.00\n",
      "       1155        70.00\n",
      "       1171       330.00\n",
      "       1185       224.00\n",
      "       1196       154.00\n",
      "       1214       245.00\n",
      "       1246       252.00\n",
      "       1261        20.00\n",
      "       1359       310.00\n",
      "       1362       199.57\n",
      "Name: total_expenses, dtype: float64\n"
     ]
    }
   ],
   "source": [
    "# Los gastos totales por mes por usuario\n",
    "total_expense_month = merge_consumption_plans.groupby([\"month\",\"user_id\"])[\"total_expenses\"].sum()\n",
    "print(total_expense_month.head(20))\n"
   ]
  },
  {
   "cell_type": "markdown",
   "metadata": {},
   "source": [
    "<div class=\"alert alert-block alert-info\">\n",
    "<b>Respuesta del estudiante.</b> <a class=\"tocSkip\"></a>\n",
    "    \n",
    "Para no usar if´s realice las dos lineas de código de abajo, las deje en # solo para saber si es correcta esa forma y asi sustuir la anterior. Me puedes confirmar si es mejor\n",
    "</div>"
   ]
  },
  {
   "cell_type": "code",
   "execution_count": 97,
   "metadata": {},
   "outputs": [
    {
     "name": "stdout",
     "output_type": "stream",
     "text": [
      "CPU times: user 9.7 ms, sys: 0 ns, total: 9.7 ms\n",
      "Wall time: 9.6 ms\n"
     ]
    }
   ],
   "source": [
    "%%time\n",
    "surf_expense = 20\n",
    "surf_expense += np.where(merge_consumption_plans[\"total_minutes\"] > 500,\n",
    "                         (merge_consumption_plans[\"total_minutes\"] - 500) * 0.03,0)\n",
    "surf_expense += np.where(merge_consumption_plans[\"total_messages\"] > 50,\n",
    "                         (merge_consumption_plans[\"total_messages\"] - 50) * 0.03,0)\n",
    "surf_expense += np.where(merge_consumption_plans[\"gb_used\"] > 15,\n",
    "                         (merge_consumption_plans[\"mb_used\"] - 15) *10,0)\n",
    "\n",
    "ultimate_expense = 70\n",
    "ultimate_expense += np.where(merge_consumption_plans[\"total_minutes\"] > 3000,\n",
    "                            (merge_consumption_plans[\"total_minutes\"]-3000)*0.01,0)\n",
    "ultimate_expense += np.where(merge_consumption_plans[\"total_messages\"] > 1000,\n",
    "                            (merge_consumption_plans[\"total_messages\"]-1000)*0.01,0)\n",
    "ultimate_expense += np.where(merge_consumption_plans[\"gb_used\"] > 30,\n",
    "                            (merge_consumption_plans[\"gb_used\"]-30) * 10,0)\n",
    "merge_consumption_plans[\"total_expenses2\"] = np.where(merge_consumption_plans[\"plan_name\"]==\"surf\",\n",
    "                                                      surf_expense,ultimate_expense)\n",
    "\n",
    "\n"
   ]
  },
  {
   "cell_type": "markdown",
   "metadata": {},
   "source": [
    "<div class=\"alert alert-block alert-success\">\n",
    "<b>Comentario revisor</b> <a class=\"tocSkip\"></a>\n",
    "\n",
    "Considero que de esta forma es más eficiente el código. De igual manera cuando quieras determinar de qué forma es más eficiente puedes hacer uso de la siguiente función.  \n",
    "</div>"
   ]
  },
  {
   "cell_type": "code",
   "execution_count": 64,
   "metadata": {},
   "outputs": [
    {
     "name": "stdout",
     "output_type": "stream",
     "text": [
      "    user_id  month plan_name  total_expenses  total_expenses2\n",
      "0      1000     12  ultimate           70.00            70.00\n",
      "1      1001      8      surf           80.00            80.00\n",
      "2      1001      9      surf          280.00           280.00\n",
      "3      1001     10      surf          370.09           370.09\n",
      "4      1001     11      surf          360.00           360.00\n",
      "5      1001     12      surf          420.00           420.00\n",
      "6      1002     10      surf           20.00            20.00\n",
      "7      1002     11      surf          320.00           320.00\n",
      "8      1002     12      surf          240.00           240.00\n",
      "9      1003     12      surf          418.12           418.12\n",
      "10     1004      5      surf           20.00            20.00\n",
      "11     1004      6      surf          450.00           450.00\n",
      "12     1004      7      surf          480.00           480.00\n",
      "13     1004      8      surf          570.00           570.00\n",
      "14     1004      9      surf          350.00           350.00\n"
     ]
    }
   ],
   "source": [
    "# Rsto lo hice para revisar que el resultado de ambos metodos, el método de if's\n",
    "# y el método de where diera el mismo resultado\n",
    "print(merge_consumption_plans[[\"user_id\",\"month\",\"plan_name\",\"total_expenses\",\"total_expenses2\"]].head(15))"
   ]
  },
  {
   "cell_type": "markdown",
   "metadata": {},
   "source": [
    "<div class=\"alert alert-block alert-warning\">\n",
    "\n",
    "<b>Comentario revisor</b> <a class=\"tocSkip\"></a>\n",
    "\n",
    "Si bien es correcta la forma en la que calculaste el gasto total por usuario, en ocasiones donde tengas muchas condiciones hacer un if para cada una puede no ser una forma muy tardada y no muy eficiente de realizar la actividad. En estos casos te recomiendo crear una variable para cada una las variables (llamadas, mensajes e internet) y después juntar estas nuevas variables en tu base total.\n",
    "\n",
    "</div>"
   ]
  },
  {
   "cell_type": "markdown",
   "metadata": {
    "id": "-jtyHzJb0q1I"
   },
   "source": [
    "## Estudia el comportamiento de usuario"
   ]
  },
  {
   "cell_type": "markdown",
   "metadata": {
    "id": "vtW4CJEe0q1J"
   },
   "source": [
    "### Llamadas"
   ]
  },
  {
   "cell_type": "code",
   "execution_count": 65,
   "metadata": {
    "colab": {
     "base_uri": "https://localhost:8080/",
     "height": 206
    },
    "id": "Jf5v5--k0q1J",
    "outputId": "b1f73f05-8b4a-4aed-c9aa-10403384e6d6"
   },
   "outputs": [
    {
     "data": {
      "text/html": [
       "<div>\n",
       "<style scoped>\n",
       "    .dataframe tbody tr th:only-of-type {\n",
       "        vertical-align: middle;\n",
       "    }\n",
       "\n",
       "    .dataframe tbody tr th {\n",
       "        vertical-align: top;\n",
       "    }\n",
       "\n",
       "    .dataframe thead th {\n",
       "        text-align: right;\n",
       "    }\n",
       "</style>\n",
       "<table border=\"1\" class=\"dataframe\">\n",
       "  <thead>\n",
       "    <tr style=\"text-align: right;\">\n",
       "      <th></th>\n",
       "      <th>month</th>\n",
       "      <th>plan_name</th>\n",
       "      <th>total_minutes</th>\n",
       "    </tr>\n",
       "  </thead>\n",
       "  <tbody>\n",
       "    <tr>\n",
       "      <th>0</th>\n",
       "      <td>1</td>\n",
       "      <td>surf</td>\n",
       "      <td>203.000000</td>\n",
       "    </tr>\n",
       "    <tr>\n",
       "      <th>1</th>\n",
       "      <td>1</td>\n",
       "      <td>ultimate</td>\n",
       "      <td>193.500000</td>\n",
       "    </tr>\n",
       "    <tr>\n",
       "      <th>2</th>\n",
       "      <td>2</td>\n",
       "      <td>surf</td>\n",
       "      <td>297.000000</td>\n",
       "    </tr>\n",
       "    <tr>\n",
       "      <th>3</th>\n",
       "      <td>2</td>\n",
       "      <td>ultimate</td>\n",
       "      <td>403.142857</td>\n",
       "    </tr>\n",
       "    <tr>\n",
       "      <th>4</th>\n",
       "      <td>3</td>\n",
       "      <td>surf</td>\n",
       "      <td>330.000000</td>\n",
       "    </tr>\n",
       "  </tbody>\n",
       "</table>\n",
       "</div>"
      ],
      "text/plain": [
       "   month plan_name  total_minutes\n",
       "0      1      surf     203.000000\n",
       "1      1  ultimate     193.500000\n",
       "2      2      surf     297.000000\n",
       "3      2  ultimate     403.142857\n",
       "4      3      surf     330.000000"
      ]
     },
     "execution_count": 65,
     "metadata": {},
     "output_type": "execute_result"
    }
   ],
   "source": [
    "# Compara la duración promedio de llamadas por cada plan y por cada mes. Traza un gráfico de barras para visualizarla.\n",
    "\n",
    "#print(merge_consumption_plans.head())\n",
    "average_minutes = merge_consumption_plans.groupby([\"month\",\"plan_name\"])[\"total_minutes\"].mean()\n",
    "average_minutes = average_minutes.reset_index()\n",
    "average_minutes.head()"
   ]
  },
  {
   "cell_type": "code",
   "execution_count": 66,
   "metadata": {
    "colab": {
     "base_uri": "https://localhost:8080/",
     "height": 411
    },
    "id": "1r8Vb0wQlZoS",
    "outputId": "8b941bb4-f6a9-4ba5-e66c-b1a4db106a86"
   },
   "outputs": [
    {
     "data": {
      "image/png": "[encoded data removed]",
      "text/plain": [
       "<Figure size 576x288 with 1 Axes>"
      ]
     },
     "metadata": {
      "needs_background": "light"
     },
     "output_type": "display_data"
    }
   ],
   "source": [
    "# Graficar la relación del promedio de los minutos, planes y el mes\n",
    "plt.figure(figsize=(8,4))\n",
    "sns.barplot(x=\"month\", y=\"total_minutes\", hue=\"plan_name\", data=average_minutes)\n",
    "plt.title(\"Duración promedio de llamadas por cada plan y por mes\")\n",
    "plt.xlabel(\"Mes\")\n",
    "plt.ylabel(\"Duración promedio de llamadas\")\n",
    "plt.legend(prop={\"size\":7}).set_title(\"Plan\")\n",
    "plt.show()\n",
    "\n",
    "\n"
   ]
  },
  {
   "cell_type": "code",
   "execution_count": 67,
   "metadata": {
    "colab": {
     "base_uri": "https://localhost:8080/",
     "height": 802
    },
    "id": "oSndbAnt0q1K",
    "outputId": "f95cd9ca-57de-469b-8794-dbfb4d72c836"
   },
   "outputs": [
    {
     "data": {
      "text/html": [
       "<div>\n",
       "<style scoped>\n",
       "    .dataframe tbody tr th:only-of-type {\n",
       "        vertical-align: middle;\n",
       "    }\n",
       "\n",
       "    .dataframe tbody tr th {\n",
       "        vertical-align: top;\n",
       "    }\n",
       "\n",
       "    .dataframe thead th {\n",
       "        text-align: right;\n",
       "    }\n",
       "</style>\n",
       "<table border=\"1\" class=\"dataframe\">\n",
       "  <thead>\n",
       "    <tr style=\"text-align: right;\">\n",
       "      <th></th>\n",
       "      <th>plan_name</th>\n",
       "      <th>month</th>\n",
       "      <th>mean</th>\n",
       "      <th>var</th>\n",
       "    </tr>\n",
       "  </thead>\n",
       "  <tbody>\n",
       "    <tr>\n",
       "      <th>0</th>\n",
       "      <td>surf</td>\n",
       "      <td>1</td>\n",
       "      <td>203.000000</td>\n",
       "      <td>15842.000000</td>\n",
       "    </tr>\n",
       "    <tr>\n",
       "      <th>1</th>\n",
       "      <td>surf</td>\n",
       "      <td>2</td>\n",
       "      <td>297.000000</td>\n",
       "      <td>52226.500000</td>\n",
       "    </tr>\n",
       "    <tr>\n",
       "      <th>2</th>\n",
       "      <td>surf</td>\n",
       "      <td>3</td>\n",
       "      <td>330.000000</td>\n",
       "      <td>35809.363636</td>\n",
       "    </tr>\n",
       "    <tr>\n",
       "      <th>3</th>\n",
       "      <td>surf</td>\n",
       "      <td>4</td>\n",
       "      <td>351.540000</td>\n",
       "      <td>50866.743265</td>\n",
       "    </tr>\n",
       "    <tr>\n",
       "      <th>4</th>\n",
       "      <td>surf</td>\n",
       "      <td>5</td>\n",
       "      <td>399.584416</td>\n",
       "      <td>59754.219754</td>\n",
       "    </tr>\n",
       "    <tr>\n",
       "      <th>5</th>\n",
       "      <td>surf</td>\n",
       "      <td>6</td>\n",
       "      <td>431.298969</td>\n",
       "      <td>45592.628436</td>\n",
       "    </tr>\n",
       "    <tr>\n",
       "      <th>6</th>\n",
       "      <td>surf</td>\n",
       "      <td>7</td>\n",
       "      <td>449.983471</td>\n",
       "      <td>61005.099725</td>\n",
       "    </tr>\n",
       "    <tr>\n",
       "      <th>7</th>\n",
       "      <td>surf</td>\n",
       "      <td>8</td>\n",
       "      <td>410.111111</td>\n",
       "      <td>54344.645963</td>\n",
       "    </tr>\n",
       "    <tr>\n",
       "      <th>8</th>\n",
       "      <td>surf</td>\n",
       "      <td>9</td>\n",
       "      <td>414.226804</td>\n",
       "      <td>46595.958656</td>\n",
       "    </tr>\n",
       "    <tr>\n",
       "      <th>9</th>\n",
       "      <td>surf</td>\n",
       "      <td>10</td>\n",
       "      <td>429.729958</td>\n",
       "      <td>52278.664056</td>\n",
       "    </tr>\n",
       "    <tr>\n",
       "      <th>10</th>\n",
       "      <td>surf</td>\n",
       "      <td>11</td>\n",
       "      <td>423.325088</td>\n",
       "      <td>51607.021602</td>\n",
       "    </tr>\n",
       "    <tr>\n",
       "      <th>11</th>\n",
       "      <td>surf</td>\n",
       "      <td>12</td>\n",
       "      <td>473.836478</td>\n",
       "      <td>63629.518918</td>\n",
       "    </tr>\n",
       "    <tr>\n",
       "      <th>12</th>\n",
       "      <td>ultimate</td>\n",
       "      <td>1</td>\n",
       "      <td>193.500000</td>\n",
       "      <td>16572.333333</td>\n",
       "    </tr>\n",
       "    <tr>\n",
       "      <th>13</th>\n",
       "      <td>ultimate</td>\n",
       "      <td>2</td>\n",
       "      <td>403.142857</td>\n",
       "      <td>76889.476190</td>\n",
       "    </tr>\n",
       "    <tr>\n",
       "      <th>14</th>\n",
       "      <td>ultimate</td>\n",
       "      <td>3</td>\n",
       "      <td>304.250000</td>\n",
       "      <td>61984.931818</td>\n",
       "    </tr>\n",
       "    <tr>\n",
       "      <th>15</th>\n",
       "      <td>ultimate</td>\n",
       "      <td>4</td>\n",
       "      <td>336.857143</td>\n",
       "      <td>34888.928571</td>\n",
       "    </tr>\n",
       "    <tr>\n",
       "      <th>16</th>\n",
       "      <td>ultimate</td>\n",
       "      <td>5</td>\n",
       "      <td>406.241379</td>\n",
       "      <td>43841.046798</td>\n",
       "    </tr>\n",
       "    <tr>\n",
       "      <th>17</th>\n",
       "      <td>ultimate</td>\n",
       "      <td>6</td>\n",
       "      <td>370.957447</td>\n",
       "      <td>42503.563367</td>\n",
       "    </tr>\n",
       "    <tr>\n",
       "      <th>18</th>\n",
       "      <td>ultimate</td>\n",
       "      <td>7</td>\n",
       "      <td>427.067797</td>\n",
       "      <td>72563.374635</td>\n",
       "    </tr>\n",
       "    <tr>\n",
       "      <th>19</th>\n",
       "      <td>ultimate</td>\n",
       "      <td>8</td>\n",
       "      <td>421.436620</td>\n",
       "      <td>53645.506640</td>\n",
       "    </tr>\n",
       "    <tr>\n",
       "      <th>20</th>\n",
       "      <td>ultimate</td>\n",
       "      <td>9</td>\n",
       "      <td>437.511628</td>\n",
       "      <td>57070.464569</td>\n",
       "    </tr>\n",
       "    <tr>\n",
       "      <th>21</th>\n",
       "      <td>ultimate</td>\n",
       "      <td>10</td>\n",
       "      <td>450.735849</td>\n",
       "      <td>54261.910512</td>\n",
       "    </tr>\n",
       "    <tr>\n",
       "      <th>22</th>\n",
       "      <td>ultimate</td>\n",
       "      <td>11</td>\n",
       "      <td>445.196850</td>\n",
       "      <td>60593.222847</td>\n",
       "    </tr>\n",
       "    <tr>\n",
       "      <th>23</th>\n",
       "      <td>ultimate</td>\n",
       "      <td>12</td>\n",
       "      <td>459.099338</td>\n",
       "      <td>62503.783400</td>\n",
       "    </tr>\n",
       "  </tbody>\n",
       "</table>\n",
       "</div>"
      ],
      "text/plain": [
       "   plan_name  month        mean           var\n",
       "0       surf      1  203.000000  15842.000000\n",
       "1       surf      2  297.000000  52226.500000\n",
       "2       surf      3  330.000000  35809.363636\n",
       "3       surf      4  351.540000  50866.743265\n",
       "4       surf      5  399.584416  59754.219754\n",
       "5       surf      6  431.298969  45592.628436\n",
       "6       surf      7  449.983471  61005.099725\n",
       "7       surf      8  410.111111  54344.645963\n",
       "8       surf      9  414.226804  46595.958656\n",
       "9       surf     10  429.729958  52278.664056\n",
       "10      surf     11  423.325088  51607.021602\n",
       "11      surf     12  473.836478  63629.518918\n",
       "12  ultimate      1  193.500000  16572.333333\n",
       "13  ultimate      2  403.142857  76889.476190\n",
       "14  ultimate      3  304.250000  61984.931818\n",
       "15  ultimate      4  336.857143  34888.928571\n",
       "16  ultimate      5  406.241379  43841.046798\n",
       "17  ultimate      6  370.957447  42503.563367\n",
       "18  ultimate      7  427.067797  72563.374635\n",
       "19  ultimate      8  421.436620  53645.506640\n",
       "20  ultimate      9  437.511628  57070.464569\n",
       "21  ultimate     10  450.735849  54261.910512\n",
       "22  ultimate     11  445.196850  60593.222847\n",
       "23  ultimate     12  459.099338  62503.783400"
      ]
     },
     "execution_count": 67,
     "metadata": {},
     "output_type": "execute_result"
    }
   ],
   "source": [
    "# Calcula la media y la varianza de la duración mensual de llamadas.\n",
    "mean_variance_minutes = merge_consumption_plans.groupby([\"plan_name\",\"month\"])[\"total_minutes\"].agg([\"mean\",\"var\"]).reset_index()\n",
    "mean_variance_minutes\n",
    "\n"
   ]
  },
  {
   "cell_type": "code",
   "execution_count": 68,
   "metadata": {
    "colab": {
     "base_uri": "https://localhost:8080/",
     "height": 564
    },
    "id": "nZzoRUKc0q1K",
    "outputId": "babae34f-e858-4af9-b9ff-dfb2d40dd05d"
   },
   "outputs": [
    {
     "data": {
      "image/png": "[encoded data removed]",
      "text/plain": [
       "<Figure size 576x432 with 1 Axes>"
      ]
     },
     "metadata": {
      "needs_background": "light"
     },
     "output_type": "display_data"
    }
   ],
   "source": [
    "# Traza un diagrama de caja para visualizar la distribución de la duración mensual de llamadas\n",
    "plt.figure(figsize=(8,6))\n",
    "sns.boxplot(x=\"month\",y=\"total_minutes\", hue= \"plan_name\", data=merge_consumption_plans)\n",
    "plt.xlabel(\"Mes\")\n",
    "plt.ylabel(\"Minutos promedio\")\n",
    "plt.title(\"Duración mensual de llamadas\")\n",
    "plt.show()\n"
   ]
  },
  {
   "cell_type": "markdown",
   "metadata": {
    "id": "r627zBO50q1K"
   },
   "source": [
    "El comportamiento de los usuarios en relación a los minutos que usan para llamadas es muy parecido, inclusive, en ambos planes, se noto una tendencia positiva en la contratación de los planes mientras más avanzada el año, sin embargo, para el plan ultimate si bien iban aumentando las contrataciones mes a mes hasta el final del año no eran tanto el incremento de un mes a otro, pero , en el caso de surf, si eran saltos más grandes y esto se aprecia mas apartir del mes 7 (julio). Y sobre los minutos promedios utilizados, ambos planes muestran datos muy parecidos.\n",
    "\n",
    "También vemos que el plan de surf tiene a tender muchos outliders o valores atipicos, es decir, que gastan más minutos que el resto de los usuarios en ese mes. Se podría revisar esos casos, los cuales podrian ser potenciales a que les ofrezcamos el plan ultimate, que si bien es mas caro, les da mas beneficios, pero igual ese precio adicional que pagan , es un beneficio económico mayor para la empresa."
   ]
  },
  {
   "cell_type": "code",
   "execution_count": 69,
   "metadata": {
    "colab": {
     "base_uri": "https://localhost:8080/"
    },
    "id": "JyyKB686O35W",
    "outputId": "d0ee66e4-9f28-4deb-f1da-676c7aed30bb"
   },
   "outputs": [
    {
     "name": "stdout",
     "output_type": "stream",
     "text": [
      "   plan_name  month  user_id\n",
      "0       surf      1        2\n",
      "1       surf      2        9\n",
      "2       surf      3       23\n",
      "3       surf      4       50\n",
      "4       surf      5       77\n",
      "5       surf      6       97\n",
      "6       surf      7      121\n",
      "7       surf      8      162\n",
      "8       surf      9      194\n",
      "9       surf     10      237\n",
      "10      surf     11      283\n",
      "11      surf     12      318\n",
      "12  ultimate      1        4\n",
      "13  ultimate      2        7\n",
      "14  ultimate      3       12\n",
      "15  ultimate      4       21\n",
      "16  ultimate      5       29\n",
      "17  ultimate      6       47\n",
      "18  ultimate      7       59\n",
      "19  ultimate      8       71\n",
      "20  ultimate      9       86\n",
      "21  ultimate     10      106\n",
      "22  ultimate     11      127\n",
      "23  ultimate     12      151\n"
     ]
    }
   ],
   "source": [
    "# En este codigo buscaba ver cuanto planeas habian sido contratados por tipo de plan y por mes, para revisar\n",
    "# la tendencia que seguian dependiendo el mes del año.\n",
    "count_clients = merge_consumption_plans.groupby([\"plan_name\",\"month\"])[\"user_id\"].count().reset_index()\n",
    "print(count_clients)"
   ]
  },
  {
   "cell_type": "markdown",
   "metadata": {
    "id": "8idKy8Wh0q1L"
   },
   "source": [
    "### Mensajes"
   ]
  },
  {
   "cell_type": "code",
   "execution_count": 70,
   "metadata": {
    "colab": {
     "base_uri": "https://localhost:8080/",
     "height": 802
    },
    "id": "NXLxiTit0q1L",
    "outputId": "6434465c-475f-4830-9465-88690b2b0d9a"
   },
   "outputs": [
    {
     "data": {
      "text/html": [
       "<div>\n",
       "<style scoped>\n",
       "    .dataframe tbody tr th:only-of-type {\n",
       "        vertical-align: middle;\n",
       "    }\n",
       "\n",
       "    .dataframe tbody tr th {\n",
       "        vertical-align: top;\n",
       "    }\n",
       "\n",
       "    .dataframe thead th {\n",
       "        text-align: right;\n",
       "    }\n",
       "</style>\n",
       "<table border=\"1\" class=\"dataframe\">\n",
       "  <thead>\n",
       "    <tr style=\"text-align: right;\">\n",
       "      <th></th>\n",
       "      <th>plan_name</th>\n",
       "      <th>month</th>\n",
       "      <th>total_messages</th>\n",
       "    </tr>\n",
       "  </thead>\n",
       "  <tbody>\n",
       "    <tr>\n",
       "      <th>0</th>\n",
       "      <td>surf</td>\n",
       "      <td>1</td>\n",
       "      <td>21</td>\n",
       "    </tr>\n",
       "    <tr>\n",
       "      <th>1</th>\n",
       "      <td>surf</td>\n",
       "      <td>2</td>\n",
       "      <td>108</td>\n",
       "    </tr>\n",
       "    <tr>\n",
       "      <th>2</th>\n",
       "      <td>surf</td>\n",
       "      <td>3</td>\n",
       "      <td>351</td>\n",
       "    </tr>\n",
       "    <tr>\n",
       "      <th>3</th>\n",
       "      <td>surf</td>\n",
       "      <td>4</td>\n",
       "      <td>870</td>\n",
       "    </tr>\n",
       "    <tr>\n",
       "      <th>4</th>\n",
       "      <td>surf</td>\n",
       "      <td>5</td>\n",
       "      <td>1849</td>\n",
       "    </tr>\n",
       "    <tr>\n",
       "      <th>5</th>\n",
       "      <td>surf</td>\n",
       "      <td>6</td>\n",
       "      <td>2454</td>\n",
       "    </tr>\n",
       "    <tr>\n",
       "      <th>6</th>\n",
       "      <td>surf</td>\n",
       "      <td>7</td>\n",
       "      <td>3271</td>\n",
       "    </tr>\n",
       "    <tr>\n",
       "      <th>7</th>\n",
       "      <td>surf</td>\n",
       "      <td>8</td>\n",
       "      <td>4662</td>\n",
       "    </tr>\n",
       "    <tr>\n",
       "      <th>8</th>\n",
       "      <td>surf</td>\n",
       "      <td>9</td>\n",
       "      <td>5968</td>\n",
       "    </tr>\n",
       "    <tr>\n",
       "      <th>9</th>\n",
       "      <td>surf</td>\n",
       "      <td>10</td>\n",
       "      <td>8020</td>\n",
       "    </tr>\n",
       "    <tr>\n",
       "      <th>10</th>\n",
       "      <td>surf</td>\n",
       "      <td>11</td>\n",
       "      <td>9165</td>\n",
       "    </tr>\n",
       "    <tr>\n",
       "      <th>11</th>\n",
       "      <td>surf</td>\n",
       "      <td>12</td>\n",
       "      <td>12275</td>\n",
       "    </tr>\n",
       "    <tr>\n",
       "      <th>12</th>\n",
       "      <td>ultimate</td>\n",
       "      <td>1</td>\n",
       "      <td>62</td>\n",
       "    </tr>\n",
       "    <tr>\n",
       "      <th>13</th>\n",
       "      <td>ultimate</td>\n",
       "      <td>2</td>\n",
       "      <td>151</td>\n",
       "    </tr>\n",
       "    <tr>\n",
       "      <th>14</th>\n",
       "      <td>ultimate</td>\n",
       "      <td>3</td>\n",
       "      <td>243</td>\n",
       "    </tr>\n",
       "    <tr>\n",
       "      <th>15</th>\n",
       "      <td>ultimate</td>\n",
       "      <td>4</td>\n",
       "      <td>463</td>\n",
       "    </tr>\n",
       "    <tr>\n",
       "      <th>16</th>\n",
       "      <td>ultimate</td>\n",
       "      <td>5</td>\n",
       "      <td>931</td>\n",
       "    </tr>\n",
       "    <tr>\n",
       "      <th>17</th>\n",
       "      <td>ultimate</td>\n",
       "      <td>6</td>\n",
       "      <td>1379</td>\n",
       "    </tr>\n",
       "    <tr>\n",
       "      <th>18</th>\n",
       "      <td>ultimate</td>\n",
       "      <td>7</td>\n",
       "      <td>1937</td>\n",
       "    </tr>\n",
       "    <tr>\n",
       "      <th>19</th>\n",
       "      <td>ultimate</td>\n",
       "      <td>8</td>\n",
       "      <td>2732</td>\n",
       "    </tr>\n",
       "    <tr>\n",
       "      <th>20</th>\n",
       "      <td>ultimate</td>\n",
       "      <td>9</td>\n",
       "      <td>3259</td>\n",
       "    </tr>\n",
       "    <tr>\n",
       "      <th>21</th>\n",
       "      <td>ultimate</td>\n",
       "      <td>10</td>\n",
       "      <td>4181</td>\n",
       "    </tr>\n",
       "    <tr>\n",
       "      <th>22</th>\n",
       "      <td>ultimate</td>\n",
       "      <td>11</td>\n",
       "      <td>4903</td>\n",
       "    </tr>\n",
       "    <tr>\n",
       "      <th>23</th>\n",
       "      <td>ultimate</td>\n",
       "      <td>12</td>\n",
       "      <td>6796</td>\n",
       "    </tr>\n",
       "  </tbody>\n",
       "</table>\n",
       "</div>"
      ],
      "text/plain": [
       "   plan_name  month  total_messages\n",
       "0       surf      1              21\n",
       "1       surf      2             108\n",
       "2       surf      3             351\n",
       "3       surf      4             870\n",
       "4       surf      5            1849\n",
       "5       surf      6            2454\n",
       "6       surf      7            3271\n",
       "7       surf      8            4662\n",
       "8       surf      9            5968\n",
       "9       surf     10            8020\n",
       "10      surf     11            9165\n",
       "11      surf     12           12275\n",
       "12  ultimate      1              62\n",
       "13  ultimate      2             151\n",
       "14  ultimate      3             243\n",
       "15  ultimate      4             463\n",
       "16  ultimate      5             931\n",
       "17  ultimate      6            1379\n",
       "18  ultimate      7            1937\n",
       "19  ultimate      8            2732\n",
       "20  ultimate      9            3259\n",
       "21  ultimate     10            4181\n",
       "22  ultimate     11            4903\n",
       "23  ultimate     12            6796"
      ]
     },
     "execution_count": 70,
     "metadata": {},
     "output_type": "execute_result"
    }
   ],
   "source": [
    "# Compara el número de mensajes que tienden a enviar cada mes los usuarios de cada plan\n",
    "messages_per_plan = merge_consumption_plans.groupby([\"plan_name\",\"month\"])[\"total_messages\"].sum().reset_index()\n",
    "messages_per_plan\n"
   ]
  },
  {
   "cell_type": "code",
   "execution_count": 71,
   "metadata": {
    "colab": {
     "base_uri": "https://localhost:8080/",
     "height": 410
    },
    "id": "GRI_R7xF0q1L",
    "outputId": "02741ff3-c838-4a0a-af11-ceaf0f8aac95"
   },
   "outputs": [
    {
     "data": {
      "image/png": "[encoded data removed]",
      "text/plain": [
       "<Figure size 576x288 with 1 Axes>"
      ]
     },
     "metadata": {
      "needs_background": "light"
     },
     "output_type": "display_data"
    }
   ],
   "source": [
    "# Graficar la relación entre los minutos enviados cada mes por cada plan\n",
    "\n",
    "plt.figure(figsize=(8,4))\n",
    "sns.barplot(x=\"month\", y=\"total_messages\", hue=\"plan_name\", data=messages_per_plan)\n",
    "plt.xlabel(\"Mes\")\n",
    "plt.ylabel(\"Mensajes enviados\")\n",
    "plt.title(\"Mensajes enviados por los usuarios dependiendo el plan\")\n",
    "plt.legend(prop={\"size\":7}).set_title(\"Plan\")\n",
    "plt.show()\n",
    "\n"
   ]
  },
  {
   "cell_type": "code",
   "execution_count": 72,
   "metadata": {
    "colab": {
     "base_uri": "https://localhost:8080/",
     "height": 802
    },
    "id": "dtFwCGAp0q1M",
    "outputId": "2c135641-b646-484d-a491-68194508ab6f"
   },
   "outputs": [
    {
     "data": {
      "text/html": [
       "<div>\n",
       "<style scoped>\n",
       "    .dataframe tbody tr th:only-of-type {\n",
       "        vertical-align: middle;\n",
       "    }\n",
       "\n",
       "    .dataframe tbody tr th {\n",
       "        vertical-align: top;\n",
       "    }\n",
       "\n",
       "    .dataframe thead th {\n",
       "        text-align: right;\n",
       "    }\n",
       "</style>\n",
       "<table border=\"1\" class=\"dataframe\">\n",
       "  <thead>\n",
       "    <tr style=\"text-align: right;\">\n",
       "      <th></th>\n",
       "      <th>plan_name</th>\n",
       "      <th>month</th>\n",
       "      <th>mean</th>\n",
       "      <th>var</th>\n",
       "    </tr>\n",
       "  </thead>\n",
       "  <tbody>\n",
       "    <tr>\n",
       "      <th>0</th>\n",
       "      <td>surf</td>\n",
       "      <td>1</td>\n",
       "      <td>10.500000</td>\n",
       "      <td>220.500000</td>\n",
       "    </tr>\n",
       "    <tr>\n",
       "      <th>1</th>\n",
       "      <td>surf</td>\n",
       "      <td>2</td>\n",
       "      <td>12.000000</td>\n",
       "      <td>386.000000</td>\n",
       "    </tr>\n",
       "    <tr>\n",
       "      <th>2</th>\n",
       "      <td>surf</td>\n",
       "      <td>3</td>\n",
       "      <td>15.260870</td>\n",
       "      <td>346.565217</td>\n",
       "    </tr>\n",
       "    <tr>\n",
       "      <th>3</th>\n",
       "      <td>surf</td>\n",
       "      <td>4</td>\n",
       "      <td>17.400000</td>\n",
       "      <td>501.591837</td>\n",
       "    </tr>\n",
       "    <tr>\n",
       "      <th>4</th>\n",
       "      <td>surf</td>\n",
       "      <td>5</td>\n",
       "      <td>24.012987</td>\n",
       "      <td>847.197198</td>\n",
       "    </tr>\n",
       "    <tr>\n",
       "      <th>5</th>\n",
       "      <td>surf</td>\n",
       "      <td>6</td>\n",
       "      <td>25.298969</td>\n",
       "      <td>914.920103</td>\n",
       "    </tr>\n",
       "    <tr>\n",
       "      <th>6</th>\n",
       "      <td>surf</td>\n",
       "      <td>7</td>\n",
       "      <td>27.033058</td>\n",
       "      <td>923.915565</td>\n",
       "    </tr>\n",
       "    <tr>\n",
       "      <th>7</th>\n",
       "      <td>surf</td>\n",
       "      <td>8</td>\n",
       "      <td>28.777778</td>\n",
       "      <td>1029.515528</td>\n",
       "    </tr>\n",
       "    <tr>\n",
       "      <th>8</th>\n",
       "      <td>surf</td>\n",
       "      <td>9</td>\n",
       "      <td>30.762887</td>\n",
       "      <td>1003.829496</td>\n",
       "    </tr>\n",
       "    <tr>\n",
       "      <th>9</th>\n",
       "      <td>surf</td>\n",
       "      <td>10</td>\n",
       "      <td>33.839662</td>\n",
       "      <td>1275.465708</td>\n",
       "    </tr>\n",
       "    <tr>\n",
       "      <th>10</th>\n",
       "      <td>surf</td>\n",
       "      <td>11</td>\n",
       "      <td>32.385159</td>\n",
       "      <td>1065.344034</td>\n",
       "    </tr>\n",
       "    <tr>\n",
       "      <th>11</th>\n",
       "      <td>surf</td>\n",
       "      <td>12</td>\n",
       "      <td>38.600629</td>\n",
       "      <td>1458.158612</td>\n",
       "    </tr>\n",
       "    <tr>\n",
       "      <th>12</th>\n",
       "      <td>ultimate</td>\n",
       "      <td>1</td>\n",
       "      <td>15.500000</td>\n",
       "      <td>313.666667</td>\n",
       "    </tr>\n",
       "    <tr>\n",
       "      <th>13</th>\n",
       "      <td>ultimate</td>\n",
       "      <td>2</td>\n",
       "      <td>21.571429</td>\n",
       "      <td>478.285714</td>\n",
       "    </tr>\n",
       "    <tr>\n",
       "      <th>14</th>\n",
       "      <td>ultimate</td>\n",
       "      <td>3</td>\n",
       "      <td>20.250000</td>\n",
       "      <td>654.386364</td>\n",
       "    </tr>\n",
       "    <tr>\n",
       "      <th>15</th>\n",
       "      <td>ultimate</td>\n",
       "      <td>4</td>\n",
       "      <td>22.047619</td>\n",
       "      <td>544.147619</td>\n",
       "    </tr>\n",
       "    <tr>\n",
       "      <th>16</th>\n",
       "      <td>ultimate</td>\n",
       "      <td>5</td>\n",
       "      <td>32.103448</td>\n",
       "      <td>1297.310345</td>\n",
       "    </tr>\n",
       "    <tr>\n",
       "      <th>17</th>\n",
       "      <td>ultimate</td>\n",
       "      <td>6</td>\n",
       "      <td>29.340426</td>\n",
       "      <td>857.620722</td>\n",
       "    </tr>\n",
       "    <tr>\n",
       "      <th>18</th>\n",
       "      <td>ultimate</td>\n",
       "      <td>7</td>\n",
       "      <td>32.830508</td>\n",
       "      <td>960.488019</td>\n",
       "    </tr>\n",
       "    <tr>\n",
       "      <th>19</th>\n",
       "      <td>ultimate</td>\n",
       "      <td>8</td>\n",
       "      <td>38.478873</td>\n",
       "      <td>1196.367404</td>\n",
       "    </tr>\n",
       "    <tr>\n",
       "      <th>20</th>\n",
       "      <td>ultimate</td>\n",
       "      <td>9</td>\n",
       "      <td>37.895349</td>\n",
       "      <td>1050.918331</td>\n",
       "    </tr>\n",
       "    <tr>\n",
       "      <th>21</th>\n",
       "      <td>ultimate</td>\n",
       "      <td>10</td>\n",
       "      <td>39.443396</td>\n",
       "      <td>1221.106289</td>\n",
       "    </tr>\n",
       "    <tr>\n",
       "      <th>22</th>\n",
       "      <td>ultimate</td>\n",
       "      <td>11</td>\n",
       "      <td>38.606299</td>\n",
       "      <td>1232.669166</td>\n",
       "    </tr>\n",
       "    <tr>\n",
       "      <th>23</th>\n",
       "      <td>ultimate</td>\n",
       "      <td>12</td>\n",
       "      <td>45.006623</td>\n",
       "      <td>1549.419956</td>\n",
       "    </tr>\n",
       "  </tbody>\n",
       "</table>\n",
       "</div>"
      ],
      "text/plain": [
       "   plan_name  month       mean          var\n",
       "0       surf      1  10.500000   220.500000\n",
       "1       surf      2  12.000000   386.000000\n",
       "2       surf      3  15.260870   346.565217\n",
       "3       surf      4  17.400000   501.591837\n",
       "4       surf      5  24.012987   847.197198\n",
       "5       surf      6  25.298969   914.920103\n",
       "6       surf      7  27.033058   923.915565\n",
       "7       surf      8  28.777778  1029.515528\n",
       "8       surf      9  30.762887  1003.829496\n",
       "9       surf     10  33.839662  1275.465708\n",
       "10      surf     11  32.385159  1065.344034\n",
       "11      surf     12  38.600629  1458.158612\n",
       "12  ultimate      1  15.500000   313.666667\n",
       "13  ultimate      2  21.571429   478.285714\n",
       "14  ultimate      3  20.250000   654.386364\n",
       "15  ultimate      4  22.047619   544.147619\n",
       "16  ultimate      5  32.103448  1297.310345\n",
       "17  ultimate      6  29.340426   857.620722\n",
       "18  ultimate      7  32.830508   960.488019\n",
       "19  ultimate      8  38.478873  1196.367404\n",
       "20  ultimate      9  37.895349  1050.918331\n",
       "21  ultimate     10  39.443396  1221.106289\n",
       "22  ultimate     11  38.606299  1232.669166\n",
       "23  ultimate     12  45.006623  1549.419956"
      ]
     },
     "execution_count": 72,
     "metadata": {},
     "output_type": "execute_result"
    }
   ],
   "source": [
    "# Calcula la media y la varianza de los mensajes enviados por plan.\n",
    "mean_variance_mess = merge_consumption_plans.groupby([\"plan_name\",\"month\"])[\"total_messages\"].agg([\"mean\",\"var\"]).reset_index()\n",
    "mean_variance_mess"
   ]
  },
  {
   "cell_type": "code",
   "execution_count": 73,
   "metadata": {
    "colab": {
     "base_uri": "https://localhost:8080/",
     "height": 565
    },
    "id": "rQgYY_cQUhEF",
    "outputId": "2becb705-29a7-49fb-ae6b-cd8ac60f61fc"
   },
   "outputs": [
    {
     "data": {
      "image/png": "[encoded data removed]",
      "text/plain": [
       "<Figure size 576x432 with 1 Axes>"
      ]
     },
     "metadata": {
      "needs_background": "light"
     },
     "output_type": "display_data"
    }
   ],
   "source": [
    "# Traza un diagrama de caja para visualizar la distribución de los mensajes enviados\n",
    "plt.figure(figsize=(8,6))\n",
    "sns.boxplot(x=\"month\",y=\"total_messages\", hue= \"plan_name\", data=merge_consumption_plans)\n",
    "plt.xlabel(\"Mes\")\n",
    "plt.ylabel(\"Mensajes enviados\")\n",
    "plt.title(\"Distribución de los mensajes enviados por plan\")\n",
    "plt.show()"
   ]
  },
  {
   "cell_type": "markdown",
   "metadata": {
    "id": "390SSL480q1M"
   },
   "source": [
    "A diferencia de los minutos gastados, que si bien iban aumentando mes a mes, su incremento era con más suave, con una pendiente menos pronunciada , sin embargo, en el caso de los mensajes, si se nota un crecimiento acelerado en la cantidad de mensajes enviados conforme van pasando los meses del año. Los usuarios del plan surf envian más mensajes que los del plan ultimate, inclusive, en algunos meses casi duplicando el número.\n",
    "\n",
    "Seria interesante analizar la relación que existe entre los mensajes y la edad de los usuarios, en donde la gente mayor, es decir, de otras generaciones todavia tienen más arraigado el marcar por teléfono que el estar comunicandose por medio de mensajes, entonces sería interesante si a nivel estadístico podemos encontrar alguna relación.\n",
    "\n",
    "Aún sin analizar esta relación, podemos ver que más usuarios tienen a enviar mensajes que a realizar llamadas.\n",
    "\n",
    "Al igual que el análisis que hicimos de los minutos, en el caso de los mensajes, vemos que tenemos tambien muchos outliers o valores atípicos, esto podrían ser buenas oportunidades de mercado en ofrecerle a estos usuarios el plan ultimate."
   ]
  },
  {
   "cell_type": "markdown",
   "metadata": {
    "id": "42YSypXz0q1M"
   },
   "source": [
    "### Internet"
   ]
  },
  {
   "cell_type": "code",
   "execution_count": 74,
   "metadata": {
    "colab": {
     "base_uri": "https://localhost:8080/",
     "height": 802
    },
    "id": "lSuKPtjh0q1M",
    "outputId": "3c3f7a4f-99d6-490a-e274-1265d436ec4d"
   },
   "outputs": [
    {
     "data": {
      "text/html": [
       "<div>\n",
       "<style scoped>\n",
       "    .dataframe tbody tr th:only-of-type {\n",
       "        vertical-align: middle;\n",
       "    }\n",
       "\n",
       "    .dataframe tbody tr th {\n",
       "        vertical-align: top;\n",
       "    }\n",
       "\n",
       "    .dataframe thead th {\n",
       "        text-align: right;\n",
       "    }\n",
       "</style>\n",
       "<table border=\"1\" class=\"dataframe\">\n",
       "  <thead>\n",
       "    <tr style=\"text-align: right;\">\n",
       "      <th></th>\n",
       "      <th>plan_name</th>\n",
       "      <th>month</th>\n",
       "      <th>gb_used</th>\n",
       "    </tr>\n",
       "  </thead>\n",
       "  <tbody>\n",
       "    <tr>\n",
       "      <th>0</th>\n",
       "      <td>surf</td>\n",
       "      <td>1</td>\n",
       "      <td>28.0</td>\n",
       "    </tr>\n",
       "    <tr>\n",
       "      <th>1</th>\n",
       "      <td>surf</td>\n",
       "      <td>2</td>\n",
       "      <td>270.0</td>\n",
       "    </tr>\n",
       "    <tr>\n",
       "      <th>2</th>\n",
       "      <td>surf</td>\n",
       "      <td>3</td>\n",
       "      <td>719.0</td>\n",
       "    </tr>\n",
       "    <tr>\n",
       "      <th>3</th>\n",
       "      <td>surf</td>\n",
       "      <td>4</td>\n",
       "      <td>1444.0</td>\n",
       "    </tr>\n",
       "    <tr>\n",
       "      <th>4</th>\n",
       "      <td>surf</td>\n",
       "      <td>5</td>\n",
       "      <td>2606.0</td>\n",
       "    </tr>\n",
       "    <tr>\n",
       "      <th>5</th>\n",
       "      <td>surf</td>\n",
       "      <td>6</td>\n",
       "      <td>3639.0</td>\n",
       "    </tr>\n",
       "    <tr>\n",
       "      <th>6</th>\n",
       "      <td>surf</td>\n",
       "      <td>7</td>\n",
       "      <td>4872.0</td>\n",
       "    </tr>\n",
       "    <tr>\n",
       "      <th>7</th>\n",
       "      <td>surf</td>\n",
       "      <td>8</td>\n",
       "      <td>6525.0</td>\n",
       "    </tr>\n",
       "    <tr>\n",
       "      <th>8</th>\n",
       "      <td>surf</td>\n",
       "      <td>9</td>\n",
       "      <td>7803.0</td>\n",
       "    </tr>\n",
       "    <tr>\n",
       "      <th>9</th>\n",
       "      <td>surf</td>\n",
       "      <td>10</td>\n",
       "      <td>9951.0</td>\n",
       "    </tr>\n",
       "    <tr>\n",
       "      <th>10</th>\n",
       "      <td>surf</td>\n",
       "      <td>11</td>\n",
       "      <td>11308.0</td>\n",
       "    </tr>\n",
       "    <tr>\n",
       "      <th>11</th>\n",
       "      <td>surf</td>\n",
       "      <td>12</td>\n",
       "      <td>13976.0</td>\n",
       "    </tr>\n",
       "    <tr>\n",
       "      <th>12</th>\n",
       "      <td>ultimate</td>\n",
       "      <td>1</td>\n",
       "      <td>61.0</td>\n",
       "    </tr>\n",
       "    <tr>\n",
       "      <th>13</th>\n",
       "      <td>ultimate</td>\n",
       "      <td>2</td>\n",
       "      <td>278.0</td>\n",
       "    </tr>\n",
       "    <tr>\n",
       "      <th>14</th>\n",
       "      <td>ultimate</td>\n",
       "      <td>3</td>\n",
       "      <td>483.0</td>\n",
       "    </tr>\n",
       "    <tr>\n",
       "      <th>15</th>\n",
       "      <td>ultimate</td>\n",
       "      <td>4</td>\n",
       "      <td>807.0</td>\n",
       "    </tr>\n",
       "    <tr>\n",
       "      <th>16</th>\n",
       "      <td>ultimate</td>\n",
       "      <td>5</td>\n",
       "      <td>1140.0</td>\n",
       "    </tr>\n",
       "    <tr>\n",
       "      <th>17</th>\n",
       "      <td>ultimate</td>\n",
       "      <td>6</td>\n",
       "      <td>1685.0</td>\n",
       "    </tr>\n",
       "    <tr>\n",
       "      <th>18</th>\n",
       "      <td>ultimate</td>\n",
       "      <td>7</td>\n",
       "      <td>2339.0</td>\n",
       "    </tr>\n",
       "    <tr>\n",
       "      <th>19</th>\n",
       "      <td>ultimate</td>\n",
       "      <td>8</td>\n",
       "      <td>3026.0</td>\n",
       "    </tr>\n",
       "    <tr>\n",
       "      <th>20</th>\n",
       "      <td>ultimate</td>\n",
       "      <td>9</td>\n",
       "      <td>3480.0</td>\n",
       "    </tr>\n",
       "    <tr>\n",
       "      <th>21</th>\n",
       "      <td>ultimate</td>\n",
       "      <td>10</td>\n",
       "      <td>4405.0</td>\n",
       "    </tr>\n",
       "    <tr>\n",
       "      <th>22</th>\n",
       "      <td>ultimate</td>\n",
       "      <td>11</td>\n",
       "      <td>5173.0</td>\n",
       "    </tr>\n",
       "    <tr>\n",
       "      <th>23</th>\n",
       "      <td>ultimate</td>\n",
       "      <td>12</td>\n",
       "      <td>6701.0</td>\n",
       "    </tr>\n",
       "  </tbody>\n",
       "</table>\n",
       "</div>"
      ],
      "text/plain": [
       "   plan_name  month  gb_used\n",
       "0       surf      1     28.0\n",
       "1       surf      2    270.0\n",
       "2       surf      3    719.0\n",
       "3       surf      4   1444.0\n",
       "4       surf      5   2606.0\n",
       "5       surf      6   3639.0\n",
       "6       surf      7   4872.0\n",
       "7       surf      8   6525.0\n",
       "8       surf      9   7803.0\n",
       "9       surf     10   9951.0\n",
       "10      surf     11  11308.0\n",
       "11      surf     12  13976.0\n",
       "12  ultimate      1     61.0\n",
       "13  ultimate      2    278.0\n",
       "14  ultimate      3    483.0\n",
       "15  ultimate      4    807.0\n",
       "16  ultimate      5   1140.0\n",
       "17  ultimate      6   1685.0\n",
       "18  ultimate      7   2339.0\n",
       "19  ultimate      8   3026.0\n",
       "20  ultimate      9   3480.0\n",
       "21  ultimate     10   4405.0\n",
       "22  ultimate     11   5173.0\n",
       "23  ultimate     12   6701.0"
      ]
     },
     "execution_count": 74,
     "metadata": {},
     "output_type": "execute_result"
    }
   ],
   "source": [
    "# Compara la cantidad de tráfico de Internet consumido por usuarios por plan\n",
    "mb_per_plan = merge_consumption_plans.groupby([\"plan_name\",\"month\"])[\"gb_used\"].sum().reset_index()\n",
    "mb_per_plan"
   ]
  },
  {
   "cell_type": "code",
   "execution_count": 75,
   "metadata": {
    "colab": {
     "base_uri": "https://localhost:8080/",
     "height": 410
    },
    "id": "wnh8jYXi0q1N",
    "outputId": "b20ef020-0d6e-41ea-def1-a1006788df76"
   },
   "outputs": [
    {
     "data": {
      "image/png": "[encoded data removed]",
      "text/plain": [
       "<Figure size 576x288 with 1 Axes>"
      ]
     },
     "metadata": {
      "needs_background": "light"
     },
     "output_type": "display_data"
    }
   ],
   "source": [
    "# Graficar la relación entre los megas utilizados cada mes por cada plan\n",
    "\n",
    "plt.figure(figsize=(8,4))\n",
    "sns.barplot(x=\"month\", y=\"gb_used\", hue=\"plan_name\", data=mb_per_plan)\n",
    "plt.xlabel(\"Mes\")\n",
    "plt.ylabel(\"Gigabytes usados\")\n",
    "plt.title(\"Gigabytes usados por los usuarios por plan\")\n",
    "plt.legend(prop={\"size\":7}).set_title(\"Plan\")\n",
    "plt.show()\n"
   ]
  },
  {
   "cell_type": "code",
   "execution_count": 76,
   "metadata": {
    "colab": {
     "base_uri": "https://localhost:8080/",
     "height": 565
    },
    "id": "5VlyJ9ry0q1N",
    "outputId": "3f1e0bdc-d160-417b-9058-5e15cf918a86"
   },
   "outputs": [
    {
     "data": {
      "image/png": "[encoded data removed]",
      "text/plain": [
       "<Figure size 576x432 with 1 Axes>"
      ]
     },
     "metadata": {
      "needs_background": "light"
     },
     "output_type": "display_data"
    }
   ],
   "source": [
    "# Traza un diagrama de caja para visualizar la distribución de los megabytes usados\n",
    "plt.figure(figsize=(8,6))\n",
    "sns.boxplot(x=\"month\",y=\"gb_used\", hue= \"plan_name\", data=merge_consumption_plans)\n",
    "plt.xlabel(\"Mes\")\n",
    "plt.ylabel(\"Gigabytes usados\")\n",
    "plt.title(\"Distribución de los gigabytes usados por plan\")\n",
    "plt.show()"
   ]
  },
  {
   "cell_type": "markdown",
   "metadata": {
    "id": "UN9zwuMP0q1N"
   },
   "source": [
    "El consumo de los megabytes tiene un comportamiento parecido al de los mensajes, se podria tener un indicio, de saber que el mercado le gusta mas enviar mensajes o comunicarse de otra manera por internet que hablar por teléfono."
   ]
  },
  {
   "cell_type": "markdown",
   "metadata": {},
   "source": [
    "<div class=\"alert alert-block alert-success\">\n",
    "<b>Comentario revisor</b> <a class=\"tocSkip\"></a>\n",
    "\n",
    " Muy buena prática la de usar distintos tipos de gráficas identificar algunos hallazgos y llegar a conclusiones\n",
    "</div>"
   ]
  },
  {
   "cell_type": "code",
   "execution_count": 77,
   "metadata": {
    "scrolled": false
   },
   "outputs": [
    {
     "data": {
      "image/png": "[encoded data removed]",
      "text/plain": [
       "<Figure size 432x288 with 1 Axes>"
      ]
     },
     "metadata": {
      "needs_background": "light"
     },
     "output_type": "display_data"
    },
    {
     "data": {
      "image/png": "[encoded data removed]",
      "text/plain": [
       "<Figure size 432x288 with 1 Axes>"
      ]
     },
     "metadata": {
      "needs_background": "light"
     },
     "output_type": "display_data"
    },
    {
     "data": {
      "image/png": "[encoded data removed]",
      "text/plain": [
       "<Figure size 432x288 with 1 Axes>"
      ]
     },
     "metadata": {
      "needs_background": "light"
     },
     "output_type": "display_data"
    }
   ],
   "source": [
    "# Gráficas que demuestran la distribución de cada uno de los planes de la frecuencia\n",
    "# por minutos, mensajes y volumne de internet usado.\n",
    "\n",
    "columns = [\"total_minutes\",\"total_messages\",\"gb_used\"]\n",
    "rows = [\"user_id\"]\n",
    "for column in columns:\n",
    "    sns.histplot(data=merge_consumption_plans, x=column, hue=\"plan_name\",\n",
    "                multiple=\"stack\")\n",
    "    plt.title(f\"Distribución por {column} por plan\")\n",
    "    plt.ylabel(\"Frecuencia\")\n",
    "    plt.show()\n",
    "\n"
   ]
  },
  {
   "cell_type": "markdown",
   "metadata": {},
   "source": [
    "<div class=\"alert alert-block alert-warning\">\n",
    "\n",
    "<b>Comentario revisor</b> <a class=\"tocSkip\"></a>\n",
    "\n",
    "Para los tres casos, te recomiendo realizar una gráfica que muestre la distribución de cada uno de los planes de la frecuencia por cada minuto, numero de mensaje y el volumen de internet usado. \n",
    "\n",
    "</div>"
   ]
  },
  {
   "cell_type": "markdown",
   "metadata": {
    "id": "tCijq3260q1N"
   },
   "source": [
    "## Ingreso"
   ]
  },
  {
   "cell_type": "code",
   "execution_count": 78,
   "metadata": {
    "colab": {
     "base_uri": "https://localhost:8080/",
     "height": 802
    },
    "id": "tz-dq_V00q1O",
    "outputId": "733f983c-fb97-4f4d-ca88-4e0c7e99d5fc"
   },
   "outputs": [
    {
     "data": {
      "text/html": [
       "<div>\n",
       "<style scoped>\n",
       "    .dataframe tbody tr th:only-of-type {\n",
       "        vertical-align: middle;\n",
       "    }\n",
       "\n",
       "    .dataframe tbody tr th {\n",
       "        vertical-align: top;\n",
       "    }\n",
       "\n",
       "    .dataframe thead th {\n",
       "        text-align: right;\n",
       "    }\n",
       "</style>\n",
       "<table border=\"1\" class=\"dataframe\">\n",
       "  <thead>\n",
       "    <tr style=\"text-align: right;\">\n",
       "      <th></th>\n",
       "      <th>plan_name</th>\n",
       "      <th>month</th>\n",
       "      <th>total_expenses</th>\n",
       "    </tr>\n",
       "  </thead>\n",
       "  <tbody>\n",
       "    <tr>\n",
       "      <th>0</th>\n",
       "      <td>surf</td>\n",
       "      <td>1</td>\n",
       "      <td>100.00</td>\n",
       "    </tr>\n",
       "    <tr>\n",
       "      <th>1</th>\n",
       "      <td>surf</td>\n",
       "      <td>2</td>\n",
       "      <td>1689.57</td>\n",
       "    </tr>\n",
       "    <tr>\n",
       "      <th>2</th>\n",
       "      <td>surf</td>\n",
       "      <td>3</td>\n",
       "      <td>4756.65</td>\n",
       "    </tr>\n",
       "    <tr>\n",
       "      <th>3</th>\n",
       "      <td>surf</td>\n",
       "      <td>4</td>\n",
       "      <td>9095.53</td>\n",
       "    </tr>\n",
       "    <tr>\n",
       "      <th>4</th>\n",
       "      <td>surf</td>\n",
       "      <td>5</td>\n",
       "      <td>17387.37</td>\n",
       "    </tr>\n",
       "    <tr>\n",
       "      <th>5</th>\n",
       "      <td>surf</td>\n",
       "      <td>6</td>\n",
       "      <td>24869.80</td>\n",
       "    </tr>\n",
       "    <tr>\n",
       "      <th>6</th>\n",
       "      <td>surf</td>\n",
       "      <td>7</td>\n",
       "      <td>34513.56</td>\n",
       "    </tr>\n",
       "    <tr>\n",
       "      <th>7</th>\n",
       "      <td>surf</td>\n",
       "      <td>8</td>\n",
       "      <td>46246.85</td>\n",
       "    </tr>\n",
       "    <tr>\n",
       "      <th>8</th>\n",
       "      <td>surf</td>\n",
       "      <td>9</td>\n",
       "      <td>54374.67</td>\n",
       "    </tr>\n",
       "    <tr>\n",
       "      <th>9</th>\n",
       "      <td>surf</td>\n",
       "      <td>10</td>\n",
       "      <td>70804.83</td>\n",
       "    </tr>\n",
       "    <tr>\n",
       "      <th>10</th>\n",
       "      <td>surf</td>\n",
       "      <td>11</td>\n",
       "      <td>79175.21</td>\n",
       "    </tr>\n",
       "    <tr>\n",
       "      <th>11</th>\n",
       "      <td>surf</td>\n",
       "      <td>12</td>\n",
       "      <td>100757.14</td>\n",
       "    </tr>\n",
       "    <tr>\n",
       "      <th>12</th>\n",
       "      <td>ultimate</td>\n",
       "      <td>1</td>\n",
       "      <td>280.00</td>\n",
       "    </tr>\n",
       "    <tr>\n",
       "      <th>13</th>\n",
       "      <td>ultimate</td>\n",
       "      <td>2</td>\n",
       "      <td>1148.00</td>\n",
       "    </tr>\n",
       "    <tr>\n",
       "      <th>14</th>\n",
       "      <td>ultimate</td>\n",
       "      <td>3</td>\n",
       "      <td>2268.00</td>\n",
       "    </tr>\n",
       "    <tr>\n",
       "      <th>15</th>\n",
       "      <td>ultimate</td>\n",
       "      <td>4</td>\n",
       "      <td>3388.00</td>\n",
       "    </tr>\n",
       "    <tr>\n",
       "      <th>16</th>\n",
       "      <td>ultimate</td>\n",
       "      <td>5</td>\n",
       "      <td>4543.00</td>\n",
       "    </tr>\n",
       "    <tr>\n",
       "      <th>17</th>\n",
       "      <td>ultimate</td>\n",
       "      <td>6</td>\n",
       "      <td>6839.00</td>\n",
       "    </tr>\n",
       "    <tr>\n",
       "      <th>18</th>\n",
       "      <td>ultimate</td>\n",
       "      <td>7</td>\n",
       "      <td>9632.00</td>\n",
       "    </tr>\n",
       "    <tr>\n",
       "      <th>19</th>\n",
       "      <td>ultimate</td>\n",
       "      <td>8</td>\n",
       "      <td>12397.00</td>\n",
       "    </tr>\n",
       "    <tr>\n",
       "      <th>20</th>\n",
       "      <td>ultimate</td>\n",
       "      <td>9</td>\n",
       "      <td>13573.00</td>\n",
       "    </tr>\n",
       "    <tr>\n",
       "      <th>21</th>\n",
       "      <td>ultimate</td>\n",
       "      <td>10</td>\n",
       "      <td>17409.00</td>\n",
       "    </tr>\n",
       "    <tr>\n",
       "      <th>22</th>\n",
       "      <td>ultimate</td>\n",
       "      <td>11</td>\n",
       "      <td>20832.00</td>\n",
       "    </tr>\n",
       "    <tr>\n",
       "      <th>23</th>\n",
       "      <td>ultimate</td>\n",
       "      <td>12</td>\n",
       "      <td>27664.00</td>\n",
       "    </tr>\n",
       "  </tbody>\n",
       "</table>\n",
       "</div>"
      ],
      "text/plain": [
       "   plan_name  month  total_expenses\n",
       "0       surf      1          100.00\n",
       "1       surf      2         1689.57\n",
       "2       surf      3         4756.65\n",
       "3       surf      4         9095.53\n",
       "4       surf      5        17387.37\n",
       "5       surf      6        24869.80\n",
       "6       surf      7        34513.56\n",
       "7       surf      8        46246.85\n",
       "8       surf      9        54374.67\n",
       "9       surf     10        70804.83\n",
       "10      surf     11        79175.21\n",
       "11      surf     12       100757.14\n",
       "12  ultimate      1          280.00\n",
       "13  ultimate      2         1148.00\n",
       "14  ultimate      3         2268.00\n",
       "15  ultimate      4         3388.00\n",
       "16  ultimate      5         4543.00\n",
       "17  ultimate      6         6839.00\n",
       "18  ultimate      7         9632.00\n",
       "19  ultimate      8        12397.00\n",
       "20  ultimate      9        13573.00\n",
       "21  ultimate     10        17409.00\n",
       "22  ultimate     11        20832.00\n",
       "23  ultimate     12        27664.00"
      ]
     },
     "execution_count": 78,
     "metadata": {},
     "output_type": "execute_result"
    }
   ],
   "source": [
    "# Compara la cantidad de ingreso cada mes por plan\n",
    "income_month_plan = merge_consumption_plans.groupby([\"plan_name\",\"month\"])[\"total_expenses\"].sum().reset_index()\n",
    "income_month_plan"
   ]
  },
  {
   "cell_type": "code",
   "execution_count": 79,
   "metadata": {
    "colab": {
     "base_uri": "https://localhost:8080/"
    },
    "id": "0Y1v8ZUz0q1P",
    "outputId": "24462b49-3485-4580-c78e-6bf2f28c5e99"
   },
   "outputs": [
    {
     "data": {
      "text/plain": [
       "443771.17999999993"
      ]
     },
     "execution_count": 79,
     "metadata": {},
     "output_type": "execute_result"
    }
   ],
   "source": [
    "# Ingreso total por el plan surf\n",
    "surf_income = income_month_plan[income_month_plan[\"plan_name\"] == \"surf\"]\n",
    "total_income_surf = surf_income[\"total_expenses\"].sum()\n",
    "total_income_surf"
   ]
  },
  {
   "cell_type": "code",
   "execution_count": 80,
   "metadata": {
    "colab": {
     "base_uri": "https://localhost:8080/"
    },
    "id": "bYmwxyVh0q1P",
    "outputId": "4b87b236-5db9-4c8a-8d71-255d747344d7"
   },
   "outputs": [
    {
     "data": {
      "text/plain": [
       "119973.0"
      ]
     },
     "execution_count": 80,
     "metadata": {},
     "output_type": "execute_result"
    }
   ],
   "source": [
    "# Ingreso total por el plan ultimate\n",
    "ultimate_income = income_month_plan[income_month_plan[\"plan_name\"] == \"ultimate\"]\n",
    "total_income_ultimate = ultimate_income[\"total_expenses\"].sum()\n",
    "total_income_ultimate"
   ]
  },
  {
   "cell_type": "code",
   "execution_count": 81,
   "metadata": {
    "colab": {
     "base_uri": "https://localhost:8080/"
    },
    "id": "LRrx72hNeCCd",
    "outputId": "cf9f536a-2237-435a-9147-81ac8f0f091f"
   },
   "outputs": [
    {
     "name": "stdout",
     "output_type": "stream",
     "text": [
      "El ingreso total por el plan surf es de 443771 y el ingreso \n",
      "total por el plan ultimate es de 119973.\n",
      "\n",
      "Entonces, el plan surf genera 323798 más que el plan ultimate.\n"
     ]
    }
   ],
   "source": [
    "print(f\"El ingreso total por el plan surf es de {total_income_surf.astype(int)} y el ingreso \\ntotal por el plan ultimate es de {total_income_ultimate.astype(int)}.\")\n",
    "print()\n",
    "print(f\"Entonces, el plan surf genera {(total_income_surf-total_income_ultimate).astype(int)} más que el plan ultimate.\")"
   ]
  },
  {
   "cell_type": "code",
   "execution_count": 82,
   "metadata": {},
   "outputs": [
    {
     "data": {
      "text/html": [
       "<div>\n",
       "<style scoped>\n",
       "    .dataframe tbody tr th:only-of-type {\n",
       "        vertical-align: middle;\n",
       "    }\n",
       "\n",
       "    .dataframe tbody tr th {\n",
       "        vertical-align: top;\n",
       "    }\n",
       "\n",
       "    .dataframe thead th {\n",
       "        text-align: right;\n",
       "    }\n",
       "</style>\n",
       "<table border=\"1\" class=\"dataframe\">\n",
       "  <thead>\n",
       "    <tr style=\"text-align: right;\">\n",
       "      <th></th>\n",
       "      <th>user_id</th>\n",
       "      <th>month</th>\n",
       "      <th>total_calls</th>\n",
       "      <th>total_minutes</th>\n",
       "      <th>total_messages</th>\n",
       "      <th>gb_used</th>\n",
       "      <th>age</th>\n",
       "      <th>active_time</th>\n",
       "      <th>messages_included</th>\n",
       "      <th>mb_per_month_included</th>\n",
       "      <th>minutes_included</th>\n",
       "      <th>usd_monthly_pay</th>\n",
       "      <th>usd_per_gb</th>\n",
       "      <th>usd_per_message</th>\n",
       "      <th>usd_per_minute</th>\n",
       "      <th>mb_used</th>\n",
       "      <th>total_expenses</th>\n",
       "      <th>total_expenses2</th>\n",
       "    </tr>\n",
       "  </thead>\n",
       "  <tbody>\n",
       "    <tr>\n",
       "      <th>count</th>\n",
       "      <td>720.000000</td>\n",
       "      <td>720.000000</td>\n",
       "      <td>720.000000</td>\n",
       "      <td>720.000000</td>\n",
       "      <td>720.000000</td>\n",
       "      <td>719.000000</td>\n",
       "      <td>720.000000</td>\n",
       "      <td>52</td>\n",
       "      <td>720.0</td>\n",
       "      <td>720.0</td>\n",
       "      <td>720.0</td>\n",
       "      <td>720.0</td>\n",
       "      <td>720.0</td>\n",
       "      <td>7.200000e+02</td>\n",
       "      <td>7.200000e+02</td>\n",
       "      <td>720.000000</td>\n",
       "      <td>720.000000</td>\n",
       "      <td>720.000000</td>\n",
       "    </tr>\n",
       "    <tr>\n",
       "      <th>mean</th>\n",
       "      <td>1253.330556</td>\n",
       "      <td>9.151389</td>\n",
       "      <td>60.626389</td>\n",
       "      <td>430.450000</td>\n",
       "      <td>37.551389</td>\n",
       "      <td>41.137691</td>\n",
       "      <td>47.719444</td>\n",
       "      <td>224 days 21:41:32.307692308</td>\n",
       "      <td>1000.0</td>\n",
       "      <td>30720.0</td>\n",
       "      <td>3000.0</td>\n",
       "      <td>70.0</td>\n",
       "      <td>7.0</td>\n",
       "      <td>1.000000e-02</td>\n",
       "      <td>1.000000e-02</td>\n",
       "      <td>41.080556</td>\n",
       "      <td>166.629167</td>\n",
       "      <td>208.041667</td>\n",
       "    </tr>\n",
       "    <tr>\n",
       "      <th>std</th>\n",
       "      <td>150.915644</td>\n",
       "      <td>2.558495</td>\n",
       "      <td>33.242994</td>\n",
       "      <td>240.508762</td>\n",
       "      <td>34.767179</td>\n",
       "      <td>16.468902</td>\n",
       "      <td>16.804088</td>\n",
       "      <td>83 days 17:14:21.906483327</td>\n",
       "      <td>0.0</td>\n",
       "      <td>0.0</td>\n",
       "      <td>0.0</td>\n",
       "      <td>0.0</td>\n",
       "      <td>0.0</td>\n",
       "      <td>1.735929e-18</td>\n",
       "      <td>1.735929e-18</td>\n",
       "      <td>16.528701</td>\n",
       "      <td>87.318976</td>\n",
       "      <td>124.741395</td>\n",
       "    </tr>\n",
       "    <tr>\n",
       "      <th>min</th>\n",
       "      <td>1000.000000</td>\n",
       "      <td>1.000000</td>\n",
       "      <td>0.000000</td>\n",
       "      <td>0.000000</td>\n",
       "      <td>0.000000</td>\n",
       "      <td>1.000000</td>\n",
       "      <td>18.000000</td>\n",
       "      <td>9 days 00:00:00</td>\n",
       "      <td>1000.0</td>\n",
       "      <td>30720.0</td>\n",
       "      <td>3000.0</td>\n",
       "      <td>70.0</td>\n",
       "      <td>7.0</td>\n",
       "      <td>1.000000e-02</td>\n",
       "      <td>1.000000e-02</td>\n",
       "      <td>0.000000</td>\n",
       "      <td>70.000000</td>\n",
       "      <td>70.000000</td>\n",
       "    </tr>\n",
       "    <tr>\n",
       "      <th>25%</th>\n",
       "      <td>1126.000000</td>\n",
       "      <td>8.000000</td>\n",
       "      <td>36.000000</td>\n",
       "      <td>260.000000</td>\n",
       "      <td>7.000000</td>\n",
       "      <td>32.000000</td>\n",
       "      <td>34.000000</td>\n",
       "      <td>201 days 00:00:00</td>\n",
       "      <td>1000.0</td>\n",
       "      <td>30720.0</td>\n",
       "      <td>3000.0</td>\n",
       "      <td>70.0</td>\n",
       "      <td>7.0</td>\n",
       "      <td>1.000000e-02</td>\n",
       "      <td>1.000000e-02</td>\n",
       "      <td>32.000000</td>\n",
       "      <td>84.000000</td>\n",
       "      <td>90.000000</td>\n",
       "    </tr>\n",
       "    <tr>\n",
       "      <th>50%</th>\n",
       "      <td>1241.500000</td>\n",
       "      <td>10.000000</td>\n",
       "      <td>61.000000</td>\n",
       "      <td>424.000000</td>\n",
       "      <td>30.000000</td>\n",
       "      <td>42.000000</td>\n",
       "      <td>48.500000</td>\n",
       "      <td>213 days 00:00:00</td>\n",
       "      <td>1000.0</td>\n",
       "      <td>30720.0</td>\n",
       "      <td>3000.0</td>\n",
       "      <td>70.0</td>\n",
       "      <td>7.0</td>\n",
       "      <td>1.000000e-02</td>\n",
       "      <td>1.000000e-02</td>\n",
       "      <td>42.000000</td>\n",
       "      <td>154.000000</td>\n",
       "      <td>190.000000</td>\n",
       "    </tr>\n",
       "    <tr>\n",
       "      <th>75%</th>\n",
       "      <td>1401.000000</td>\n",
       "      <td>11.000000</td>\n",
       "      <td>80.000000</td>\n",
       "      <td>565.250000</td>\n",
       "      <td>61.000000</td>\n",
       "      <td>51.000000</td>\n",
       "      <td>64.000000</td>\n",
       "      <td>292 days 18:00:00</td>\n",
       "      <td>1000.0</td>\n",
       "      <td>30720.0</td>\n",
       "      <td>3000.0</td>\n",
       "      <td>70.0</td>\n",
       "      <td>7.0</td>\n",
       "      <td>1.000000e-02</td>\n",
       "      <td>1.000000e-02</td>\n",
       "      <td>51.000000</td>\n",
       "      <td>217.000000</td>\n",
       "      <td>280.000000</td>\n",
       "    </tr>\n",
       "    <tr>\n",
       "      <th>max</th>\n",
       "      <td>1497.000000</td>\n",
       "      <td>12.000000</td>\n",
       "      <td>191.000000</td>\n",
       "      <td>1369.000000</td>\n",
       "      <td>166.000000</td>\n",
       "      <td>96.000000</td>\n",
       "      <td>75.000000</td>\n",
       "      <td>313 days 00:00:00</td>\n",
       "      <td>1000.0</td>\n",
       "      <td>30720.0</td>\n",
       "      <td>3000.0</td>\n",
       "      <td>70.0</td>\n",
       "      <td>7.0</td>\n",
       "      <td>1.000000e-02</td>\n",
       "      <td>1.000000e-02</td>\n",
       "      <td>96.000000</td>\n",
       "      <td>532.000000</td>\n",
       "      <td>730.000000</td>\n",
       "    </tr>\n",
       "  </tbody>\n",
       "</table>\n",
       "</div>"
      ],
      "text/plain": [
       "           user_id       month  total_calls  total_minutes  total_messages  \\\n",
       "count   720.000000  720.000000   720.000000     720.000000      720.000000   \n",
       "mean   1253.330556    9.151389    60.626389     430.450000       37.551389   \n",
       "std     150.915644    2.558495    33.242994     240.508762       34.767179   \n",
       "min    1000.000000    1.000000     0.000000       0.000000        0.000000   \n",
       "25%    1126.000000    8.000000    36.000000     260.000000        7.000000   \n",
       "50%    1241.500000   10.000000    61.000000     424.000000       30.000000   \n",
       "75%    1401.000000   11.000000    80.000000     565.250000       61.000000   \n",
       "max    1497.000000   12.000000   191.000000    1369.000000      166.000000   \n",
       "\n",
       "          gb_used         age                  active_time  messages_included  \\\n",
       "count  719.000000  720.000000                           52              720.0   \n",
       "mean    41.137691   47.719444  224 days 21:41:32.307692308             1000.0   \n",
       "std     16.468902   16.804088   83 days 17:14:21.906483327                0.0   \n",
       "min      1.000000   18.000000              9 days 00:00:00             1000.0   \n",
       "25%     32.000000   34.000000            201 days 00:00:00             1000.0   \n",
       "50%     42.000000   48.500000            213 days 00:00:00             1000.0   \n",
       "75%     51.000000   64.000000            292 days 18:00:00             1000.0   \n",
       "max     96.000000   75.000000            313 days 00:00:00             1000.0   \n",
       "\n",
       "       mb_per_month_included  minutes_included  usd_monthly_pay  usd_per_gb  \\\n",
       "count                  720.0             720.0            720.0       720.0   \n",
       "mean                 30720.0            3000.0             70.0         7.0   \n",
       "std                      0.0               0.0              0.0         0.0   \n",
       "min                  30720.0            3000.0             70.0         7.0   \n",
       "25%                  30720.0            3000.0             70.0         7.0   \n",
       "50%                  30720.0            3000.0             70.0         7.0   \n",
       "75%                  30720.0            3000.0             70.0         7.0   \n",
       "max                  30720.0            3000.0             70.0         7.0   \n",
       "\n",
       "       usd_per_message  usd_per_minute     mb_used  total_expenses  \\\n",
       "count     7.200000e+02    7.200000e+02  720.000000      720.000000   \n",
       "mean      1.000000e-02    1.000000e-02   41.080556      166.629167   \n",
       "std       1.735929e-18    1.735929e-18   16.528701       87.318976   \n",
       "min       1.000000e-02    1.000000e-02    0.000000       70.000000   \n",
       "25%       1.000000e-02    1.000000e-02   32.000000       84.000000   \n",
       "50%       1.000000e-02    1.000000e-02   42.000000      154.000000   \n",
       "75%       1.000000e-02    1.000000e-02   51.000000      217.000000   \n",
       "max       1.000000e-02    1.000000e-02   96.000000      532.000000   \n",
       "\n",
       "       total_expenses2  \n",
       "count       720.000000  \n",
       "mean        208.041667  \n",
       "std         124.741395  \n",
       "min          70.000000  \n",
       "25%          90.000000  \n",
       "50%         190.000000  \n",
       "75%         280.000000  \n",
       "max         730.000000  "
      ]
     },
     "execution_count": 82,
     "metadata": {},
     "output_type": "execute_result"
    }
   ],
   "source": [
    "stats_ultimate = merge_consumption_plans[merge_consumption_plans[\"plan_name\"] == \"ultimate\"].describe()\n",
    "stats_ultimate"
   ]
  },
  {
   "cell_type": "code",
   "execution_count": 83,
   "metadata": {},
   "outputs": [
    {
     "data": {
      "text/html": [
       "<div>\n",
       "<style scoped>\n",
       "    .dataframe tbody tr th:only-of-type {\n",
       "        vertical-align: middle;\n",
       "    }\n",
       "\n",
       "    .dataframe tbody tr th {\n",
       "        vertical-align: top;\n",
       "    }\n",
       "\n",
       "    .dataframe thead th {\n",
       "        text-align: right;\n",
       "    }\n",
       "</style>\n",
       "<table border=\"1\" class=\"dataframe\">\n",
       "  <thead>\n",
       "    <tr style=\"text-align: right;\">\n",
       "      <th></th>\n",
       "      <th>user_id</th>\n",
       "      <th>month</th>\n",
       "      <th>total_calls</th>\n",
       "      <th>total_minutes</th>\n",
       "      <th>total_messages</th>\n",
       "      <th>gb_used</th>\n",
       "      <th>age</th>\n",
       "      <th>active_time</th>\n",
       "      <th>messages_included</th>\n",
       "      <th>mb_per_month_included</th>\n",
       "      <th>minutes_included</th>\n",
       "      <th>usd_monthly_pay</th>\n",
       "      <th>usd_per_gb</th>\n",
       "      <th>usd_per_message</th>\n",
       "      <th>usd_per_minute</th>\n",
       "      <th>mb_used</th>\n",
       "      <th>total_expenses</th>\n",
       "      <th>total_expenses2</th>\n",
       "    </tr>\n",
       "  </thead>\n",
       "  <tbody>\n",
       "    <tr>\n",
       "      <th>count</th>\n",
       "      <td>1573.000000</td>\n",
       "      <td>1573.000000</td>\n",
       "      <td>1573.000000</td>\n",
       "      <td>1573.000000</td>\n",
       "      <td>1573.000000</td>\n",
       "      <td>1558.000000</td>\n",
       "      <td>1573.000000</td>\n",
       "      <td>106</td>\n",
       "      <td>1573.0</td>\n",
       "      <td>1573.0</td>\n",
       "      <td>1573.0</td>\n",
       "      <td>1573.0</td>\n",
       "      <td>1573.0</td>\n",
       "      <td>1.573000e+03</td>\n",
       "      <td>1.573000e+03</td>\n",
       "      <td>1573.000000</td>\n",
       "      <td>1573.000000</td>\n",
       "      <td>1573.000000</td>\n",
       "    </tr>\n",
       "    <tr>\n",
       "      <th>mean</th>\n",
       "      <td>1242.755245</td>\n",
       "      <td>9.182454</td>\n",
       "      <td>59.811825</td>\n",
       "      <td>428.749523</td>\n",
       "      <td>31.159568</td>\n",
       "      <td>40.526958</td>\n",
       "      <td>44.379530</td>\n",
       "      <td>159 days 14:02:15.849056604</td>\n",
       "      <td>50.0</td>\n",
       "      <td>15360.0</td>\n",
       "      <td>500.0</td>\n",
       "      <td>20.0</td>\n",
       "      <td>10.0</td>\n",
       "      <td>3.000000e-02</td>\n",
       "      <td>3.000000e-02</td>\n",
       "      <td>40.140496</td>\n",
       "      <td>282.117724</td>\n",
       "      <td>282.117724</td>\n",
       "    </tr>\n",
       "    <tr>\n",
       "      <th>std</th>\n",
       "      <td>139.227939</td>\n",
       "      <td>2.468199</td>\n",
       "      <td>32.017989</td>\n",
       "      <td>234.453150</td>\n",
       "      <td>33.566717</td>\n",
       "      <td>17.485040</td>\n",
       "      <td>16.646535</td>\n",
       "      <td>63 days 18:24:13.027940574</td>\n",
       "      <td>0.0</td>\n",
       "      <td>0.0</td>\n",
       "      <td>0.0</td>\n",
       "      <td>0.0</td>\n",
       "      <td>0.0</td>\n",
       "      <td>1.041165e-17</td>\n",
       "      <td>1.041165e-17</td>\n",
       "      <td>17.841862</td>\n",
       "      <td>163.239312</td>\n",
       "      <td>163.239312</td>\n",
       "    </tr>\n",
       "    <tr>\n",
       "      <th>min</th>\n",
       "      <td>1001.000000</td>\n",
       "      <td>1.000000</td>\n",
       "      <td>0.000000</td>\n",
       "      <td>0.000000</td>\n",
       "      <td>0.000000</td>\n",
       "      <td>1.000000</td>\n",
       "      <td>18.000000</td>\n",
       "      <td>7 days 00:00:00</td>\n",
       "      <td>50.0</td>\n",
       "      <td>15360.0</td>\n",
       "      <td>500.0</td>\n",
       "      <td>20.0</td>\n",
       "      <td>10.0</td>\n",
       "      <td>3.000000e-02</td>\n",
       "      <td>3.000000e-02</td>\n",
       "      <td>0.000000</td>\n",
       "      <td>20.000000</td>\n",
       "      <td>20.000000</td>\n",
       "    </tr>\n",
       "    <tr>\n",
       "      <th>25%</th>\n",
       "      <td>1120.000000</td>\n",
       "      <td>8.000000</td>\n",
       "      <td>39.000000</td>\n",
       "      <td>272.000000</td>\n",
       "      <td>3.000000</td>\n",
       "      <td>31.000000</td>\n",
       "      <td>29.000000</td>\n",
       "      <td>140 days 00:00:00</td>\n",
       "      <td>50.0</td>\n",
       "      <td>15360.0</td>\n",
       "      <td>500.0</td>\n",
       "      <td>20.0</td>\n",
       "      <td>10.0</td>\n",
       "      <td>3.000000e-02</td>\n",
       "      <td>3.000000e-02</td>\n",
       "      <td>30.000000</td>\n",
       "      <td>173.510000</td>\n",
       "      <td>173.510000</td>\n",
       "    </tr>\n",
       "    <tr>\n",
       "      <th>50%</th>\n",
       "      <td>1245.000000</td>\n",
       "      <td>10.000000</td>\n",
       "      <td>60.000000</td>\n",
       "      <td>425.000000</td>\n",
       "      <td>24.000000</td>\n",
       "      <td>42.000000</td>\n",
       "      <td>45.000000</td>\n",
       "      <td>174 days 00:00:00</td>\n",
       "      <td>50.0</td>\n",
       "      <td>15360.0</td>\n",
       "      <td>500.0</td>\n",
       "      <td>20.0</td>\n",
       "      <td>10.0</td>\n",
       "      <td>3.000000e-02</td>\n",
       "      <td>3.000000e-02</td>\n",
       "      <td>42.000000</td>\n",
       "      <td>290.000000</td>\n",
       "      <td>290.000000</td>\n",
       "    </tr>\n",
       "    <tr>\n",
       "      <th>75%</th>\n",
       "      <td>1358.000000</td>\n",
       "      <td>11.000000</td>\n",
       "      <td>79.000000</td>\n",
       "      <td>576.000000</td>\n",
       "      <td>47.000000</td>\n",
       "      <td>52.000000</td>\n",
       "      <td>59.000000</td>\n",
       "      <td>188 days 00:00:00</td>\n",
       "      <td>50.0</td>\n",
       "      <td>15360.0</td>\n",
       "      <td>500.0</td>\n",
       "      <td>20.0</td>\n",
       "      <td>10.0</td>\n",
       "      <td>3.000000e-02</td>\n",
       "      <td>3.000000e-02</td>\n",
       "      <td>52.000000</td>\n",
       "      <td>390.000000</td>\n",
       "      <td>390.000000</td>\n",
       "    </tr>\n",
       "    <tr>\n",
       "      <th>max</th>\n",
       "      <td>1499.000000</td>\n",
       "      <td>12.000000</td>\n",
       "      <td>205.000000</td>\n",
       "      <td>1510.000000</td>\n",
       "      <td>266.000000</td>\n",
       "      <td>132.000000</td>\n",
       "      <td>75.000000</td>\n",
       "      <td>254 days 00:00:00</td>\n",
       "      <td>50.0</td>\n",
       "      <td>15360.0</td>\n",
       "      <td>500.0</td>\n",
       "      <td>20.0</td>\n",
       "      <td>10.0</td>\n",
       "      <td>3.000000e-02</td>\n",
       "      <td>3.000000e-02</td>\n",
       "      <td>132.000000</td>\n",
       "      <td>1210.370000</td>\n",
       "      <td>1210.370000</td>\n",
       "    </tr>\n",
       "  </tbody>\n",
       "</table>\n",
       "</div>"
      ],
      "text/plain": [
       "           user_id        month  total_calls  total_minutes  total_messages  \\\n",
       "count  1573.000000  1573.000000  1573.000000    1573.000000     1573.000000   \n",
       "mean   1242.755245     9.182454    59.811825     428.749523       31.159568   \n",
       "std     139.227939     2.468199    32.017989     234.453150       33.566717   \n",
       "min    1001.000000     1.000000     0.000000       0.000000        0.000000   \n",
       "25%    1120.000000     8.000000    39.000000     272.000000        3.000000   \n",
       "50%    1245.000000    10.000000    60.000000     425.000000       24.000000   \n",
       "75%    1358.000000    11.000000    79.000000     576.000000       47.000000   \n",
       "max    1499.000000    12.000000   205.000000    1510.000000      266.000000   \n",
       "\n",
       "           gb_used          age                  active_time  \\\n",
       "count  1558.000000  1573.000000                          106   \n",
       "mean     40.526958    44.379530  159 days 14:02:15.849056604   \n",
       "std      17.485040    16.646535   63 days 18:24:13.027940574   \n",
       "min       1.000000    18.000000              7 days 00:00:00   \n",
       "25%      31.000000    29.000000            140 days 00:00:00   \n",
       "50%      42.000000    45.000000            174 days 00:00:00   \n",
       "75%      52.000000    59.000000            188 days 00:00:00   \n",
       "max     132.000000    75.000000            254 days 00:00:00   \n",
       "\n",
       "       messages_included  mb_per_month_included  minutes_included  \\\n",
       "count             1573.0                 1573.0            1573.0   \n",
       "mean                50.0                15360.0             500.0   \n",
       "std                  0.0                    0.0               0.0   \n",
       "min                 50.0                15360.0             500.0   \n",
       "25%                 50.0                15360.0             500.0   \n",
       "50%                 50.0                15360.0             500.0   \n",
       "75%                 50.0                15360.0             500.0   \n",
       "max                 50.0                15360.0             500.0   \n",
       "\n",
       "       usd_monthly_pay  usd_per_gb  usd_per_message  usd_per_minute  \\\n",
       "count           1573.0      1573.0     1.573000e+03    1.573000e+03   \n",
       "mean              20.0        10.0     3.000000e-02    3.000000e-02   \n",
       "std                0.0         0.0     1.041165e-17    1.041165e-17   \n",
       "min               20.0        10.0     3.000000e-02    3.000000e-02   \n",
       "25%               20.0        10.0     3.000000e-02    3.000000e-02   \n",
       "50%               20.0        10.0     3.000000e-02    3.000000e-02   \n",
       "75%               20.0        10.0     3.000000e-02    3.000000e-02   \n",
       "max               20.0        10.0     3.000000e-02    3.000000e-02   \n",
       "\n",
       "           mb_used  total_expenses  total_expenses2  \n",
       "count  1573.000000     1573.000000      1573.000000  \n",
       "mean     40.140496      282.117724       282.117724  \n",
       "std      17.841862      163.239312       163.239312  \n",
       "min       0.000000       20.000000        20.000000  \n",
       "25%      30.000000      173.510000       173.510000  \n",
       "50%      42.000000      290.000000       290.000000  \n",
       "75%      52.000000      390.000000       390.000000  \n",
       "max     132.000000     1210.370000      1210.370000  "
      ]
     },
     "execution_count": 83,
     "metadata": {},
     "output_type": "execute_result"
    }
   ],
   "source": [
    "stats_surf = merge_consumption_plans[merge_consumption_plans[\"plan_name\"] == \"surf\"].describe()\n",
    "stats_surf"
   ]
  },
  {
   "cell_type": "markdown",
   "metadata": {},
   "source": [
    "Podemos ver como tanto para los minutos, mensajes y gb usados, la media y la mediana obtienen valores muy parecidos en ambos planes.\n",
    "\n",
    "La distribución de la edad, es decir, cuantos años tienen los que adquieren el plan es muy parecida en ambos planes, aunque si se nota una diferencia respecto a que gente más joven contrata el plan surf, lo cual se podrian entender que es debido al precio, y los más jovenes podrian tener menos poder adquisitivo, sin embargo, como vimos en otros análisis son los que se pasan más de los megas y mensajes, por tanto, generan más gastos. En general, la gente más grande es mas consiente de las cosas y tiene a ser mas precabida , ya que además de ser más consiente tiene otras obligaciones económicas que debe cumplir como inclusive ya familia, casa, auto y otras cosas que debe consierar. Si bien se podria entender por \"lógica\" que el plan surf esta destinado a un mercado más joven, por medio de este análisis descriptivo, podemos ciertos indicios de que es así."
   ]
  },
  {
   "cell_type": "markdown",
   "metadata": {},
   "source": [
    "<div class=\"alert alert-block alert-warning\">\n",
    "\n",
    "<b>Comentario revisor</b> <a class=\"tocSkip\"></a>\n",
    "\n",
    "Te recomiendo obtener estadística descriptiva de cada partida (llamadas, mensajes, internet) e ingresos por plan (media, mediana, moda, desviación típica, varianza) para identificar la distribución de los datos y algunos hallazgos antes de pasar a las pruebas de hipótesis.\n",
    "\n",
    "</div>"
   ]
  },
  {
   "cell_type": "markdown",
   "metadata": {
    "id": "ajJ7VKeI0q1Q"
   },
   "source": [
    "## Prueba las hipótesis estadísticas"
   ]
  },
  {
   "cell_type": "markdown",
   "metadata": {
    "id": "arsAiiujhWb6"
   },
   "source": [
    "### Prueba de hipótesis 1"
   ]
  },
  {
   "cell_type": "code",
   "execution_count": 84,
   "metadata": {
    "colab": {
     "base_uri": "https://localhost:8080/",
     "height": 423
    },
    "id": "nFoPNlPq0q1R",
    "outputId": "8ee6439f-7374-44a7-bdbb-efa64ca9d1e4"
   },
   "outputs": [
    {
     "data": {
      "text/html": [
       "<div>\n",
       "<style scoped>\n",
       "    .dataframe tbody tr th:only-of-type {\n",
       "        vertical-align: middle;\n",
       "    }\n",
       "\n",
       "    .dataframe tbody tr th {\n",
       "        vertical-align: top;\n",
       "    }\n",
       "\n",
       "    .dataframe thead th {\n",
       "        text-align: right;\n",
       "    }\n",
       "</style>\n",
       "<table border=\"1\" class=\"dataframe\">\n",
       "  <thead>\n",
       "    <tr style=\"text-align: right;\">\n",
       "      <th></th>\n",
       "      <th>plan_name</th>\n",
       "      <th>user_id</th>\n",
       "      <th>total_expenses</th>\n",
       "    </tr>\n",
       "  </thead>\n",
       "  <tbody>\n",
       "    <tr>\n",
       "      <th>0</th>\n",
       "      <td>surf</td>\n",
       "      <td>1001</td>\n",
       "      <td>302.018000</td>\n",
       "    </tr>\n",
       "    <tr>\n",
       "      <th>1</th>\n",
       "      <td>surf</td>\n",
       "      <td>1002</td>\n",
       "      <td>193.333333</td>\n",
       "    </tr>\n",
       "    <tr>\n",
       "      <th>2</th>\n",
       "      <td>surf</td>\n",
       "      <td>1003</td>\n",
       "      <td>418.120000</td>\n",
       "    </tr>\n",
       "    <tr>\n",
       "      <th>3</th>\n",
       "      <td>surf</td>\n",
       "      <td>1004</td>\n",
       "      <td>370.000000</td>\n",
       "    </tr>\n",
       "    <tr>\n",
       "      <th>4</th>\n",
       "      <td>surf</td>\n",
       "      <td>1005</td>\n",
       "      <td>380.000000</td>\n",
       "    </tr>\n",
       "    <tr>\n",
       "      <th>...</th>\n",
       "      <td>...</td>\n",
       "      <td>...</td>\n",
       "      <td>...</td>\n",
       "    </tr>\n",
       "    <tr>\n",
       "      <th>485</th>\n",
       "      <td>ultimate</td>\n",
       "      <td>1482</td>\n",
       "      <td>123.666667</td>\n",
       "    </tr>\n",
       "    <tr>\n",
       "      <th>486</th>\n",
       "      <td>ultimate</td>\n",
       "      <td>1487</td>\n",
       "      <td>140.000000</td>\n",
       "    </tr>\n",
       "    <tr>\n",
       "      <th>487</th>\n",
       "      <td>ultimate</td>\n",
       "      <td>1490</td>\n",
       "      <td>322.000000</td>\n",
       "    </tr>\n",
       "    <tr>\n",
       "      <th>488</th>\n",
       "      <td>ultimate</td>\n",
       "      <td>1493</td>\n",
       "      <td>134.400000</td>\n",
       "    </tr>\n",
       "    <tr>\n",
       "      <th>489</th>\n",
       "      <td>ultimate</td>\n",
       "      <td>1497</td>\n",
       "      <td>70.000000</td>\n",
       "    </tr>\n",
       "  </tbody>\n",
       "</table>\n",
       "<p>490 rows × 3 columns</p>\n",
       "</div>"
      ],
      "text/plain": [
       "    plan_name  user_id  total_expenses\n",
       "0        surf     1001      302.018000\n",
       "1        surf     1002      193.333333\n",
       "2        surf     1003      418.120000\n",
       "3        surf     1004      370.000000\n",
       "4        surf     1005      380.000000\n",
       "..        ...      ...             ...\n",
       "485  ultimate     1482      123.666667\n",
       "486  ultimate     1487      140.000000\n",
       "487  ultimate     1490      322.000000\n",
       "488  ultimate     1493      134.400000\n",
       "489  ultimate     1497       70.000000\n",
       "\n",
       "[490 rows x 3 columns]"
      ]
     },
     "execution_count": 84,
     "metadata": {},
     "output_type": "execute_result"
    }
   ],
   "source": [
    "# Prueba las hipótesis 1\n",
    "# H0(nula) es que los ingresos promedios de los usarios de los planes de llamada ultimate y surf sean iguales\n",
    "# H1(alternativa) es que los ingresos promedios de los usarios de los planes de llamada ultimate y surf no son iguales\n",
    "\n",
    "plan_income_minutes = merge_consumption_plans.groupby([\"plan_name\",\"user_id\"])[\"total_expenses\"].mean().reset_index()\n",
    "plan_income_minutes\n",
    "\n"
   ]
  },
  {
   "cell_type": "code",
   "execution_count": 85,
   "metadata": {
    "colab": {
     "base_uri": "https://localhost:8080/"
    },
    "id": "s_RX15ahY2hf",
    "outputId": "ca9e6a5d-bbac-4169-c6d9-56e6bcf156d3"
   },
   "outputs": [
    {
     "data": {
      "text/plain": [
       "0      302.018000\n",
       "1      193.333333\n",
       "2      418.120000\n",
       "3      370.000000\n",
       "4      380.000000\n",
       "          ...    \n",
       "328    282.291667\n",
       "329    490.825000\n",
       "330    218.000000\n",
       "331    382.727273\n",
       "332    345.000000\n",
       "Name: total_expenses, Length: 333, dtype: float64"
      ]
     },
     "execution_count": 85,
     "metadata": {},
     "output_type": "execute_result"
    }
   ],
   "source": [
    "# Los ingresos promedios del plan surf\n",
    "\n",
    "surf_income = plan_income_minutes[plan_income_minutes[\"plan_name\"] == \"surf\"]\n",
    "surf_income = surf_income[\"total_expenses\"]\n",
    "surf_income"
   ]
  },
  {
   "cell_type": "code",
   "execution_count": 86,
   "metadata": {
    "colab": {
     "base_uri": "https://localhost:8080/"
    },
    "id": "Nb1e-23WcbW_",
    "outputId": "8413d256-f0a1-49d2-f691-eb70a41ec298"
   },
   "outputs": [
    {
     "data": {
      "text/plain": [
       "333     70.000000\n",
       "334    182.000000\n",
       "335    196.000000\n",
       "336    215.000000\n",
       "337    259.000000\n",
       "          ...    \n",
       "485    123.666667\n",
       "486    140.000000\n",
       "487    322.000000\n",
       "488    134.400000\n",
       "489     70.000000\n",
       "Name: total_expenses, Length: 157, dtype: float64"
      ]
     },
     "execution_count": 86,
     "metadata": {},
     "output_type": "execute_result"
    }
   ],
   "source": [
    "# Los ingresos promedios del plan ultimate\n",
    "\n",
    "ultimate_income = plan_income_minutes[plan_income_minutes[\"plan_name\"] == \"ultimate\"]\n",
    "ultimate_income = ultimate_income[\"total_expenses\"]\n",
    "ultimate_income"
   ]
  },
  {
   "cell_type": "code",
   "execution_count": 87,
   "metadata": {
    "colab": {
     "base_uri": "https://localhost:8080/"
    },
    "id": "vIAM1F24clZ_",
    "outputId": "5832392e-04ca-4295-8a37-a8ea8faea709"
   },
   "outputs": [
    {
     "name": "stdout",
     "output_type": "stream",
     "text": [
      "valor p: 6.539448654633006e-33\n",
      "Rechazamos la hipótesis nula\n"
     ]
    }
   ],
   "source": [
    "alpha = 0.05\n",
    "results1 = st.ttest_ind(surf_income,ultimate_income,equal_var=False)\n",
    "\n",
    "print('valor p:', results1.pvalue)\n",
    "\n",
    "if results1.pvalue < alpha:\n",
    "    print(\"Rechazamos la hipótesis nula\")\n",
    "else:\n",
    "    print(\"No podemos rechazar la hipótesis nula\")"
   ]
  },
  {
   "cell_type": "markdown",
   "metadata": {
    "id": "MLg94jWcc4y3"
   },
   "source": [
    "Entonces, podemos aceptar la hipotesis alternativa que indica que los ingresos promedios de los usarios de los planes de llamada ultimate y surf no son iguales"
   ]
  },
  {
   "cell_type": "markdown",
   "metadata": {
    "id": "xmwiGwFChPZO"
   },
   "source": [
    "### Prueba de hipotesis 2"
   ]
  },
  {
   "cell_type": "code",
   "execution_count": 88,
   "metadata": {
    "colab": {
     "base_uri": "https://localhost:8080/"
    },
    "id": "Cqcj7wrZ0q1S",
    "outputId": "88549c94-8d61-4b90-aeb9-864a357ce2e8"
   },
   "outputs": [
    {
     "name": "stdout",
     "output_type": "stream",
     "text": [
      "      user_id  month  total_calls  total_minutes  total_messages  gb_used  \\\n",
      "56       1014     11         28.0          163.0               9      2.0   \n",
      "57       1014     12        150.0         1114.0              64     17.0   \n",
      "75       1022      5         39.0          302.0               0     12.0   \n",
      "76       1022      6         76.0          490.0               0     65.0   \n",
      "77       1022      7         70.0          475.0               0     33.0   \n",
      "...       ...    ...          ...            ...             ...      ...   \n",
      "2260     1080      9          0.0            0.0              64     46.0   \n",
      "2261     1080     10          0.0            0.0              59     61.0   \n",
      "2262     1080     11          0.0            0.0              50     70.0   \n",
      "2263     1080     12          0.0            0.0              61     50.0   \n",
      "2290     1482     10          0.0            0.0               2      NaN   \n",
      "\n",
      "     first_name last_name  age                                       city  \\\n",
      "56      Edmundo     Simon   61  New York-Newark-Jersey City, NY-NJ-PA MSA   \n",
      "57      Edmundo     Simon   61  New York-Newark-Jersey City, NY-NJ-PA MSA   \n",
      "75           Bo      Snow   73  New York-Newark-Jersey City, NY-NJ-PA MSA   \n",
      "76           Bo      Snow   73  New York-Newark-Jersey City, NY-NJ-PA MSA   \n",
      "77           Bo      Snow   73  New York-Newark-Jersey City, NY-NJ-PA MSA   \n",
      "...         ...       ...  ...                                        ...   \n",
      "2260       Neal     Mcgee   45  New York-Newark-Jersey City, NY-NJ-PA MSA   \n",
      "2261       Neal     Mcgee   45  New York-Newark-Jersey City, NY-NJ-PA MSA   \n",
      "2262       Neal     Mcgee   45  New York-Newark-Jersey City, NY-NJ-PA MSA   \n",
      "2263       Neal     Mcgee   45  New York-Newark-Jersey City, NY-NJ-PA MSA   \n",
      "2290     Armand     Glenn   70  New York-Newark-Jersey City, NY-NJ-PA MSA   \n",
      "\n",
      "      ... messages_included mb_per_month_included minutes_included  \\\n",
      "56    ...                50                 15360              500   \n",
      "57    ...                50                 15360              500   \n",
      "75    ...                50                 15360              500   \n",
      "76    ...                50                 15360              500   \n",
      "77    ...                50                 15360              500   \n",
      "...   ...               ...                   ...              ...   \n",
      "2260  ...                50                 15360              500   \n",
      "2261  ...                50                 15360              500   \n",
      "2262  ...                50                 15360              500   \n",
      "2263  ...                50                 15360              500   \n",
      "2290  ...              1000                 30720             3000   \n",
      "\n",
      "     usd_monthly_pay  usd_per_gb  usd_per_message  usd_per_minute  mb_used  \\\n",
      "56                20          10             0.03            0.03      2.0   \n",
      "57                20          10             0.03            0.03     17.0   \n",
      "75                20          10             0.03            0.03     12.0   \n",
      "76                20          10             0.03            0.03     65.0   \n",
      "77                20          10             0.03            0.03     33.0   \n",
      "...              ...         ...              ...             ...      ...   \n",
      "2260              20          10             0.03            0.03     46.0   \n",
      "2261              20          10             0.03            0.03     61.0   \n",
      "2262              20          10             0.03            0.03     70.0   \n",
      "2263              20          10             0.03            0.03     50.0   \n",
      "2290              70           7             0.01            0.01      0.0   \n",
      "\n",
      "      total_expenses  total_expenses2  \n",
      "56             20.00            20.00  \n",
      "57             58.84            58.84  \n",
      "75             20.00            20.00  \n",
      "76            520.00           520.00  \n",
      "77            200.00           200.00  \n",
      "...              ...              ...  \n",
      "2260          330.42           330.42  \n",
      "2261          480.27           480.27  \n",
      "2262          570.00           570.00  \n",
      "2263          370.33           370.33  \n",
      "2290           70.00            70.00  \n",
      "\n",
      "[377 rows x 24 columns]\n"
     ]
    }
   ],
   "source": [
    "# Prueba las hipótesis 2\n",
    "# H0(nula) es que el ingreso promedio de los usuarios del área NY-NJ es igual de los usuarios de las otras regiones\n",
    "# H1(alternativa) es que el ingreso promedio de los usuarios del área NY-NJ es mayor que de los usuarios de las otras regiones\n",
    "\n",
    "find_city = merge_consumption_plans[merge_consumption_plans[\"city\"].str.contains(\"NY-NJ\")]\n",
    "print(find_city)\n",
    "\n",
    "#other_city = merge_consumption_plans[~merge_consumption_plans[\"city\"].str.contains(\"NY-NJ\")]\n",
    "#print(other_city)\n"
   ]
  },
  {
   "cell_type": "code",
   "execution_count": 89,
   "metadata": {
    "colab": {
     "base_uri": "https://localhost:8080/"
    },
    "id": "OjtNHTqCwcly",
    "outputId": "c8486182-f02a-49be-9d7f-186fe5343748"
   },
   "outputs": [
    {
     "data": {
      "text/plain": [
       "56       20.00\n",
       "57       58.84\n",
       "75       20.00\n",
       "76      520.00\n",
       "77      200.00\n",
       "         ...  \n",
       "2260    330.42\n",
       "2261    480.27\n",
       "2262    570.00\n",
       "2263    370.33\n",
       "2290     70.00\n",
       "Name: total_expenses, Length: 377, dtype: float64"
      ]
     },
     "execution_count": 89,
     "metadata": {},
     "output_type": "execute_result"
    }
   ],
   "source": [
    "income_city = find_city[\"total_expenses\"]\n",
    "income_city"
   ]
  },
  {
   "cell_type": "code",
   "execution_count": 90,
   "metadata": {
    "colab": {
     "base_uri": "https://localhost:8080/"
    },
    "id": "AKa1EADPrBxr",
    "outputId": "a5ddde52-350d-4fc1-e213-318d4983a80a"
   },
   "outputs": [
    {
     "name": "stdout",
     "output_type": "stream",
     "text": [
      "      user_id  month  total_calls  total_minutes  total_messages  gb_used  \\\n",
      "0        1000     12         16.0          124.0              11      4.0   \n",
      "1        1001      8         27.0          182.0              30     21.0   \n",
      "2        1001      9         49.0          315.0              44     41.0   \n",
      "3        1001     10         65.0          393.0              53     50.0   \n",
      "4        1001     11         64.0          426.0              36     49.0   \n",
      "...       ...    ...          ...            ...             ...      ...   \n",
      "2287     1349     11          0.0            0.0              72     34.0   \n",
      "2288     1349     12          0.0            0.0              61     27.0   \n",
      "2289     1361      5          0.0            0.0               2      7.0   \n",
      "2291     1108     12          0.0            0.0               0      2.0   \n",
      "2292     1311      6          0.0            0.0               0      7.0   \n",
      "\n",
      "      first_name  last_name  age                                   city  ...  \\\n",
      "0       Anamaria      Bauer   45  Atlanta-Sandy Springs-Roswell, GA MSA  ...   \n",
      "1         Mickey  Wilkerson   28        Seattle-Tacoma-Bellevue, WA MSA  ...   \n",
      "2         Mickey  Wilkerson   28        Seattle-Tacoma-Bellevue, WA MSA  ...   \n",
      "3         Mickey  Wilkerson   28        Seattle-Tacoma-Bellevue, WA MSA  ...   \n",
      "4         Mickey  Wilkerson   28        Seattle-Tacoma-Bellevue, WA MSA  ...   \n",
      "...          ...        ...  ...                                    ...  ...   \n",
      "2287  Florentina       Diaz   69     Boston-Cambridge-Newton, MA-NH MSA  ...   \n",
      "2288  Florentina       Diaz   69     Boston-Cambridge-Newton, MA-NH MSA  ...   \n",
      "2289     Jacelyn    Hoffman   45              Birmingham-Hoover, AL MSA  ...   \n",
      "2291    Porfirio       Kane   45                 Salt Lake City, UT MSA  ...   \n",
      "2292     Cherlyn   Saunders   69                  Memphis, TN-MS-AR MSA  ...   \n",
      "\n",
      "     messages_included mb_per_month_included minutes_included usd_monthly_pay  \\\n",
      "0                 1000                 30720             3000              70   \n",
      "1                   50                 15360              500              20   \n",
      "2                   50                 15360              500              20   \n",
      "3                   50                 15360              500              20   \n",
      "4                   50                 15360              500              20   \n",
      "...                ...                   ...              ...             ...   \n",
      "2287                50                 15360              500              20   \n",
      "2288                50                 15360              500              20   \n",
      "2289                50                 15360              500              20   \n",
      "2291              1000                 30720             3000              70   \n",
      "2292              1000                 30720             3000              70   \n",
      "\n",
      "      usd_per_gb  usd_per_message  usd_per_minute  mb_used  total_expenses  \\\n",
      "0              7             0.01            0.01      4.0           70.00   \n",
      "1             10             0.03            0.03     21.0           80.00   \n",
      "2             10             0.03            0.03     41.0          280.00   \n",
      "3             10             0.03            0.03     50.0          370.09   \n",
      "4             10             0.03            0.03     49.0          360.00   \n",
      "...          ...              ...             ...      ...             ...   \n",
      "2287          10             0.03            0.03     34.0          210.66   \n",
      "2288          10             0.03            0.03     27.0          140.33   \n",
      "2289          10             0.03            0.03      7.0           20.00   \n",
      "2291           7             0.01            0.01      2.0           70.00   \n",
      "2292           7             0.01            0.01      7.0           70.00   \n",
      "\n",
      "      total_expenses2  \n",
      "0               70.00  \n",
      "1               80.00  \n",
      "2              280.00  \n",
      "3              370.09  \n",
      "4              360.00  \n",
      "...               ...  \n",
      "2287           210.66  \n",
      "2288           140.33  \n",
      "2289            20.00  \n",
      "2291            70.00  \n",
      "2292            70.00  \n",
      "\n",
      "[1916 rows x 24 columns]\n"
     ]
    }
   ],
   "source": [
    "other_city = merge_consumption_plans[~merge_consumption_plans[\"city\"].str.contains(\"NY-NJ\")]\n",
    "print(other_city)"
   ]
  },
  {
   "cell_type": "code",
   "execution_count": 91,
   "metadata": {
    "colab": {
     "base_uri": "https://localhost:8080/"
    },
    "id": "uJDU50OCw43s",
    "outputId": "b63ed46d-59ac-4fa2-d78c-dfccb161eb75"
   },
   "outputs": [
    {
     "data": {
      "text/plain": [
       "0        70.00\n",
       "1        80.00\n",
       "2       280.00\n",
       "3       370.09\n",
       "4       360.00\n",
       "         ...  \n",
       "2287    210.66\n",
       "2288    140.33\n",
       "2289     20.00\n",
       "2291     70.00\n",
       "2292     70.00\n",
       "Name: total_expenses, Length: 1916, dtype: float64"
      ]
     },
     "execution_count": 91,
     "metadata": {},
     "output_type": "execute_result"
    }
   ],
   "source": [
    "income_other_city = other_city[\"total_expenses\"]\n",
    "income_other_city"
   ]
  },
  {
   "cell_type": "code",
   "execution_count": 92,
   "metadata": {
    "colab": {
     "base_uri": "https://localhost:8080/"
    },
    "id": "hVSqUXchxG9b",
    "outputId": "59eb495e-c333-441c-a295-d1a68c296d9c"
   },
   "outputs": [
    {
     "name": "stdout",
     "output_type": "stream",
     "text": [
      "valor p: 0.004632562058700195\n",
      "Rechazamos la hipótesis nula\n"
     ]
    }
   ],
   "source": [
    "alpha = 0.05\n",
    "results2 = st.ttest_ind(income_city,income_other_city,equal_var=False)\n",
    "\n",
    "print('valor p:', results2.pvalue)\n",
    "\n",
    "if results2.pvalue < alpha:\n",
    "    print(\"Rechazamos la hipótesis nula\")\n",
    "else:\n",
    "    print(\"No podemos rechazar la hipótesis nula\")"
   ]
  },
  {
   "cell_type": "markdown",
   "metadata": {
    "id": "Xim2ZzOyyEEO"
   },
   "source": [
    "Por lo tanto, no podemos rechazar el ingreso promedio de los usuarios del área NY-NJ es igual de los usuarios de las otras regiones"
   ]
  },
  {
   "cell_type": "markdown",
   "metadata": {
    "id": "bbTR8UQO0q1T"
   },
   "source": [
    "## Conclusión general\n",
    "\n",
    "Al finalizar nuestro análisis sobre el comportamiento de los usuarios que contrataron los planes surf o ultimate encontramos interentes conclusiones o lineas de posibles investigaciones futuras.\n",
    "\n",
    "Vemos que los clientes son sensibles al precio que pagan por cada plan, y esto se ve, en que hay muchos más clientes que tienen el plan surf que el últimate, sin embargo, es curioso notar que si bien al parecer escogen un plan por el precio, estos clientes, llegan a gastar más por los cobros extras al revasar los beneficios tanto en minutos, mensansajes y gigas que ofrece el plan surf.\n",
    "\n",
    "En relación a las llamadas, ambos planes tienen un comportamiento parecido respecto a los minutos que usan.\n",
    "\n",
    "En relación tanto a mensajes y gigabytes, es donde se disparan las diferencias, siendo los del plan surf que hacen más uso de ambos servicios.\n",
    "\n",
    "Finalmente, estas tendendecias y comportamientos de consumo se ven reflejados al final en el ingreso que genera cada plan para la empresa, siendo el surf, el que más ingresos da aún cuando su renta mensual es la más economica.\n",
    "\n",
    "Entonces, en relación a crear una campaña de publicidad, podemos inclusive mantener el precio de $20 que ya es un factor que parece por el cual los clientes prefieren el plan, y para que lo contraten más, subir el numero de gigabytes y mensajes que se oferecen a un rango que no sobrepase el numero que en promedio revasan los usuarios. De esta forma, ellos recibiran más pagando lo mismo, pero al final, seguirán pagando más porque se pasan de lo que se les ofrece.\n",
    "\n",
    "Y para el plan últimate, mantenerlo igual para los clientes más premium o que les gusta sentir que tienen más cosas, porque al final, igual se siguen pasando tanto en mensajes como en gigabytes, y adicional, pagan una mensualidad mayor.\n"
   ]
  },
  {
   "cell_type": "markdown",
   "metadata": {},
   "source": [
    "<div class=\"alert alert-block alert-warning\">\n",
    "<b>Reviewer's comment</b> <a class=\"tocSkip\"></a>\n",
    "\n",
    "En general creo que hiciste un muy buen trabajo con el proyecto, pudiste limpiar y trabajar las bases de datos de beuna manera, así como juntar la información. Además, considero que el análisis con las gráficas y con las pruebas de hipótesis es muy acertado. No obstante, recuerda que siempre podemos mejorar y te menciono algunos puntos que debes considerar:\n",
    "\n",
    "* Verificar que las librerías las importas desde la primera parte del código\n",
    "    \n",
    "* Tener precaución de no llenar variables con valor NaN con datos no reales\n",
    "    \n",
    "* Verificar la transformación de la variables mb a gb y verificar que redondeamos las variables antes de hacer la agrupación por usuario\n",
    "</div>"
   ]
  }
 ],
 "metadata": {
  "ExecuteTimeLog": [
   {
    "duration": 828,
    "start_time": "2021-11-16T09:21:11.304Z"
   },
   {
    "duration": 893,
    "start_time": "2021-11-16T09:21:17.728Z"
   },
   {
    "duration": 1150,
    "start_time": "2021-11-16T09:21:29.568Z"
   },
   {
    "duration": 3,
    "start_time": "2021-11-16T09:24:14.495Z"
   },
   {
    "duration": 120,
    "start_time": "2021-11-16T09:24:46.630Z"
   },
   {
    "duration": 3,
    "start_time": "2021-11-16T09:28:27.882Z"
   },
   {
    "duration": 4,
    "start_time": "2021-11-16T09:29:54.281Z"
   },
   {
    "duration": 3,
    "start_time": "2021-11-16T09:30:45.936Z"
   },
   {
    "duration": 4,
    "start_time": "2021-11-16T09:31:06.300Z"
   },
   {
    "duration": 113,
    "start_time": "2021-11-16T09:31:37.208Z"
   },
   {
    "duration": 143,
    "start_time": "2021-11-16T09:31:48.656Z"
   },
   {
    "duration": 98,
    "start_time": "2021-11-16T09:31:55.678Z"
   },
   {
    "duration": 3,
    "start_time": "2021-11-16T09:32:08.535Z"
   },
   {
    "duration": 111,
    "start_time": "2021-11-16T09:32:10.120Z"
   },
   {
    "duration": 3,
    "start_time": "2021-11-16T09:32:15.732Z"
   },
   {
    "duration": 4,
    "start_time": "2021-11-16T09:32:29.423Z"
   },
   {
    "duration": 3,
    "start_time": "2021-11-16T10:03:03.074Z"
   },
   {
    "duration": 3,
    "start_time": "2021-11-16T10:10:01.288Z"
   },
   {
    "duration": 3,
    "start_time": "2021-11-16T10:10:46.923Z"
   },
   {
    "duration": 121,
    "start_time": "2021-11-16T10:37:46.494Z"
   },
   {
    "duration": 125,
    "start_time": "2021-11-16T10:38:20.632Z"
   },
   {
    "duration": 112,
    "start_time": "2021-11-16T10:46:53.001Z"
   },
   {
    "duration": 110,
    "start_time": "2021-11-16T10:48:25.775Z"
   },
   {
    "duration": 3,
    "start_time": "2021-11-16T10:50:18.720Z"
   },
   {
    "duration": 4,
    "start_time": "2021-11-16T10:50:37.649Z"
   },
   {
    "duration": 2,
    "start_time": "2021-11-16T10:50:51.884Z"
   },
   {
    "duration": 3,
    "start_time": "2021-11-16T10:51:56.237Z"
   },
   {
    "duration": 101,
    "start_time": "2021-11-16T10:53:13.791Z"
   },
   {
    "duration": 3,
    "start_time": "2021-11-16T10:55:59.186Z"
   },
   {
    "duration": 3,
    "start_time": "2021-11-16T10:56:10.751Z"
   },
   {
    "duration": 3,
    "start_time": "2021-11-16T10:56:49.038Z"
   },
   {
    "duration": 3,
    "start_time": "2021-11-16T10:56:49.174Z"
   },
   {
    "duration": 4,
    "start_time": "2021-11-16T10:56:49.414Z"
   },
   {
    "duration": 3,
    "start_time": "2021-11-16T10:56:49.680Z"
   },
   {
    "duration": 3,
    "start_time": "2021-11-16T10:56:50.370Z"
   },
   {
    "duration": 114,
    "start_time": "2021-11-16T10:59:34.518Z"
   },
   {
    "duration": 3,
    "start_time": "2021-11-16T11:01:41.201Z"
   },
   {
    "duration": 116,
    "start_time": "2021-11-16T11:01:48.754Z"
   },
   {
    "duration": 3,
    "start_time": "2021-11-16T11:02:16.685Z"
   },
   {
    "duration": 3,
    "start_time": "2021-11-16T11:02:19.479Z"
   },
   {
    "duration": 3,
    "start_time": "2021-11-16T11:02:47.067Z"
   },
   {
    "duration": 3,
    "start_time": "2021-11-16T11:02:49.353Z"
   },
   {
    "duration": 3,
    "start_time": "2021-11-16T11:03:07.835Z"
   },
   {
    "duration": 3,
    "start_time": "2021-11-16T11:03:07.953Z"
   },
   {
    "duration": 112,
    "start_time": "2021-11-16T11:07:52.072Z"
   },
   {
    "duration": 187,
    "start_time": "2021-11-16T11:09:23.468Z"
   },
   {
    "duration": 4,
    "start_time": "2021-11-16T11:10:01.455Z"
   },
   {
    "duration": 3,
    "start_time": "2021-11-16T11:10:05.069Z"
   },
   {
    "duration": 4,
    "start_time": "2021-11-16T11:10:13.376Z"
   },
   {
    "duration": 3,
    "start_time": "2021-11-16T11:10:14.434Z"
   },
   {
    "duration": 3,
    "start_time": "2021-11-16T11:10:22.853Z"
   },
   {
    "duration": 4,
    "start_time": "2021-11-16T11:27:29.279Z"
   },
   {
    "duration": 4,
    "start_time": "2021-11-16T11:29:08.919Z"
   },
   {
    "duration": 118,
    "start_time": "2021-11-16T11:29:46.703Z"
   },
   {
    "duration": 437,
    "start_time": "2021-11-16T11:36:02.181Z"
   },
   {
    "duration": 157,
    "start_time": "2021-11-16T11:36:14.388Z"
   },
   {
    "duration": 207,
    "start_time": "2021-11-16T11:47:15.898Z"
   },
   {
    "duration": 3,
    "start_time": "2021-11-16T11:53:52.092Z"
   },
   {
    "duration": 3,
    "start_time": "2021-11-16T11:53:52.236Z"
   },
   {
    "duration": 3,
    "start_time": "2021-11-16T11:59:12.005Z"
   },
   {
    "duration": 112,
    "start_time": "2021-11-16T12:00:33.446Z"
   },
   {
    "duration": 3,
    "start_time": "2021-11-16T12:02:14.453Z"
   },
   {
    "duration": 3,
    "start_time": "2021-11-16T12:02:39.512Z"
   },
   {
    "duration": 106,
    "start_time": "2021-11-16T12:03:03.460Z"
   },
   {
    "duration": 3,
    "start_time": "2021-11-17T20:37:21.139Z"
   },
   {
    "duration": 3,
    "start_time": "2021-11-17T20:37:22.229Z"
   },
   {
    "duration": 3,
    "start_time": "2021-11-17T20:38:38.806Z"
   },
   {
    "duration": 3,
    "start_time": "2021-11-17T20:38:41.958Z"
   },
   {
    "duration": 3,
    "start_time": "2021-11-17T20:43:46.551Z"
   },
   {
    "duration": 4,
    "start_time": "2021-11-17T20:58:21.835Z"
   },
   {
    "duration": 3,
    "start_time": "2021-11-17T20:59:21.872Z"
   },
   {
    "duration": 4,
    "start_time": "2021-11-17T20:59:45.352Z"
   },
   {
    "duration": 4,
    "start_time": "2021-11-17T20:59:49.646Z"
   },
   {
    "duration": 159,
    "start_time": "2021-11-17T21:02:26.949Z"
   },
   {
    "duration": 3,
    "start_time": "2021-11-17T21:03:53.461Z"
   },
   {
    "duration": 3,
    "start_time": "2021-11-17T21:03:53.694Z"
   },
   {
    "duration": 3,
    "start_time": "2021-11-17T21:05:28.145Z"
   },
   {
    "duration": 116,
    "start_time": "2021-11-17T21:05:57.787Z"
   },
   {
    "duration": 3,
    "start_time": "2021-11-17T21:06:37.993Z"
   },
   {
    "duration": 3,
    "start_time": "2021-11-17T21:06:38.261Z"
   },
   {
    "duration": 3,
    "start_time": "2021-11-17T21:11:54.358Z"
   },
   {
    "duration": 3,
    "start_time": "2021-11-17T21:12:43.846Z"
   },
   {
    "duration": 4,
    "start_time": "2021-11-17T21:13:08.773Z"
   },
   {
    "duration": 3,
    "start_time": "2021-11-17T21:14:44.441Z"
   },
   {
    "duration": 3,
    "start_time": "2021-11-17T21:15:42.059Z"
   },
   {
    "duration": 4,
    "start_time": "2021-11-17T21:15:51.995Z"
   },
   {
    "duration": 3,
    "start_time": "2021-11-17T21:15:53.923Z"
   },
   {
    "duration": 3,
    "start_time": "2021-11-17T21:15:55.282Z"
   },
   {
    "duration": 3,
    "start_time": "2021-11-17T21:16:28.492Z"
   },
   {
    "duration": 3,
    "start_time": "2021-11-17T21:16:32.603Z"
   },
   {
    "duration": 3,
    "start_time": "2021-11-17T21:17:06.941Z"
   },
   {
    "duration": 98,
    "start_time": "2021-11-17T21:18:05.733Z"
   },
   {
    "duration": 4,
    "start_time": "2021-11-17T21:21:35.255Z"
   },
   {
    "duration": 3,
    "start_time": "2021-11-17T21:21:37.804Z"
   },
   {
    "duration": 4,
    "start_time": "2021-11-17T21:23:06.071Z"
   },
   {
    "duration": 3,
    "start_time": "2021-11-17T21:23:24.799Z"
   },
   {
    "duration": 3,
    "start_time": "2021-11-17T21:23:32.591Z"
   },
   {
    "duration": 98,
    "start_time": "2021-11-17T21:28:31.559Z"
   },
   {
    "duration": 3,
    "start_time": "2021-11-17T21:28:45.448Z"
   },
   {
    "duration": 3,
    "start_time": "2021-11-17T21:29:17.303Z"
   },
   {
    "duration": 3,
    "start_time": "2021-11-17T21:29:29.617Z"
   },
   {
    "duration": 3,
    "start_time": "2021-11-17T21:29:32.681Z"
   },
   {
    "duration": 3,
    "start_time": "2021-11-17T21:36:11.474Z"
   },
   {
    "duration": 3,
    "start_time": "2021-11-17T21:36:14.791Z"
   },
   {
    "duration": 3,
    "start_time": "2021-11-17T21:36:53.943Z"
   },
   {
    "duration": 3,
    "start_time": "2021-11-17T21:36:56.165Z"
   },
   {
    "duration": 4,
    "start_time": "2021-11-17T21:37:16.590Z"
   },
   {
    "duration": 3,
    "start_time": "2021-11-17T21:37:22.702Z"
   },
   {
    "duration": 4,
    "start_time": "2021-11-17T21:38:03.479Z"
   },
   {
    "duration": 3,
    "start_time": "2021-11-17T21:38:08.601Z"
   },
   {
    "duration": 3,
    "start_time": "2021-11-17T21:38:12.928Z"
   },
   {
    "duration": 3,
    "start_time": "2021-11-17T21:38:48.896Z"
   },
   {
    "duration": 2,
    "start_time": "2021-11-17T21:38:49.171Z"
   },
   {
    "duration": 4,
    "start_time": "2021-11-17T21:39:57.889Z"
   },
   {
    "duration": 3,
    "start_time": "2021-11-17T21:39:58.057Z"
   },
   {
    "duration": 3,
    "start_time": "2021-11-17T21:41:20.108Z"
   },
   {
    "duration": 3,
    "start_time": "2021-11-17T21:41:20.629Z"
   },
   {
    "duration": 3,
    "start_time": "2021-11-17T21:42:49.136Z"
   },
   {
    "duration": 3,
    "start_time": "2021-11-17T21:43:15.137Z"
   },
   {
    "duration": 4,
    "start_time": "2021-11-17T21:43:16.766Z"
   },
   {
    "duration": 4,
    "start_time": "2021-11-17T21:43:31.711Z"
   },
   {
    "duration": 3,
    "start_time": "2021-11-17T21:43:36.312Z"
   },
   {
    "duration": 4,
    "start_time": "2021-11-17T21:45:08.825Z"
   },
   {
    "duration": 4,
    "start_time": "2021-11-17T21:45:10.119Z"
   },
   {
    "duration": 4,
    "start_time": "2021-11-17T21:45:13.748Z"
   },
   {
    "duration": 3,
    "start_time": "2021-11-17T21:45:22.219Z"
   },
   {
    "duration": 3,
    "start_time": "2021-11-17T21:45:33.412Z"
   },
   {
    "duration": 2,
    "start_time": "2021-11-17T21:46:01.885Z"
   },
   {
    "duration": 3,
    "start_time": "2021-11-17T21:46:03.628Z"
   },
   {
    "duration": 107,
    "start_time": "2021-11-17T21:47:32.512Z"
   },
   {
    "duration": 103,
    "start_time": "2021-11-17T21:50:36.243Z"
   },
   {
    "duration": 3,
    "start_time": "2021-11-18T06:28:31.440Z"
   },
   {
    "duration": 3,
    "start_time": "2021-11-18T06:29:00.168Z"
   },
   {
    "duration": 3,
    "start_time": "2021-11-18T06:31:27.008Z"
   },
   {
    "duration": 2,
    "start_time": "2021-11-18T06:35:34.288Z"
   },
   {
    "duration": 2,
    "start_time": "2021-11-18T06:38:04.527Z"
   }
  ],
  "colab": {
   "provenance": []
  },
  "kernelspec": {
   "display_name": "Python 3 (ipykernel)",
   "language": "python",
   "name": "python3"
  },
  "language_info": {
   "codemirror_mode": {
    "name": "ipython",
    "version": 3
   },
   "file_extension": ".py",
   "mimetype": "text/x-python",
   "name": "python",
   "nbconvert_exporter": "python",
   "pygments_lexer": "ipython3",
   "version": "3.9.5"
  },
  "toc": {
   "base_numbering": 1,
   "nav_menu": {},
   "number_sections": true,
   "sideBar": true,
   "skip_h1_title": false,
   "title_cell": "Table of Contents",
   "title_sidebar": "Contents",
   "toc_cell": false,
   "toc_position": {
    "height": "calc(100% - 180px)",
    "left": "10px",
    "top": "150px",
    "width": "165px"
   },
   "toc_section_display": true,
   "toc_window_display": true
  }
 },
 "nbformat": 4,
 "nbformat_minor": 1
}
